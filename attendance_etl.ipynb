{
 "cells": [
  {
   "cell_type": "code",
   "execution_count": 1,
   "metadata": {},
   "outputs": [
    {
     "name": "stdout",
     "output_type": "stream",
     "text": [
      "(15874, 9)\n",
      "   Absent 10 or more days  Attendance Rate  Average # of Absences  \\\n",
      "0                     5.7             97.1                    3.1   \n",
      "1                    17.9             94.5                    6.1   \n",
      "2                    20.2             94.6                    5.9   \n",
      "3                     9.1             96.2                    4.1   \n",
      "4                    11.5             95.8                    4.8   \n",
      "\n",
      "   Chronically Absent (10% or more) District Code  \\\n",
      "0                               3.5      04450000   \n",
      "1                              12.7      00010000   \n",
      "2                              14.9      04120000   \n",
      "3                               7.6      06000000   \n",
      "4                               7.3      00030000   \n",
      "\n",
      "                                            district  Unexcused > 9 days  \\\n",
      "0       Abby Kelley Foster Charter Public (District)                 5.7   \n",
      "1                                           Abington                 5.8   \n",
      "2  Academy Of the Pacific Rim Charter Public (Dis...                 0.0   \n",
      "3                                   Acton-Boxborough                 0.0   \n",
      "4                                           Acushnet                 6.2   \n",
      "\n",
      "    group_state     year  \n",
      "0  All Students  2019-20  \n",
      "1  All Students  2019-20  \n",
      "2  All Students  2019-20  \n",
      "3  All Students  2019-20  \n",
      "4  All Students  2019-20  \n"
     ]
    }
   ],
   "source": [
    "# import files\n",
    "import pandas as pd\n",
    "import numpy as np\n",
    "\n",
    "path = './data/studentattendancereport/raw/'\n",
    "\n",
    "years = ['2019-20', '2018-19', '2017-18']\n",
    "groups = ['All Students', 'Female', 'Male', 'Economically Disadvantaged', 'High Needs', 'English learner', 'Low Income', 'Students with disabilities', 'African AmericanBlack', 'American Indian or Alaskan Native', 'Asian', 'Hispanic or Latino', 'Multi-race, non-Hispanic or Latino', 'Native Hawaiian or Pacific Islander', 'White']\n",
    "\n",
    "df = pd.DataFrame()\n",
    "\n",
    "for year in years:\n",
    "    for group in groups:\n",
    "        temp = pd.read_excel(path + 'ma_studentattendancereport_' + group + '_'+ year + '.xlsx', dtype={'District Name':str,'District Code':str,'Attendance Rate':np.float64,'Average # of Absences':np.float64,'Absent 10 or more days':np.float64,'Chronically Absent (10% or more)':np.float64,'Unexcused > 9 days':np.float64},skiprows=[0])\n",
    "        temp['year'] = year\n",
    "        temp['group_state'] = group\n",
    "        df = df.append(temp, ignore_index=True, sort=True)\n",
    "\n",
    "df = df.rename(columns={'District Name': 'district'})\n",
    "        \n",
    "print(df.shape)\n",
    "print(df.head(5))"
   ]
  },
  {
   "cell_type": "code",
   "execution_count": 2,
   "metadata": {},
   "outputs": [
    {
     "name": "stdout",
     "output_type": "stream",
     "text": [
      "(15874, 9)\n",
      "(15835, 9)\n",
      "(15794, 9)\n",
      "(15794, 9)\n",
      "(15768, 9)\n",
      "(15729, 9)\n",
      "(15729, 9)\n",
      "(15717, 9)\n",
      "(15677, 9)\n",
      "(15635, 9)\n",
      "(15599, 9)\n"
     ]
    }
   ],
   "source": [
    "# add manual data changes\n",
    "print(df.shape)\n",
    "df = df[df['District Code'] != '04070000']\n",
    "print(df.shape)\n",
    "df = df[df['District Code'] != '04110000']\n",
    "print(df.shape)\n",
    "df = df[df['District Code'] != '04230000']\n",
    "print(df.shape)\n",
    "df = df[df['District Code'] != '04270000']\n",
    "print(df.shape)\n",
    "df = df[df['District Code'] != '04520000']\n",
    "print(df.shape)\n",
    "df = df[df['District Code'] != '04710000']\n",
    "print(df.shape)\n",
    "df = df[df['District Code'] != '04770000']\n",
    "print(df.shape)\n",
    "df = df[df['District Code'] != '04800000']\n",
    "print(df.shape)\n",
    "df = df[df['District Code'] != '35050000']\n",
    "print(df.shape)\n",
    "df = df[df['District Code'] != '35110000']\n",
    "print(df.shape)"
   ]
  },
  {
   "cell_type": "code",
   "execution_count": 3,
   "metadata": {},
   "outputs": [
    {
     "name": "stdout",
     "output_type": "stream",
     "text": [
      "(15599, 9)\n",
      "(15557, 9)\n",
      "(15557, 9)\n"
     ]
    }
   ],
   "source": [
    "# remove district totals & Horace Mann\n",
    "print(df.shape)\n",
    "df = df[df['District Code'] != '00000000']\n",
    "print(df.shape)\n",
    "df = df[~df['district'].str.contains('Horace Mann')]\n",
    "print(df.shape)"
   ]
  },
  {
   "cell_type": "code",
   "execution_count": 4,
   "metadata": {},
   "outputs": [
    {
     "name": "stdout",
     "output_type": "stream",
     "text": [
      "      year District Code                                           district  \\\n",
      "0  2019-20      04450000       Abby Kelley Foster Charter Public (District)   \n",
      "1  2019-20      00010000                                           Abington   \n",
      "2  2019-20      04120000  Academy Of the Pacific Rim Charter Public (Dis...   \n",
      "3  2019-20      06000000                                   Acton-Boxborough   \n",
      "4  2019-20      00030000                                           Acushnet   \n",
      "\n",
      "    group_state                  metric  value  \n",
      "0  All Students  Absent 10 or more days    5.7  \n",
      "1  All Students  Absent 10 or more days   17.9  \n",
      "2  All Students  Absent 10 or more days   20.2  \n",
      "3  All Students  Absent 10 or more days    9.1  \n",
      "4  All Students  Absent 10 or more days   11.5  \n"
     ]
    }
   ],
   "source": [
    "# reshape data\n",
    "id_vars = ['year', 'District Code', 'district', 'group_state']\n",
    "value_vars = ['Absent 10 or more days', 'Attendance Rate', 'Average # of Absences', 'Chronically Absent (10% or more)', 'Unexcused > 9 days']\n",
    "df = pd.melt(df, id_vars = id_vars, value_vars = value_vars, var_name = 'metric', value_name = 'value')\n",
    "print(df.head(5))"
   ]
  },
  {
   "cell_type": "code",
   "execution_count": 5,
   "metadata": {},
   "outputs": [
    {
     "name": "stdout",
     "output_type": "stream",
     "text": [
      "(77785, 6)\n",
      "(69090, 6)\n"
     ]
    }
   ],
   "source": [
    "# drop rows with null values\n",
    "print(df.shape)\n",
    "df = df.dropna(subset=['value'])\n",
    "print(df.shape)"
   ]
  },
  {
   "cell_type": "code",
   "execution_count": 6,
   "metadata": {},
   "outputs": [
    {
     "name": "stdout",
     "output_type": "stream",
     "text": [
      "0    0445\n",
      "1    0001\n",
      "2    0412\n",
      "3    0600\n",
      "4    0003\n",
      "Name: district_id, dtype: object\n"
     ]
    }
   ],
   "source": [
    "# remove last four digits of school code\n",
    "df['district_id'] = df.apply(lambda x: x['District Code'][:4], axis = 1)\n",
    "del df['District Code']\n",
    "print(df['district_id'].drop_duplicates().head(5))"
   ]
  },
  {
   "cell_type": "code",
   "execution_count": 7,
   "metadata": {},
   "outputs": [
    {
     "name": "stdout",
     "output_type": "stream",
     "text": [
      "year            object\n",
      "district        object\n",
      "group_state     object\n",
      "metric          object\n",
      "value          float64\n",
      "district_id     object\n",
      "dtype: object\n",
      "year            object\n",
      "district        object\n",
      "group_state     object\n",
      "metric          object\n",
      "value          float64\n",
      "district_id      int64\n",
      "dtype: object\n"
     ]
    }
   ],
   "source": [
    "print(df.dtypes)\n",
    "df['district_id'] = df['district_id'].astype('int64')\n",
    "print(df.dtypes)"
   ]
  },
  {
   "cell_type": "code",
   "execution_count": 8,
   "metadata": {},
   "outputs": [
    {
     "name": "stdout",
     "output_type": "stream",
     "text": [
      "(69090, 5)\n",
      "(69090, 6)\n"
     ]
    }
   ],
   "source": [
    "# use most recent district name per district_id\n",
    "df_leas = df[['year', 'district_id', 'district']]\n",
    "df_leas = df_leas.sort_values(['year', 'district_id', 'district'], ascending = False)\n",
    "df_leas = df_leas.drop_duplicates(subset=['district_id'])\n",
    "del df_leas['year']\n",
    "\n",
    "# join back to df\n",
    "del df['district']\n",
    "print(df.shape)\n",
    "df = df.merge(df_leas, on = ['district_id'])\n",
    "print(df.shape)"
   ]
  },
  {
   "cell_type": "code",
   "execution_count": 9,
   "metadata": {},
   "outputs": [
    {
     "name": "stdout",
     "output_type": "stream",
     "text": [
      "(69090, 6)\n",
      "(69090, 7)\n",
      "      year                 group_state                  metric  value  \\\n",
      "0  2019-20                All Students  Absent 10 or more days    5.7   \n",
      "1  2019-20                      Female  Absent 10 or more days    6.1   \n",
      "2  2019-20                        Male  Absent 10 or more days    5.3   \n",
      "3  2019-20  Economically Disadvantaged  Absent 10 or more days    8.8   \n",
      "4  2019-20                  High Needs  Absent 10 or more days    7.4   \n",
      "\n",
      "   district_id                                      district  charter_flag  \n",
      "0          445  Abby Kelley Foster Charter Public (District)           1.0  \n",
      "1          445  Abby Kelley Foster Charter Public (District)           1.0  \n",
      "2          445  Abby Kelley Foster Charter Public (District)           1.0  \n",
      "3          445  Abby Kelley Foster Charter Public (District)           1.0  \n",
      "4          445  Abby Kelley Foster Charter Public (District)           1.0  \n"
     ]
    }
   ],
   "source": [
    "# import file for charter flag\n",
    "df_flags = pd.read_csv('./data/finalized/charter_to_district.csv')\n",
    "df_flags = df_flags[df_flags.fy.eq('fy21')]\n",
    "\n",
    "df_flags = df_flags[['charter_lea_code']].drop_duplicates()\n",
    "df_flags = df_flags.rename(columns={'charter_lea_code': 'district_id'})\n",
    "df_flags['charter_flag'] = 1\n",
    "\n",
    "print(df.shape)\n",
    "df = df.merge(df_flags, on = ['district_id'], how = 'left')\n",
    "del df_flags\n",
    "print(df.shape)\n",
    "print(df.head(5))"
   ]
  },
  {
   "cell_type": "code",
   "execution_count": 10,
   "metadata": {},
   "outputs": [
    {
     "name": "stdout",
     "output_type": "stream",
     "text": [
      "0     2019-20\n",
      "12    2018-19\n",
      "24    2017-18\n",
      "Name: year, dtype: object\n",
      "0     2020\n",
      "12    2019\n",
      "24    2018\n",
      "Name: year, dtype: object\n"
     ]
    }
   ],
   "source": [
    "# edit year field\n",
    "print(df['year'].drop_duplicates())\n",
    "df['year'] = ['20' + x[-2:] for x in df['year']]\n",
    "print(df['year'].drop_duplicates())"
   ]
  },
  {
   "cell_type": "code",
   "execution_count": 11,
   "metadata": {},
   "outputs": [
    {
     "name": "stdout",
     "output_type": "stream",
     "text": [
      "   Charter LEA ID                                   Charter LEA Name  \\\n",
      "0         4070405  Dudley Street Neighborhood Charter School (Dis...   \n",
      "1         4090205  Alma del Mar Charter School (District) - Alma ...   \n",
      "2         4100205  Excel Academy Charter (District) - Excel Acade...   \n",
      "3         4110305  Boston Green Academy Horace Mann Charter Schoo...   \n",
      "4         4120530  Academy Of the Pacific Rim Charter Public (Dis...   \n",
      "\n",
      "  Regional Affiliation/s Geographic Location/s  \n",
      "0                 Boston                Boston  \n",
      "1                Gateway          Southeastern  \n",
      "2                 Boston                Boston  \n",
      "3                 Boston                Boston  \n",
      "4                 Boston                Boston  \n",
      "(69090, 7)\n",
      "(71615, 9)\n"
     ]
    }
   ],
   "source": [
    "# join charter reg and geo file\n",
    "df_reg = pd.read_csv('./data/finalized/MCPSA Charter Reg and Geo Affiliations.csv')\n",
    "df_reg = df_reg[['Charter LEA ID', 'Charter LEA Name', 'Regional Affiliation/s', 'Geographic Location/s']]\n",
    "print(df_reg.head(5))\n",
    "df_reg['district_id'] = df_reg.apply(lambda x: int(x['Charter LEA ID'] / 10000), axis = 1)\n",
    "del df_reg['Charter LEA ID']\n",
    "del df_reg['Charter LEA Name']\n",
    "\n",
    "print(df.shape)\n",
    "df = df.merge(df_reg, on=['district_id'], how='left')\n",
    "print(df.shape)"
   ]
  },
  {
   "cell_type": "code",
   "execution_count": 12,
   "metadata": {},
   "outputs": [
    {
     "name": "stdout",
     "output_type": "stream",
     "text": [
      "fy                            object\n",
      "year                           int64\n",
      "charter_lea_code               int64\n",
      "sending_lea_code               int64\n",
      "enrolled_n                     int64\n",
      "physical_charter_location     object\n",
      "chartered_to_serve           float64\n",
      "dtype: object\n",
      "(3513, 7)\n",
      "(966, 7)\n",
      "(198705, 15)\n",
      "(212880, 21)\n",
      "     fy  charter_lea_code  sending_lea_code  enrolled_n  \\\n",
      "0  fy21             409.0               3.0         2.0   \n",
      "1  fy21             496.0               3.0         2.0   \n",
      "2  fy21             409.0               3.0         2.0   \n",
      "3  fy21             496.0               3.0         2.0   \n",
      "4  fy21             409.0               3.0         2.0   \n",
      "\n",
      "  physical_charter_location  chartered_to_serve  year   group_state  \\\n",
      "0                       NaN                 NaN  2020  All Students   \n",
      "1                       NaN                 NaN  2020  All Students   \n",
      "2                       NaN                 NaN  2020        Female   \n",
      "3                       NaN                 NaN  2020        Female   \n",
      "4                       NaN                 NaN  2020          Male   \n",
      "\n",
      "                   metric  value_charter  ...  \\\n",
      "0  Absent 10 or more days           11.5  ...   \n",
      "1  Absent 10 or more days           10.8  ...   \n",
      "2  Absent 10 or more days           10.2  ...   \n",
      "3  Absent 10 or more days           10.6  ...   \n",
      "4  Absent 10 or more days           13.0  ...   \n",
      "\n",
      "                            district_charter charter_flag_charter  \\\n",
      "0     Alma del Mar Charter School (District)                  1.0   \n",
      "1  Global Learning Charter Public (District)                  1.0   \n",
      "2     Alma del Mar Charter School (District)                  1.0   \n",
      "3  Global Learning Charter Public (District)                  1.0   \n",
      "4     Alma del Mar Charter School (District)                  1.0   \n",
      "\n",
      "   Regional Affiliation/s_charter Geographic Location/s_charter  \\\n",
      "0                         Gateway                  Southeastern   \n",
      "1                         Gateway                  Southeastern   \n",
      "2                         Gateway                  Southeastern   \n",
      "3                         Gateway                  Southeastern   \n",
      "4                         Gateway                  Southeastern   \n",
      "\n",
      "  value_district  district_id_district  district_district  \\\n",
      "0           11.5                   3.0           Acushnet   \n",
      "1           11.5                   3.0           Acushnet   \n",
      "2           11.1                   3.0           Acushnet   \n",
      "3           11.1                   3.0           Acushnet   \n",
      "4           11.9                   3.0           Acushnet   \n",
      "\n",
      "  charter_flag_district  Regional Affiliation/s_district  \\\n",
      "0                   NaN                              NaN   \n",
      "1                   NaN                              NaN   \n",
      "2                   NaN                              NaN   \n",
      "3                   NaN                              NaN   \n",
      "4                   NaN                              NaN   \n",
      "\n",
      "  Geographic Location/s_district  \n",
      "0                            NaN  \n",
      "1                            NaN  \n",
      "2                            NaN  \n",
      "3                            NaN  \n",
      "4                            NaN  \n",
      "\n",
      "[5 rows x 21 columns]\n"
     ]
    }
   ],
   "source": [
    "# join charter_to_district data for calculating multipliers\n",
    "df_mult = pd.read_csv('./data/finalized/charter_to_district.csv')\n",
    "print(df_mult.dtypes)\n",
    "# df_totals = df_mult.groupby(['year', 'charter_lea_code'], as_index = False)['enrolled_n'].sum()\n",
    "# df_totals = df_totals.rename(columns={'enrolled_n':'total_enrolled'})\n",
    "# df_mult = df_mult.merge(df_totals, on=['year', 'sending_lea_code'])\n",
    "print(df_mult.shape)\n",
    "# df_mult['multiplier'] = df_mult['enrolled_n'] / df_mult['total_enrolled']\n",
    "\n",
    "# filter to just fy21, since we're missing many years in the data\n",
    "df_mult = df_mult[df_mult.fy.eq('fy21')]\n",
    "print(df_mult.shape)\n",
    "del df_mult['year']\n",
    "\n",
    "df_charter = df[df['charter_flag'] == 1]\n",
    "df_district = df[df['charter_flag'] != 1]\n",
    "\n",
    "df_mult = df_mult.merge(df_charter, left_on=['charter_lea_code'], right_on = ['district_id'], how='left')\n",
    "print(df_mult.shape)\n",
    "df_mult = df_mult.merge(df_district, left_on=['sending_lea_code', 'year', 'group_state', 'metric'], right_on = ['district_id', 'year','group_state', 'metric'], how='outer', suffixes=['_charter', '_district'])\n",
    "print(df_mult.shape)\n",
    "print(df_mult.head(5))"
   ]
  },
  {
   "cell_type": "code",
   "execution_count": 13,
   "metadata": {},
   "outputs": [],
   "source": [
    "# review grade/group/year breakdown of data\n",
    "# df.groupby(['year', 'grade', 'group_state'])['num'].sum().to_csv('temp.csv')"
   ]
  },
  {
   "cell_type": "code",
   "execution_count": 14,
   "metadata": {},
   "outputs": [],
   "source": [
    "# export attendance dataset for QA\n",
    "df.to_csv('./data/finalized/attendance.csv')"
   ]
  },
  {
   "cell_type": "code",
   "execution_count": 15,
   "metadata": {},
   "outputs": [],
   "source": [
    "# export final dataset\n",
    "df_mult.to_csv('./data/finalized/attendance_with_multipliers.csv', index=False)"
   ]
  },
  {
   "cell_type": "code",
   "execution_count": null,
   "metadata": {},
   "outputs": [],
   "source": []
  }
 ],
 "metadata": {
  "kernelspec": {
   "display_name": "Python 3",
   "language": "python",
   "name": "python3"
  },
  "language_info": {
   "codemirror_mode": {
    "name": "ipython",
    "version": 3
   },
   "file_extension": ".py",
   "mimetype": "text/x-python",
   "name": "python",
   "nbconvert_exporter": "python",
   "pygments_lexer": "ipython3",
   "version": "3.7.3"
  }
 },
 "nbformat": 4,
 "nbformat_minor": 4
}
