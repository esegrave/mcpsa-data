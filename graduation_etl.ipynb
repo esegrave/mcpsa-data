{
 "cells": [
  {
   "cell_type": "code",
   "execution_count": 1,
   "metadata": {},
   "outputs": [
    {
     "name": "stdout",
     "output_type": "stream",
     "text": [
      "(94597, 12)\n",
      "   # in Cohort  % Dropped Out  % Graduated  % H.S. Equiv.  \\\n",
      "0         84.0            2.4         97.6            0.0   \n",
      "1        122.0            6.6         89.3            0.0   \n",
      "2         40.0            0.0         95.0            0.0   \n",
      "3        503.0            0.8         96.6            0.2   \n",
      "4         88.0            4.5         89.8            2.3   \n",
      "\n",
      "   % Non-Grad Completers  % Permanently Excluded  % Still in School  \\\n",
      "0                    0.0                     0.0                0.0   \n",
      "1                    0.8                     0.0                3.3   \n",
      "2                    0.0                     0.0                5.0   \n",
      "3                    0.0                     0.0                2.4   \n",
      "4                    1.1                     0.0                2.3   \n",
      "\n",
      "  District Code                                           district  \\\n",
      "0      04450000       Abby Kelley Foster Charter Public (District)   \n",
      "1      00010000                                           Abington   \n",
      "2      04120000  Academy Of the Pacific Rim Charter Public (Dis...   \n",
      "3      06000000                                   Acton-Boxborough   \n",
      "4      06030000                                     Adams-Cheshire   \n",
      "\n",
      "    group_state    metric  year  \n",
      "0  All Students  4yr Grad  2019  \n",
      "1  All Students  4yr Grad  2019  \n",
      "2  All Students  4yr Grad  2019  \n",
      "3  All Students  4yr Grad  2019  \n",
      "4  All Students  4yr Grad  2019  \n"
     ]
    }
   ],
   "source": [
    "# import files\n",
    "import pandas as pd\n",
    "import numpy as np\n",
    "\n",
    "path = './data/graduation/raw/'\n",
    "\n",
    "years = ['2019', '2018', '2017', '2016', '2015', '2014', '2013', '2012', '2011', '2010']\n",
    "gradrates = ['4yr Grad', '4yr Grad Adjusted', '5yr Grad', '5yr Grad Adjusted']\n",
    "groups = ['All Students', 'Female', 'Male', 'High Needs', 'English Learner', 'Low Income', 'Students with disabilities', 'African AmericanBlack', 'American Indian or Alaskan Native', 'Asian', 'Hispanic or Latino', 'Multi-race, non-Hispanic or Latino', 'Native Hawaiian or Pacific Islander', 'White']\n",
    "\n",
    "df = pd.DataFrame()\n",
    "\n",
    "for year in years:\n",
    "    for gradrate in gradrates:\n",
    "        for group in groups:\n",
    "            temp = pd.read_excel(path + 'ma_graduation_' + gradrate + '_' + group + '_'+ year + '.xlsx', dtype={'District Name':str,'District Code':str,'# in Cohort':np.float64,'% Graduated':np.float64,'% Still in School':np.float64,'% Non-Grad Completers':np.float64,'% H.S. Equiv.':np.float64,'% Dropped Out':np.float64,'% Permanently Excluded':np.float64},skiprows=[0], thousands=',')\n",
    "            temp['year'] = year\n",
    "            temp['metric'] = gradrate\n",
    "            temp['group_state'] = group\n",
    "            df = df.append(temp, ignore_index=True, sort=True)\n",
    "\n",
    "df = df.rename(columns={'District Name': 'district'})\n",
    "        \n",
    "print(df.shape)\n",
    "print(df.head(5))"
   ]
  },
  {
   "cell_type": "code",
   "execution_count": 2,
   "metadata": {},
   "outputs": [
    {
     "name": "stdout",
     "output_type": "stream",
     "text": [
      "(94597, 12)\n",
      "(94597, 12)\n",
      "(94363, 12)\n",
      "(94363, 12)\n",
      "(94363, 12)\n",
      "(94060, 12)\n",
      "(93950, 12)\n",
      "(93950, 12)\n",
      "(93950, 12)\n",
      "(93950, 12)\n",
      "(93950, 12)\n"
     ]
    }
   ],
   "source": [
    "# add manual data changes\n",
    "print(df.shape)\n",
    "df = df[df['District Code'] != '04070000']\n",
    "print(df.shape)\n",
    "df = df[df['District Code'] != '04110000']\n",
    "print(df.shape)\n",
    "df = df[df['District Code'] != '04230000']\n",
    "print(df.shape)\n",
    "df = df[df['District Code'] != '04270000']\n",
    "print(df.shape)\n",
    "df = df[df['District Code'] != '04520000']\n",
    "print(df.shape)\n",
    "df = df[df['District Code'] != '04710000']\n",
    "print(df.shape)\n",
    "df = df[df['District Code'] != '04770000']\n",
    "print(df.shape)\n",
    "df = df[df['District Code'] != '04800000']\n",
    "print(df.shape)\n",
    "df = df[df['District Code'] != '35050000']\n",
    "print(df.shape)\n",
    "df = df[df['District Code'] != '35110000']\n",
    "print(df.shape)"
   ]
  },
  {
   "cell_type": "code",
   "execution_count": 3,
   "metadata": {},
   "outputs": [
    {
     "name": "stdout",
     "output_type": "stream",
     "text": [
      "(93950, 12)\n",
      "(93686, 12)\n",
      "(93686, 12)\n"
     ]
    }
   ],
   "source": [
    "# remove district totals & Horace Mann\n",
    "print(df.shape)\n",
    "df = df[df['District Code'] != '00000000']\n",
    "print(df.shape)\n",
    "df = df[~df['district'].str.contains('Horace Mann')]\n",
    "print(df.shape)"
   ]
  },
  {
   "cell_type": "code",
   "execution_count": 4,
   "metadata": {},
   "outputs": [
    {
     "name": "stdout",
     "output_type": "stream",
     "text": [
      "(93686, 12)\n",
      "(93686, 12)\n"
     ]
    }
   ],
   "source": [
    "# drop rows with null values\n",
    "print(df.shape)\n",
    "df = df.dropna(subset=['# in Cohort', '% Dropped Out', '% Graduated', '% H.S. Equiv.',\n",
    "       '% Non-Grad Completers', '% Permanently Excluded', '% Still in School'], how='all')\n",
    "print(df.shape)"
   ]
  },
  {
   "cell_type": "code",
   "execution_count": 5,
   "metadata": {},
   "outputs": [
    {
     "name": "stdout",
     "output_type": "stream",
     "text": [
      "Index(['# in Cohort', '% Dropped Out', '% Graduated', '% H.S. Equiv.',\n",
      "       '% Non-Grad Completers', '% Permanently Excluded', '% Still in School',\n",
      "       'District Code', 'district', 'group_state', 'metric', 'year'],\n",
      "      dtype='object')\n"
     ]
    }
   ],
   "source": [
    "print(df.columns)"
   ]
  },
  {
   "cell_type": "code",
   "execution_count": 6,
   "metadata": {},
   "outputs": [
    {
     "name": "stdout",
     "output_type": "stream",
     "text": [
      "(93686, 12)\n",
      "(25436, 11)\n",
      "(23851, 11)\n",
      "(22907, 11)\n",
      "(21492, 11)\n",
      "(25719, 32)\n",
      "Index(['# in Cohort', '% Dropped Out', '% Graduated', '% H.S. Equiv.',\n",
      "       '% Non-Grad Completers', '% Permanently Excluded', '% Still in School',\n",
      "       'District Code', 'district', 'group_state', 'year',\n",
      "       '# in Cohort4yr_adjusted', '% Dropped Out4yr_adjusted',\n",
      "       '% Graduated4yr_adjusted', '% H.S. Equiv.4yr_adjusted',\n",
      "       '% Non-Grad Completers4yr_adjusted',\n",
      "       '% Permanently Excluded4yr_adjusted', '% Still in School4yr_adjusted',\n",
      "       '# in Cohort5yr', '% Dropped Out5yr', '% Graduated5yr',\n",
      "       '% H.S. Equiv.5yr', '% Non-Grad Completers5yr',\n",
      "       '% Permanently Excluded5yr', '% Still in School5yr',\n",
      "       '# in Cohort5yr_adjusted', '% Dropped Out5yr_adjusted',\n",
      "       '% Graduated5yr_adjusted', '% H.S. Equiv.5yr_adjusted',\n",
      "       '% Non-Grad Completers5yr_adjusted',\n",
      "       '% Permanently Excluded5yr_adjusted', '% Still in School5yr_adjusted'],\n",
      "      dtype='object')\n"
     ]
    }
   ],
   "source": [
    "# reshape data from long to wide\n",
    "print(df.shape)\n",
    "df1 = df[df.metric.eq('4yr Grad')]\n",
    "del df1['metric']\n",
    "print(df1.shape)\n",
    "df2 = df[df.metric.eq('4yr Grad Adjusted')]\n",
    "del df2['metric']\n",
    "print(df2.shape)\n",
    "df3 = df[df.metric.eq('5yr Grad')]\n",
    "del df3['metric']\n",
    "print(df3.shape)\n",
    "df4 = df[df.metric.eq('5yr Grad Adjusted')]\n",
    "del df4['metric']\n",
    "print(df4.shape)\n",
    "\n",
    "df_new = df1.merge(df2, on=['district', 'group_state', 'year', 'District Code'], how = 'outer', suffixes=('', '4yr_adjusted')).merge(df3, on=['district', 'group_state', 'year', 'District Code'], how = 'outer', suffixes=('', '5yr')).merge(df4, on=['district', 'group_state', 'year', 'District Code'], how = 'outer', suffixes=('', '5yr_adjusted'))\n",
    "print(df_new.shape)\n",
    "print(df_new.columns)\n",
    "del df\n",
    "df = df_new\n",
    "del df_new"
   ]
  },
  {
   "cell_type": "code",
   "execution_count": 7,
   "metadata": {},
   "outputs": [
    {
     "name": "stdout",
     "output_type": "stream",
     "text": [
      "0    0445\n",
      "1    0001\n",
      "2    0412\n",
      "3    0600\n",
      "4    0603\n",
      "Name: district_id, dtype: object\n"
     ]
    }
   ],
   "source": [
    "# remove last four digits of school code\n",
    "df['district_id'] = df.apply(lambda x: x['District Code'][:4], axis = 1)\n",
    "del df['District Code']\n",
    "print(df['district_id'].drop_duplicates().head(5))"
   ]
  },
  {
   "cell_type": "code",
   "execution_count": 8,
   "metadata": {},
   "outputs": [
    {
     "name": "stdout",
     "output_type": "stream",
     "text": [
      "# in Cohort                           float64\n",
      "% Dropped Out                         float64\n",
      "% Graduated                           float64\n",
      "% H.S. Equiv.                         float64\n",
      "% Non-Grad Completers                 float64\n",
      "% Permanently Excluded                float64\n",
      "% Still in School                     float64\n",
      "district                               object\n",
      "group_state                            object\n",
      "year                                   object\n",
      "# in Cohort4yr_adjusted               float64\n",
      "% Dropped Out4yr_adjusted             float64\n",
      "% Graduated4yr_adjusted               float64\n",
      "% H.S. Equiv.4yr_adjusted             float64\n",
      "% Non-Grad Completers4yr_adjusted     float64\n",
      "% Permanently Excluded4yr_adjusted    float64\n",
      "% Still in School4yr_adjusted         float64\n",
      "# in Cohort5yr                        float64\n",
      "% Dropped Out5yr                      float64\n",
      "% Graduated5yr                        float64\n",
      "% H.S. Equiv.5yr                      float64\n",
      "% Non-Grad Completers5yr              float64\n",
      "% Permanently Excluded5yr             float64\n",
      "% Still in School5yr                  float64\n",
      "# in Cohort5yr_adjusted               float64\n",
      "% Dropped Out5yr_adjusted             float64\n",
      "% Graduated5yr_adjusted               float64\n",
      "% H.S. Equiv.5yr_adjusted             float64\n",
      "% Non-Grad Completers5yr_adjusted     float64\n",
      "% Permanently Excluded5yr_adjusted    float64\n",
      "% Still in School5yr_adjusted         float64\n",
      "district_id                            object\n",
      "dtype: object\n",
      "# in Cohort                           float64\n",
      "% Dropped Out                         float64\n",
      "% Graduated                           float64\n",
      "% H.S. Equiv.                         float64\n",
      "% Non-Grad Completers                 float64\n",
      "% Permanently Excluded                float64\n",
      "% Still in School                     float64\n",
      "district                               object\n",
      "group_state                            object\n",
      "year                                   object\n",
      "# in Cohort4yr_adjusted               float64\n",
      "% Dropped Out4yr_adjusted             float64\n",
      "% Graduated4yr_adjusted               float64\n",
      "% H.S. Equiv.4yr_adjusted             float64\n",
      "% Non-Grad Completers4yr_adjusted     float64\n",
      "% Permanently Excluded4yr_adjusted    float64\n",
      "% Still in School4yr_adjusted         float64\n",
      "# in Cohort5yr                        float64\n",
      "% Dropped Out5yr                      float64\n",
      "% Graduated5yr                        float64\n",
      "% H.S. Equiv.5yr                      float64\n",
      "% Non-Grad Completers5yr              float64\n",
      "% Permanently Excluded5yr             float64\n",
      "% Still in School5yr                  float64\n",
      "# in Cohort5yr_adjusted               float64\n",
      "% Dropped Out5yr_adjusted             float64\n",
      "% Graduated5yr_adjusted               float64\n",
      "% H.S. Equiv.5yr_adjusted             float64\n",
      "% Non-Grad Completers5yr_adjusted     float64\n",
      "% Permanently Excluded5yr_adjusted    float64\n",
      "% Still in School5yr_adjusted         float64\n",
      "district_id                             int64\n",
      "dtype: object\n"
     ]
    }
   ],
   "source": [
    "print(df.dtypes)\n",
    "df['district_id'] = df['district_id'].astype('int64')\n",
    "print(df.dtypes)"
   ]
  },
  {
   "cell_type": "code",
   "execution_count": 9,
   "metadata": {},
   "outputs": [
    {
     "name": "stdout",
     "output_type": "stream",
     "text": [
      "(25719, 31)\n",
      "(25719, 32)\n"
     ]
    }
   ],
   "source": [
    "# use most recent district name per district_id\n",
    "df_leas = df[['year', 'district_id', 'district']]\n",
    "df_leas = df_leas.sort_values(['year', 'district_id', 'district'], ascending = False)\n",
    "df_leas = df_leas.drop_duplicates(subset=['district_id'])\n",
    "del df_leas['year']\n",
    "\n",
    "# join back to df\n",
    "del df['district']\n",
    "print(df.shape)\n",
    "df = df.merge(df_leas, on = ['district_id'])\n",
    "print(df.shape)"
   ]
  },
  {
   "cell_type": "code",
   "execution_count": 10,
   "metadata": {},
   "outputs": [
    {
     "name": "stdout",
     "output_type": "stream",
     "text": [
      "(25719, 32)\n",
      "(25719, 33)\n",
      "   # in Cohort  % Dropped Out  % Graduated  % H.S. Equiv.  \\\n",
      "0         84.0            2.4         97.6            0.0   \n",
      "1         35.0            0.0        100.0            0.0   \n",
      "2         49.0            4.1         95.9            0.0   \n",
      "3         44.0            2.3         97.7            0.0   \n",
      "4         40.0            2.5         97.5            0.0   \n",
      "\n",
      "   % Non-Grad Completers  % Permanently Excluded  % Still in School  \\\n",
      "0                    0.0                     0.0                0.0   \n",
      "1                    0.0                     0.0                0.0   \n",
      "2                    0.0                     0.0                0.0   \n",
      "3                    0.0                     0.0                0.0   \n",
      "4                    0.0                     0.0                0.0   \n",
      "\n",
      "    group_state  year  # in Cohort4yr_adjusted  ...  # in Cohort5yr_adjusted  \\\n",
      "0  All Students  2019                     84.0  ...                      NaN   \n",
      "1        Female  2019                     35.0  ...                      NaN   \n",
      "2          Male  2019                     49.0  ...                      NaN   \n",
      "3    High Needs  2019                     44.0  ...                      NaN   \n",
      "4    Low Income  2019                     40.0  ...                      NaN   \n",
      "\n",
      "   % Dropped Out5yr_adjusted  % Graduated5yr_adjusted  \\\n",
      "0                        NaN                      NaN   \n",
      "1                        NaN                      NaN   \n",
      "2                        NaN                      NaN   \n",
      "3                        NaN                      NaN   \n",
      "4                        NaN                      NaN   \n",
      "\n",
      "   % H.S. Equiv.5yr_adjusted  % Non-Grad Completers5yr_adjusted  \\\n",
      "0                        NaN                                NaN   \n",
      "1                        NaN                                NaN   \n",
      "2                        NaN                                NaN   \n",
      "3                        NaN                                NaN   \n",
      "4                        NaN                                NaN   \n",
      "\n",
      "   % Permanently Excluded5yr_adjusted  % Still in School5yr_adjusted  \\\n",
      "0                                 NaN                            NaN   \n",
      "1                                 NaN                            NaN   \n",
      "2                                 NaN                            NaN   \n",
      "3                                 NaN                            NaN   \n",
      "4                                 NaN                            NaN   \n",
      "\n",
      "   district_id                                      district  charter_flag  \n",
      "0          445  Abby Kelley Foster Charter Public (District)           1.0  \n",
      "1          445  Abby Kelley Foster Charter Public (District)           1.0  \n",
      "2          445  Abby Kelley Foster Charter Public (District)           1.0  \n",
      "3          445  Abby Kelley Foster Charter Public (District)           1.0  \n",
      "4          445  Abby Kelley Foster Charter Public (District)           1.0  \n",
      "\n",
      "[5 rows x 33 columns]\n"
     ]
    }
   ],
   "source": [
    "# import file for charter flag\n",
    "df_flags = pd.read_csv('./data/finalized/charter_to_district.csv')\n",
    "df_flags = df_flags[df_flags.fy.eq('fy21')]\n",
    "\n",
    "df_flags = df_flags[['charter_lea_code']].drop_duplicates()\n",
    "df_flags = df_flags.rename(columns={'charter_lea_code': 'district_id'})\n",
    "df_flags['charter_flag'] = 1\n",
    "\n",
    "print(df.shape)\n",
    "df = df.merge(df_flags, on = ['district_id'], how = 'left')\n",
    "del df_flags\n",
    "print(df.shape)\n",
    "print(df.head(5))"
   ]
  },
  {
   "cell_type": "code",
   "execution_count": 11,
   "metadata": {},
   "outputs": [
    {
     "name": "stdout",
     "output_type": "stream",
     "text": [
      "0     2019\n",
      "9     2018\n",
      "19    2017\n",
      "28    2016\n",
      "37    2015\n",
      "47    2014\n",
      "57    2013\n",
      "66    2012\n",
      "75    2011\n",
      "83    2010\n",
      "Name: year, dtype: object\n"
     ]
    }
   ],
   "source": [
    "# edit year field\n",
    "# print(df['year'].drop_duplicates())\n",
    "# df['year'] = ['20' + x[-2:] for x in df['year']]\n",
    "print(df['year'].drop_duplicates())"
   ]
  },
  {
   "cell_type": "code",
   "execution_count": 12,
   "metadata": {},
   "outputs": [
    {
     "name": "stdout",
     "output_type": "stream",
     "text": [
      "Index(['# in Cohort', '% Dropped Out', '% Graduated', '% H.S. Equiv.',\n",
      "       '% Non-Grad Completers', '% Permanently Excluded', '% Still in School',\n",
      "       'group_state', 'year', '# in Cohort4yr_adjusted',\n",
      "       '% Dropped Out4yr_adjusted', '% Graduated4yr_adjusted',\n",
      "       '% H.S. Equiv.4yr_adjusted', '% Non-Grad Completers4yr_adjusted',\n",
      "       '% Permanently Excluded4yr_adjusted', '% Still in School4yr_adjusted',\n",
      "       '# in Cohort5yr', '% Dropped Out5yr', '% Graduated5yr',\n",
      "       '% H.S. Equiv.5yr', '% Non-Grad Completers5yr',\n",
      "       '% Permanently Excluded5yr', '% Still in School5yr',\n",
      "       '# in Cohort5yr_adjusted', '% Dropped Out5yr_adjusted',\n",
      "       '% Graduated5yr_adjusted', '% H.S. Equiv.5yr_adjusted',\n",
      "       '% Non-Grad Completers5yr_adjusted',\n",
      "       '% Permanently Excluded5yr_adjusted', '% Still in School5yr_adjusted',\n",
      "       'district_id', 'district', 'charter_flag'],\n",
      "      dtype='object')\n"
     ]
    }
   ],
   "source": [
    "print(df.columns)"
   ]
  },
  {
   "cell_type": "code",
   "execution_count": 13,
   "metadata": {},
   "outputs": [
    {
     "name": "stdout",
     "output_type": "stream",
     "text": [
      "   Charter LEA ID                                   Charter LEA Name  \\\n",
      "0         4070405  Dudley Street Neighborhood Charter School (Dis...   \n",
      "1         4090205  Alma del Mar Charter School (District) - Alma ...   \n",
      "2         4100205  Excel Academy Charter (District) - Excel Acade...   \n",
      "3         4110305  Boston Green Academy Horace Mann Charter Schoo...   \n",
      "4         4120530  Academy Of the Pacific Rim Charter Public (Dis...   \n",
      "\n",
      "  Regional Affiliation/s Geographic Location/s  \n",
      "0                 Boston                Boston  \n",
      "1                Gateway          Southeastern  \n",
      "2                 Boston                Boston  \n",
      "3                 Boston                Boston  \n",
      "4                 Boston                Boston  \n",
      "(25719, 33)\n",
      "(26468, 35)\n"
     ]
    }
   ],
   "source": [
    "# join charter reg and geo file\n",
    "df_reg = pd.read_csv('./data/finalized/MCPSA Charter Reg and Geo Affiliations.csv')\n",
    "df_reg = df_reg[['Charter LEA ID', 'Charter LEA Name', 'Regional Affiliation/s', 'Geographic Location/s']]\n",
    "print(df_reg.head(5))\n",
    "df_reg['district_id'] = df_reg.apply(lambda x: int(x['Charter LEA ID'] / 10000), axis = 1)\n",
    "del df_reg['Charter LEA ID']\n",
    "del df_reg['Charter LEA Name']\n",
    "\n",
    "print(df.shape)\n",
    "df = df.merge(df_reg, on=['district_id'], how='left')\n",
    "print(df.shape)"
   ]
  },
  {
   "cell_type": "code",
   "execution_count": 14,
   "metadata": {},
   "outputs": [
    {
     "name": "stdout",
     "output_type": "stream",
     "text": [
      "fy                            object\n",
      "year                           int64\n",
      "charter_lea_code               int64\n",
      "sending_lea_code               int64\n",
      "enrolled_n                     int64\n",
      "physical_charter_location     object\n",
      "chartered_to_serve           float64\n",
      "dtype: object\n",
      "(3513, 7)\n",
      "(966, 7)\n",
      "(50732, 41)\n",
      "(58840, 74)\n",
      "     fy  charter_lea_code  sending_lea_code  enrolled_n  \\\n",
      "0  fy21             409.0               3.0         2.0   \n",
      "1  fy21             409.0              72.0         1.0   \n",
      "2  fy21            3509.0              72.0         2.0   \n",
      "3  fy21             409.0              94.0         3.0   \n",
      "4  fy21             409.0             201.0       643.0   \n",
      "\n",
      "  physical_charter_location  chartered_to_serve  # in Cohort_charter  \\\n",
      "0                       NaN                 NaN                  NaN   \n",
      "1                       NaN                 NaN                  NaN   \n",
      "2                       NaN                 NaN                  NaN   \n",
      "3                       NaN                 NaN                  NaN   \n",
      "4                         Y                 1.0                  NaN   \n",
      "\n",
      "   % Dropped Out_charter  % Graduated_charter  % H.S. Equiv._charter  ...  \\\n",
      "0                    NaN                  NaN                    NaN  ...   \n",
      "1                    NaN                  NaN                    NaN  ...   \n",
      "2                    NaN                  NaN                    NaN  ...   \n",
      "3                    NaN                  NaN                    NaN  ...   \n",
      "4                    NaN                  NaN                    NaN  ...   \n",
      "\n",
      "   % Graduated5yr_adjusted_district  % H.S. Equiv.5yr_adjusted_district  \\\n",
      "0                               NaN                                 NaN   \n",
      "1                               NaN                                 NaN   \n",
      "2                               NaN                                 NaN   \n",
      "3                               NaN                                 NaN   \n",
      "4                               NaN                                 NaN   \n",
      "\n",
      "   % Non-Grad Completers5yr_adjusted_district  \\\n",
      "0                                         NaN   \n",
      "1                                         NaN   \n",
      "2                                         NaN   \n",
      "3                                         NaN   \n",
      "4                                         NaN   \n",
      "\n",
      "  % Permanently Excluded5yr_adjusted_district  \\\n",
      "0                                         NaN   \n",
      "1                                         NaN   \n",
      "2                                         NaN   \n",
      "3                                         NaN   \n",
      "4                                         NaN   \n",
      "\n",
      "  % Still in School5yr_adjusted_district  district_id_district  \\\n",
      "0                                    NaN                   NaN   \n",
      "1                                    NaN                   NaN   \n",
      "2                                    NaN                   NaN   \n",
      "3                                    NaN                   NaN   \n",
      "4                                    NaN                   NaN   \n",
      "\n",
      "   district_district  charter_flag_district  Regional Affiliation/s_district  \\\n",
      "0                NaN                    NaN                              NaN   \n",
      "1                NaN                    NaN                              NaN   \n",
      "2                NaN                    NaN                              NaN   \n",
      "3                NaN                    NaN                              NaN   \n",
      "4                NaN                    NaN                              NaN   \n",
      "\n",
      "   Geographic Location/s_district  \n",
      "0                             NaN  \n",
      "1                             NaN  \n",
      "2                             NaN  \n",
      "3                             NaN  \n",
      "4                             NaN  \n",
      "\n",
      "[5 rows x 74 columns]\n"
     ]
    }
   ],
   "source": [
    "# join charter_to_district data for calculating multipliers\n",
    "df_mult = pd.read_csv('./data/finalized/charter_to_district.csv')\n",
    "print(df_mult.dtypes)\n",
    "# df_totals = df_mult.groupby(['year', 'charter_lea_code'], as_index = False)['enrolled_n'].sum()\n",
    "# df_totals = df_totals.rename(columns={'enrolled_n':'total_enrolled'})\n",
    "# df_mult = df_mult.merge(df_totals, on=['year', 'sending_lea_code'])\n",
    "print(df_mult.shape)\n",
    "# df_mult['multiplier'] = df_mult['enrolled_n'] / df_mult['total_enrolled']\n",
    "\n",
    "# filter to just fy21, since we're missing many years in the data\n",
    "df_mult = df_mult[df_mult.fy.eq('fy21')]\n",
    "print(df_mult.shape)\n",
    "del df_mult['year']\n",
    "\n",
    "df_charter = df[df['charter_flag'] == 1]\n",
    "df_district = df[df['charter_flag'] != 1]\n",
    "\n",
    "df_mult = df_mult.merge(df_charter, left_on=['charter_lea_code'], right_on = ['district_id'], how='left')\n",
    "print(df_mult.shape)\n",
    "df_mult = df_mult.merge(df_district, left_on=['sending_lea_code', 'year', 'group_state'], right_on = ['district_id', 'year','group_state'], how='outer', suffixes=['_charter', '_district'])\n",
    "print(df_mult.shape)\n",
    "print(df_mult.head(5))"
   ]
  },
  {
   "cell_type": "code",
   "execution_count": 15,
   "metadata": {},
   "outputs": [],
   "source": [
    "# review grade/group/year breakdown of data\n",
    "# df.groupby(['year', 'grade', 'group_state'])['num'].sum().to_csv('temp.csv')"
   ]
  },
  {
   "cell_type": "code",
   "execution_count": 16,
   "metadata": {},
   "outputs": [],
   "source": [
    "# export grad dataset for QA\n",
    "df.to_csv('./data/finalized/graduation.csv')"
   ]
  },
  {
   "cell_type": "code",
   "execution_count": 17,
   "metadata": {},
   "outputs": [],
   "source": [
    "# export final dataset\n",
    "df_mult.to_csv('./data/finalized/graduation_with_multipliers.csv', index=False)"
   ]
  },
  {
   "cell_type": "code",
   "execution_count": null,
   "metadata": {},
   "outputs": [],
   "source": []
  }
 ],
 "metadata": {
  "kernelspec": {
   "display_name": "Python 3",
   "language": "python",
   "name": "python3"
  },
  "language_info": {
   "codemirror_mode": {
    "name": "ipython",
    "version": 3
   },
   "file_extension": ".py",
   "mimetype": "text/x-python",
   "name": "python",
   "nbconvert_exporter": "python",
   "pygments_lexer": "ipython3",
   "version": "3.7.3"
  }
 },
 "nbformat": 4,
 "nbformat_minor": 4
}
