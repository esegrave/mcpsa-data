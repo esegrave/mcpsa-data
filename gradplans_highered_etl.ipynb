{
 "cells": [
  {
   "cell_type": "code",
   "execution_count": 1,
   "metadata": {},
   "outputs": [],
   "source": [
    "import pandas as pd\n",
    "import numpy as np"
   ]
  },
  {
   "cell_type": "code",
   "execution_count": 2,
   "metadata": {},
   "outputs": [
    {
     "name": "stdout",
     "output_type": "stream",
     "text": [
      "(3282, 15)\n",
      "   2 Year Private College  2 Year Public College  4 Year Private College  \\\n",
      "0                     0.0                   22.9                    21.7   \n",
      "1                     0.9                   17.4                    25.2   \n",
      "2                     0.0                   18.2                    31.8   \n",
      "3                     0.2                    2.9                    44.3   \n",
      "4                     0.0                    3.0                    44.0   \n",
      "\n",
      "   4 Year Public College  Apprenticeship District Code  \\\n",
      "0                   43.4             0.0      04450000   \n",
      "1                   43.5             0.0      00010000   \n",
      "2                   40.9             2.3      04120000   \n",
      "3                   44.1             0.0      06000000   \n",
      "4                   48.5             0.0      04300000   \n",
      "\n",
      "                                            district  Military  Other  \\\n",
      "0       Abby Kelley Foster Charter Public (District)       3.6    2.4   \n",
      "1                                           Abington       4.3    2.6   \n",
      "2  Academy Of the Pacific Rim Charter Public (Dis...       2.3    2.3   \n",
      "3                                   Acton-Boxborough       0.2    0.0   \n",
      "4  Advanced Math and Science Academy Charter (Dis...       0.7    0.0   \n",
      "\n",
      "   Other Post Secondary  Total Count  Unknown  Work   group_state     year  \n",
      "0                   2.4         83.0      2.4   1.2  All Students  2019-20  \n",
      "1                   5.2        115.0      0.9   0.0  All Students  2019-20  \n",
      "2                   0.0         44.0      0.0   2.3  All Students  2019-20  \n",
      "3                   0.0        451.0      8.2   0.0  All Students  2019-20  \n",
      "4                   0.7        134.0      1.5   1.5  All Students  2019-20  \n"
     ]
    }
   ],
   "source": [
    "# import grad plan files\n",
    "path = './data/gradplans/raw/'\n",
    "\n",
    "years = ['2019-20', '2018-19', '2017-18', '2016-17', '2015-16', '2014-15', '2013-14', '2012-13', '2011-12', '2010-11', '2009-10']\n",
    "\n",
    "df_a = pd.DataFrame()\n",
    "\n",
    "for year in years:\n",
    "    temp = pd.read_excel(path + 'ma_gradplans_' + year + '.xlsx', dtype={'District Name':str,'District Code':str,'4 Year Private College':np.float64,'4 Year Public College':np.float64,'2 Year Private College':np.float64,'2 Year Public College':np.float64,'Other Post Secondary':np.float64,'Apprenticeship':np.float64,'Work':np.float64,'Military':np.float64,'Other':np.float64,'Unknown':np.float64,'Total Count':np.float64},skiprows=[0], thousands=',')\n",
    "    temp['year'] = year\n",
    "    temp['group_state'] = 'All Students'\n",
    "    df_a = df_a.append(temp, ignore_index=True, sort=True)\n",
    "\n",
    "df_a = df_a.rename(columns={'District Name': 'district'})\n",
    "        \n",
    "print(df_a.shape)\n",
    "print(df_a.head(5))"
   ]
  },
  {
   "cell_type": "code",
   "execution_count": 3,
   "metadata": {},
   "outputs": [
    {
     "name": "stdout",
     "output_type": "stream",
     "text": [
      "0       2019-20\n",
      "308     2018-19\n",
      "614     2017-18\n",
      "917     2016-17\n",
      "1218    2015-16\n",
      "1519    2014-15\n",
      "1815    2013-14\n",
      "2110    2012-13\n",
      "2407    2011-12\n",
      "2703    2010-11\n",
      "2996    2009-10\n",
      "Name: year, dtype: object\n",
      "0       2020\n",
      "308     2019\n",
      "614     2018\n",
      "917     2017\n",
      "1218    2016\n",
      "1519    2015\n",
      "1815    2014\n",
      "2110    2013\n",
      "2407    2012\n",
      "2703    2011\n",
      "2996    2010\n",
      "Name: year, dtype: object\n"
     ]
    }
   ],
   "source": [
    "# edit year field\n",
    "print(df_a['year'].drop_duplicates())\n",
    "df_a['year'] = ['20' + x[-2:] for x in df_a['year']]\n",
    "print(df_a['year'].drop_duplicates())"
   ]
  },
  {
   "cell_type": "code",
   "execution_count": 4,
   "metadata": {},
   "outputs": [
    {
     "name": "stdout",
     "output_type": "stream",
     "text": [
      "(41667, 15)\n",
      "   Attending Coll./Univ. (#)  Attending Coll./Univ. (%) District Code  \\\n",
      "0                       81.0                       90.0      04450000   \n",
      "1                       91.0                       74.0      00010000   \n",
      "2                       34.0                       91.9      04120000   \n",
      "3                      413.0                       91.8      06000000   \n",
      "4                        NaN                        NaN      00030000   \n",
      "\n",
      "                                            district  \\\n",
      "0       Abby Kelley Foster Charter Public (District)   \n",
      "1                                           Abington   \n",
      "2  Academy Of the Pacific Rim Charter Public (Dis...   \n",
      "3                                   Acton-Boxborough   \n",
      "4                                           Acushnet   \n",
      "\n",
      "   High School Graduates (#)  MA Community College (%)  \\\n",
      "0                       90.0                      18.9   \n",
      "1                      123.0                      12.2   \n",
      "2                       37.0                       5.4   \n",
      "3                      450.0                       6.9   \n",
      "4                        1.0                       NaN   \n",
      "\n",
      "   MA State University (%)  Private Four-Year (%)  Private Two-Year (%)  \\\n",
      "0                     30.0                   18.9                   0.0   \n",
      "1                     15.4                   23.6                   0.0   \n",
      "2                     16.2                   43.2                   0.0   \n",
      "3                      2.9                   40.9                   0.0   \n",
      "4                      NaN                    NaN                   NaN   \n",
      "\n",
      "   Public Four-Year (%)  Public Two-Year (%)  Univ.of Mass. (%)   group_state  \\\n",
      "0                  52.2                 18.9               14.4  All Students   \n",
      "1                  38.2                 12.2                7.3  All Students   \n",
      "2                  43.2                  5.4               27.0  All Students   \n",
      "3                  43.3                  7.6               14.4  All Students   \n",
      "4                   NaN                  NaN                NaN  All Students   \n",
      "\n",
      "                        location     year  \n",
      "0  All Colleges and Universities  2017-18  \n",
      "1  All Colleges and Universities  2017-18  \n",
      "2  All Colleges and Universities  2017-18  \n",
      "3  All Colleges and Universities  2017-18  \n",
      "4  All Colleges and Universities  2017-18  \n"
     ]
    }
   ],
   "source": [
    "# import highered files\n",
    "path = './data/highered/raw/'\n",
    "\n",
    "years = ['2018-19', '2017-18', '2016-17', '2015-16', '2014-15', '2013-14', '2012-13', '2011-12', '2010-11', '2009-10']\n",
    "groups = ['All Students', 'Female', 'Male', 'High Needs', 'English Learner', 'Low Income', 'Economically Disadvantaged', 'Students wdisabilities', 'Afr AmerBlack', 'Amer Ind or Alaska Nat', 'Asian', 'HispanicLatino', 'Multi-race, Non-HispLat', 'Nat Haw or Pacif Isl', 'White']\n",
    "locations = ['All Colleges and Universities', 'MA Colleges and Universities', 'Out-of-State Colleges and Universities']\n",
    "\n",
    "\n",
    "df_b = pd.DataFrame()\n",
    "\n",
    "for year in years:\n",
    "    for group in groups:\n",
    "        for location in locations:\n",
    "            temp = pd.read_excel(path + 'ma_highered_' + group + '_' + location + '_' + year + '.xlsx', dtype={'District Name':str,'District Code':str,'High School Graduates (#)':np.float64,'Attending Coll./Univ. (#)':np.float64,'Attending Coll./Univ. (%)':np.float64,'Private Two-Year (%)':np.float64,'Private Four-Year (%)':np.float64, 'Public Two-Year (%)':np.float64, 'Public Four-Year (%)':np.float64},skiprows=[0], thousands=',')\n",
    "            temp['year'] = year\n",
    "            temp['group_state'] = group\n",
    "            temp['location'] = location\n",
    "            df_b = df_b.append(temp, ignore_index=True, sort=True)\n",
    "\n",
    "df_b = df_b.rename(columns={'District Name': 'district'})\n",
    "        \n",
    "print(df_b.shape)\n",
    "print(df_b.head(5))"
   ]
  },
  {
   "cell_type": "code",
   "execution_count": 5,
   "metadata": {},
   "outputs": [
    {
     "name": "stdout",
     "output_type": "stream",
     "text": [
      "0        2017-18\n",
      "10674    2016-17\n",
      "21063    2015-16\n",
      "31452    2014-15\n",
      "Name: year, dtype: object\n",
      "0        2018\n",
      "10674    2017\n",
      "21063    2016\n",
      "31452    2015\n",
      "Name: year, dtype: object\n"
     ]
    }
   ],
   "source": [
    "# edit year field\n",
    "print(df_b['year'].drop_duplicates())\n",
    "df_b['year'] = ['20' + x[-2:] for x in df_b['year']]\n",
    "print(df_b['year'].drop_duplicates())"
   ]
  },
  {
   "cell_type": "code",
   "execution_count": 6,
   "metadata": {},
   "outputs": [
    {
     "name": "stdout",
     "output_type": "stream",
     "text": [
      "(3282, 15)\n",
      "(41667, 15)\n",
      "(43748, 27)\n",
      "(43748, 28)\n",
      "   2 Year Private College  2 Year Public College  4 Year Private College  \\\n",
      "0                     0.0                   22.9                    21.7   \n",
      "1                     0.9                   17.4                    25.2   \n",
      "2                     0.0                   18.2                    31.8   \n",
      "3                     0.2                    2.9                    44.3   \n",
      "4                     0.0                    3.0                    44.0   \n",
      "\n",
      "   4 Year Public College  Apprenticeship District Code  \\\n",
      "0                   43.4             0.0      04450000   \n",
      "1                   43.5             0.0      00010000   \n",
      "2                   40.9             2.3      04120000   \n",
      "3                   44.1             0.0      06000000   \n",
      "4                   48.5             0.0      04300000   \n",
      "\n",
      "                                          district_x  Military  Other  \\\n",
      "0       Abby Kelley Foster Charter Public (District)       3.6    2.4   \n",
      "1                                           Abington       4.3    2.6   \n",
      "2  Academy Of the Pacific Rim Charter Public (Dis...       2.3    2.3   \n",
      "3                                   Acton-Boxborough       0.2    0.0   \n",
      "4  Advanced Math and Science Academy Charter (Dis...       0.7    0.0   \n",
      "\n",
      "   Other Post Secondary  ...  High School Graduates (#)  \\\n",
      "0                   2.4  ...                        NaN   \n",
      "1                   5.2  ...                        NaN   \n",
      "2                   0.0  ...                        NaN   \n",
      "3                   0.0  ...                        NaN   \n",
      "4                   0.7  ...                        NaN   \n",
      "\n",
      "   MA Community College (%)  MA State University (%) Private Four-Year (%)  \\\n",
      "0                       NaN                      NaN                   NaN   \n",
      "1                       NaN                      NaN                   NaN   \n",
      "2                       NaN                      NaN                   NaN   \n",
      "3                       NaN                      NaN                   NaN   \n",
      "4                       NaN                      NaN                   NaN   \n",
      "\n",
      "  Private Two-Year (%)  Public Four-Year (%)  Public Two-Year (%)  \\\n",
      "0                  NaN                   NaN                  NaN   \n",
      "1                  NaN                   NaN                  NaN   \n",
      "2                  NaN                   NaN                  NaN   \n",
      "3                  NaN                   NaN                  NaN   \n",
      "4                  NaN                   NaN                  NaN   \n",
      "\n",
      "  Univ.of Mass. (%)  location  \\\n",
      "0               NaN       NaN   \n",
      "1               NaN       NaN   \n",
      "2               NaN       NaN   \n",
      "3               NaN       NaN   \n",
      "4               NaN       NaN   \n",
      "\n",
      "                                            district  \n",
      "0       Abby Kelley Foster Charter Public (District)  \n",
      "1                                           Abington  \n",
      "2  Academy Of the Pacific Rim Charter Public (Dis...  \n",
      "3                                   Acton-Boxborough  \n",
      "4  Advanced Math and Science Academy Charter (Dis...  \n",
      "\n",
      "[5 rows x 28 columns]\n"
     ]
    }
   ],
   "source": [
    "# join gradrate & highered datasets\n",
    "print(df_a.shape)\n",
    "print(df_b.shape)\n",
    "df = df_a.merge(df_b, on=['year', 'District Code', 'group_state'], how='outer')\n",
    "print(df.shape)\n",
    "df['district'] = df.district_x.combine_first(df.district_y)\n",
    "print(df.shape)\n",
    "print(df.head(5))"
   ]
  },
  {
   "cell_type": "code",
   "execution_count": 7,
   "metadata": {},
   "outputs": [],
   "source": [
    "del df_a\n",
    "del df_b\n",
    "del df['district_x']\n",
    "del df['district_y']"
   ]
  },
  {
   "cell_type": "code",
   "execution_count": 8,
   "metadata": {},
   "outputs": [
    {
     "name": "stdout",
     "output_type": "stream",
     "text": [
      "(43748, 26)\n",
      "(43748, 26)\n",
      "(43573, 26)\n",
      "(43318, 26)\n",
      "150    Match Charter Public School (District)\n",
      "Name: district, dtype: object\n"
     ]
    }
   ],
   "source": [
    "# add manual data changes\n",
    "print(df.shape)\n",
    "# remove district totals & Horace Mann\n",
    "print(df.shape)\n",
    "df = df[df['District Code'] != '00000000']\n",
    "print(df.shape)\n",
    "df = df[~df['district'].str.contains('Horace Mann')]\n",
    "print(df.shape)\n",
    "\n",
    "df.district = df.district.str.replace('MATCH', 'Match', regex=False)\n",
    "print(df[df.district.str.contains('Match')].district.drop_duplicates())"
   ]
  },
  {
   "cell_type": "code",
   "execution_count": 9,
   "metadata": {},
   "outputs": [
    {
     "name": "stdout",
     "output_type": "stream",
     "text": [
      "Index(['2 Year Private College', '2 Year Public College',\n",
      "       '4 Year Private College', '4 Year Public College', 'Apprenticeship',\n",
      "       'District Code', 'Military', 'Other', 'Other Post Secondary',\n",
      "       'Total Count', 'Unknown', 'Work', 'group_state', 'year',\n",
      "       'Attending Coll./Univ. (#)', 'Attending Coll./Univ. (%)',\n",
      "       'High School Graduates (#)', 'MA Community College (%)',\n",
      "       'MA State University (%)', 'Private Four-Year (%)',\n",
      "       'Private Two-Year (%)', 'Public Four-Year (%)', 'Public Two-Year (%)',\n",
      "       'Univ.of Mass. (%)', 'location', 'district'],\n",
      "      dtype='object')\n"
     ]
    }
   ],
   "source": [
    "print(df.columns)"
   ]
  },
  {
   "cell_type": "code",
   "execution_count": 10,
   "metadata": {},
   "outputs": [
    {
     "name": "stdout",
     "output_type": "stream",
     "text": [
      "(43318, 26)\n",
      "(27837, 26)\n"
     ]
    }
   ],
   "source": [
    "# drop rows with null values\n",
    "print(df.shape)\n",
    "df = df.dropna(subset=['2 Year Private College', '2 Year Public College', '4 Year Private College', '4 Year Public College', 'Apprenticeship', 'Military', 'Other', 'Other Post Secondary', 'Unknown', 'Work', 'Attending Coll./Univ. (%)', 'MA Community College (%)', 'MA State University (%)', 'Private Four-Year (%)', 'Private Two-Year (%)', 'Public Four-Year (%)', 'Public Two-Year (%)', 'Univ.of Mass. (%)'], how='all')\n",
    "print(df.shape)"
   ]
  },
  {
   "cell_type": "code",
   "execution_count": 11,
   "metadata": {},
   "outputs": [
    {
     "name": "stdout",
     "output_type": "stream",
     "text": [
      "Index(['2 Year Private College', '2 Year Public College',\n",
      "       '4 Year Private College', '4 Year Public College', 'Apprenticeship',\n",
      "       'District Code', 'Military', 'Other', 'Other Post Secondary',\n",
      "       'Total Count', 'Unknown', 'Work', 'group_state', 'year',\n",
      "       'Attending Coll./Univ. (#)', 'Attending Coll./Univ. (%)',\n",
      "       'High School Graduates (#)', 'MA Community College (%)',\n",
      "       'MA State University (%)', 'Private Four-Year (%)',\n",
      "       'Private Two-Year (%)', 'Public Four-Year (%)', 'Public Two-Year (%)',\n",
      "       'Univ.of Mass. (%)', 'location', 'district'],\n",
      "      dtype='object')\n"
     ]
    }
   ],
   "source": [
    "print(df.columns)"
   ]
  },
  {
   "cell_type": "code",
   "execution_count": 12,
   "metadata": {},
   "outputs": [
    {
     "name": "stdout",
     "output_type": "stream",
     "text": [
      "0    0445\n",
      "1    0001\n",
      "2    0412\n",
      "3    0600\n",
      "4    0430\n",
      "Name: district_id, dtype: object\n"
     ]
    }
   ],
   "source": [
    "# remove last four digits of school code\n",
    "df['district_id'] = df.apply(lambda x: x['District Code'][:4], axis = 1)\n",
    "del df['District Code']\n",
    "print(df['district_id'].drop_duplicates().head(5))"
   ]
  },
  {
   "cell_type": "code",
   "execution_count": 13,
   "metadata": {},
   "outputs": [
    {
     "name": "stdout",
     "output_type": "stream",
     "text": [
      "2 Year Private College       float64\n",
      "2 Year Public College        float64\n",
      "4 Year Private College       float64\n",
      "4 Year Public College        float64\n",
      "Apprenticeship               float64\n",
      "Military                     float64\n",
      "Other                        float64\n",
      "Other Post Secondary         float64\n",
      "Total Count                  float64\n",
      "Unknown                      float64\n",
      "Work                         float64\n",
      "group_state                   object\n",
      "year                          object\n",
      "Attending Coll./Univ. (#)    float64\n",
      "Attending Coll./Univ. (%)    float64\n",
      "High School Graduates (#)    float64\n",
      "MA Community College (%)     float64\n",
      "MA State University (%)      float64\n",
      "Private Four-Year (%)        float64\n",
      "Private Two-Year (%)         float64\n",
      "Public Four-Year (%)         float64\n",
      "Public Two-Year (%)          float64\n",
      "Univ.of Mass. (%)            float64\n",
      "location                      object\n",
      "district                      object\n",
      "district_id                   object\n",
      "dtype: object\n",
      "2 Year Private College       float64\n",
      "2 Year Public College        float64\n",
      "4 Year Private College       float64\n",
      "4 Year Public College        float64\n",
      "Apprenticeship               float64\n",
      "Military                     float64\n",
      "Other                        float64\n",
      "Other Post Secondary         float64\n",
      "Total Count                  float64\n",
      "Unknown                      float64\n",
      "Work                         float64\n",
      "group_state                   object\n",
      "year                          object\n",
      "Attending Coll./Univ. (#)    float64\n",
      "Attending Coll./Univ. (%)    float64\n",
      "High School Graduates (#)    float64\n",
      "MA Community College (%)     float64\n",
      "MA State University (%)      float64\n",
      "Private Four-Year (%)        float64\n",
      "Private Two-Year (%)         float64\n",
      "Public Four-Year (%)         float64\n",
      "Public Two-Year (%)          float64\n",
      "Univ.of Mass. (%)            float64\n",
      "location                      object\n",
      "district                      object\n",
      "district_id                    int64\n",
      "dtype: object\n"
     ]
    }
   ],
   "source": [
    "print(df.dtypes)\n",
    "df['district_id'] = df['district_id'].astype('int64')\n",
    "print(df.dtypes)"
   ]
  },
  {
   "cell_type": "code",
   "execution_count": 14,
   "metadata": {},
   "outputs": [
    {
     "name": "stdout",
     "output_type": "stream",
     "text": [
      "(27837, 25)\n",
      "(27837, 26)\n"
     ]
    }
   ],
   "source": [
    "# use most recent district name per district_id\n",
    "df_leas = df[['year', 'district_id', 'district']]\n",
    "df_leas = df_leas.sort_values(['year', 'district_id', 'district'], ascending = False)\n",
    "df_leas = df_leas.drop_duplicates(subset=['district_id'])\n",
    "del df_leas['year']\n",
    "\n",
    "# join back to df\n",
    "del df['district']\n",
    "print(df.shape)\n",
    "df = df.merge(df_leas, on = ['district_id'])\n",
    "print(df.shape)"
   ]
  },
  {
   "cell_type": "code",
   "execution_count": 15,
   "metadata": {},
   "outputs": [
    {
     "name": "stdout",
     "output_type": "stream",
     "text": [
      "(27837, 26)\n",
      "(27837, 27)\n",
      "   2 Year Private College  2 Year Public College  4 Year Private College  \\\n",
      "0                     0.0                   22.9                    21.7   \n",
      "1                     1.2                   13.4                    31.7   \n",
      "2                     0.0                   16.7                    30.0   \n",
      "3                     0.0                   16.7                    30.0   \n",
      "4                     0.0                   16.7                    30.0   \n",
      "\n",
      "   4 Year Public College  Apprenticeship  Military  Other  \\\n",
      "0                   43.4             0.0       3.6    2.4   \n",
      "1                   48.8             0.0       2.4    0.0   \n",
      "2                   48.9             0.0       1.1    1.1   \n",
      "3                   48.9             0.0       1.1    1.1   \n",
      "4                   48.9             0.0       1.1    1.1   \n",
      "\n",
      "   Other Post Secondary  Total Count  Unknown  ...  MA State University (%)  \\\n",
      "0                   2.4         83.0      2.4  ...                      NaN   \n",
      "1                   0.0         82.0      1.2  ...                      NaN   \n",
      "2                   2.2         90.0      0.0  ...                     30.0   \n",
      "3                   2.2         90.0      0.0  ...                     30.0   \n",
      "4                   2.2         90.0      0.0  ...                      NaN   \n",
      "\n",
      "  Private Four-Year (%) Private Two-Year (%)  Public Four-Year (%)  \\\n",
      "0                   NaN                  NaN                   NaN   \n",
      "1                   NaN                  NaN                   NaN   \n",
      "2                  18.9                  0.0                  52.2   \n",
      "3                  12.2                  0.0                   NaN   \n",
      "4                   6.7                  0.0                   NaN   \n",
      "\n",
      "   Public Two-Year (%)  Univ.of Mass. (%)  \\\n",
      "0                  NaN                NaN   \n",
      "1                  NaN                NaN   \n",
      "2                 18.9               14.4   \n",
      "3                  NaN               14.4   \n",
      "4                  0.0                NaN   \n",
      "\n",
      "                                 location  district_id  \\\n",
      "0                                     NaN          445   \n",
      "1                                     NaN          445   \n",
      "2           All Colleges and Universities          445   \n",
      "3            MA Colleges and Universities          445   \n",
      "4  Out-of-State Colleges and Universities          445   \n",
      "\n",
      "                                       district  charter_flag  \n",
      "0  Abby Kelley Foster Charter Public (District)           1.0  \n",
      "1  Abby Kelley Foster Charter Public (District)           1.0  \n",
      "2  Abby Kelley Foster Charter Public (District)           1.0  \n",
      "3  Abby Kelley Foster Charter Public (District)           1.0  \n",
      "4  Abby Kelley Foster Charter Public (District)           1.0  \n",
      "\n",
      "[5 rows x 27 columns]\n"
     ]
    }
   ],
   "source": [
    "# import file for charter flag\n",
    "df_flags = pd.read_csv('./data/finalized/charter_to_district.csv')\n",
    "df_flags = df_flags[df_flags.fy.eq('fy21')]\n",
    "df_flags = df_flags[['charter_lea_code']].drop_duplicates()\n",
    "df_flags = df_flags.rename(columns={'charter_lea_code': 'district_id'})\n",
    "df_flags['charter_flag'] = 1\n",
    "\n",
    "print(df.shape)\n",
    "df = df.merge(df_flags, on = ['district_id'], how = 'left')\n",
    "del df_flags\n",
    "print(df.shape)\n",
    "print(df.head(5))"
   ]
  },
  {
   "cell_type": "code",
   "execution_count": 16,
   "metadata": {},
   "outputs": [
    {
     "name": "stdout",
     "output_type": "stream",
     "text": [
      "Index(['2 Year Private College', '2 Year Public College',\n",
      "       '4 Year Private College', '4 Year Public College', 'Apprenticeship',\n",
      "       'Military', 'Other', 'Other Post Secondary', 'Total Count', 'Unknown',\n",
      "       'Work', 'group_state', 'year', 'Attending Coll./Univ. (#)',\n",
      "       'Attending Coll./Univ. (%)', 'High School Graduates (#)',\n",
      "       'MA Community College (%)', 'MA State University (%)',\n",
      "       'Private Four-Year (%)', 'Private Two-Year (%)', 'Public Four-Year (%)',\n",
      "       'Public Two-Year (%)', 'Univ.of Mass. (%)', 'location', 'district_id',\n",
      "       'district', 'charter_flag'],\n",
      "      dtype='object')\n"
     ]
    }
   ],
   "source": [
    "print(df.columns)"
   ]
  },
  {
   "cell_type": "code",
   "execution_count": 17,
   "metadata": {},
   "outputs": [
    {
     "name": "stdout",
     "output_type": "stream",
     "text": [
      "   Charter LEA ID                                   Charter LEA Name  \\\n",
      "0         4070405  Dudley Street Neighborhood Charter School (Dis...   \n",
      "1         4090205  Alma del Mar Charter School (District) - Alma ...   \n",
      "2         4100205  Excel Academy Charter (District) - Excel Acade...   \n",
      "3         4110305  Boston Green Academy Horace Mann Charter Schoo...   \n",
      "4         4120530  Academy Of the Pacific Rim Charter Public (Dis...   \n",
      "\n",
      "  Regional Affiliation/s Geographic Location/s  \n",
      "0                 Boston                Boston  \n",
      "1                Gateway          Southeastern  \n",
      "2                 Boston                Boston  \n",
      "3                 Boston                Boston  \n",
      "4                 Boston                Boston  \n",
      "(27837, 27)\n",
      "(28272, 29)\n"
     ]
    }
   ],
   "source": [
    "# join charter reg and geo file\n",
    "df_reg = pd.read_csv('./data/finalized/MCPSA Charter Reg and Geo Affiliations.csv')\n",
    "df_reg = df_reg[['Charter LEA ID', 'Charter LEA Name', 'Regional Affiliation/s', 'Geographic Location/s']]\n",
    "print(df_reg.head(5))\n",
    "df_reg['district_id'] = df_reg.apply(lambda x: int(x['Charter LEA ID'] / 10000), axis = 1)\n",
    "del df_reg['Charter LEA ID']\n",
    "del df_reg['Charter LEA Name']\n",
    "\n",
    "print(df.shape)\n",
    "df = df.merge(df_reg, on=['district_id'], how='left')\n",
    "print(df.shape)"
   ]
  },
  {
   "cell_type": "code",
   "execution_count": 18,
   "metadata": {},
   "outputs": [
    {
     "name": "stdout",
     "output_type": "stream",
     "text": [
      "Index(['2 Year Private College', '2 Year Public College',\n",
      "       '4 Year Private College', '4 Year Public College', 'Apprenticeship',\n",
      "       'Military', 'Other', 'Other Post Secondary', 'Total Count', 'Unknown',\n",
      "       'Work', 'group_state', 'year', 'Attending Coll./Univ. (#)',\n",
      "       'Attending Coll./Univ. (%)', 'High School Graduates (#)',\n",
      "       'MA Community College (%)', 'MA State University (%)',\n",
      "       'Private Four-Year (%)', 'Private Two-Year (%)', 'Public Four-Year (%)',\n",
      "       'Public Two-Year (%)', 'Univ.of Mass. (%)', 'location', 'district_id',\n",
      "       'district', 'charter_flag', 'Regional Affiliation/s',\n",
      "       'Geographic Location/s'],\n",
      "      dtype='object')\n"
     ]
    }
   ],
   "source": [
    "print(df.columns)"
   ]
  },
  {
   "cell_type": "code",
   "execution_count": 19,
   "metadata": {},
   "outputs": [
    {
     "name": "stdout",
     "output_type": "stream",
     "text": [
      "charter_lea_code               int64\n",
      "sending_lea_code             float64\n",
      "enrolled_n                   float64\n",
      "physical_charter_location     object\n",
      "chartered_to_serve           float64\n",
      "dtype: object\n",
      "(1053, 5)\n"
     ]
    }
   ],
   "source": [
    "# import charter_to_district data for calculating multipliers\n",
    "df_mult = pd.read_csv('./data/finalized/charter_to_district_edited.csv')\n",
    "print(df_mult.dtypes)\n",
    "print(df_mult.shape)"
   ]
  },
  {
   "cell_type": "code",
   "execution_count": 20,
   "metadata": {},
   "outputs": [
    {
     "name": "stdout",
     "output_type": "stream",
     "text": [
      "sending_lea_code      int64\n",
      "enrolled_n          float64\n",
      "dtype: object\n",
      "(253, 2)\n"
     ]
    }
   ],
   "source": [
    "# import district_remainders data for calculating multipliers\n",
    "df_enrollment = pd.read_csv('./data/finalized/district_remainders.csv')\n",
    "print(df_enrollment.dtypes)\n",
    "print(df_enrollment.shape)"
   ]
  },
  {
   "cell_type": "code",
   "execution_count": 21,
   "metadata": {},
   "outputs": [
    {
     "name": "stdout",
     "output_type": "stream",
     "text": [
      "(51544, 34)\n",
      "(51544, 60)\n",
      "Index(['charter_lea_code', 'sending_lea_code', 'enrolled_n',\n",
      "       'physical_charter_location', 'chartered_to_serve',\n",
      "       '2 Year Private College_charter', '2 Year Public College_charter',\n",
      "       '4 Year Private College_charter', '4 Year Public College_charter',\n",
      "       'Apprenticeship_charter', 'Military_charter', 'Other_charter',\n",
      "       'Other Post Secondary_charter', 'Total Count_charter',\n",
      "       'Unknown_charter', 'Work_charter', 'group_state', 'year',\n",
      "       'Attending Coll./Univ. (#)_charter',\n",
      "       'Attending Coll./Univ. (%)_charter',\n",
      "       'High School Graduates (#)_charter', 'MA Community College (%)_charter',\n",
      "       'MA State University (%)_charter', 'Private Four-Year (%)_charter',\n",
      "       'Private Two-Year (%)_charter', 'Public Four-Year (%)_charter',\n",
      "       'Public Two-Year (%)_charter', 'Univ.of Mass. (%)_charter', 'location',\n",
      "       'district_id_charter', 'district_charter', 'charter_flag_charter',\n",
      "       'Regional Affiliation/s_charter', 'Geographic Location/s_charter',\n",
      "       '2 Year Private College_district', '2 Year Public College_district',\n",
      "       '4 Year Private College_district', '4 Year Public College_district',\n",
      "       'Apprenticeship_district', 'Military_district', 'Other_district',\n",
      "       'Other Post Secondary_district', 'Total Count_district',\n",
      "       'Unknown_district', 'Work_district',\n",
      "       'Attending Coll./Univ. (#)_district',\n",
      "       'Attending Coll./Univ. (%)_district',\n",
      "       'High School Graduates (#)_district',\n",
      "       'MA Community College (%)_district', 'MA State University (%)_district',\n",
      "       'Private Four-Year (%)_district', 'Private Two-Year (%)_district',\n",
      "       'Public Four-Year (%)_district', 'Public Two-Year (%)_district',\n",
      "       'Univ.of Mass. (%)_district', 'district_id_district',\n",
      "       'district_district', 'charter_flag_district',\n",
      "       'Regional Affiliation/s_district', 'Geographic Location/s_district'],\n",
      "      dtype='object')\n"
     ]
    }
   ],
   "source": [
    "# join charter_to_district to data\n",
    "df_charter = df[df['charter_flag'] == 1]\n",
    "df_district = df[df['charter_flag'] != 1]\n",
    "\n",
    "df_mult = df_mult.merge(df_charter, left_on=['charter_lea_code'], right_on = ['district_id'], how='left')\n",
    "print(df_mult.shape)\n",
    "df_mult = df_mult.merge(df_district, left_on=['sending_lea_code', 'year', 'group_state', 'location'], right_on = ['district_id', 'year','group_state', 'location'], how='left', suffixes=['_charter', '_district'])\n",
    "print(df_mult.shape)\n",
    "print(df_mult.columns)"
   ]
  },
  {
   "cell_type": "code",
   "execution_count": 22,
   "metadata": {},
   "outputs": [
    {
     "name": "stdout",
     "output_type": "stream",
     "text": [
      "Index(['2 Year Private College_district', '2 Year Public College_district',\n",
      "       '4 Year Private College_district', '4 Year Public College_district',\n",
      "       'Apprenticeship_district', 'Military_district', 'Other_district',\n",
      "       'Other Post Secondary_district', 'Total Count_district',\n",
      "       'Unknown_district', 'Work_district', 'group_state', 'year',\n",
      "       'Attending Coll./Univ. (#)_district',\n",
      "       'Attending Coll./Univ. (%)_district',\n",
      "       'High School Graduates (#)_district',\n",
      "       'MA Community College (%)_district', 'MA State University (%)_district',\n",
      "       'Private Four-Year (%)_district', 'Private Two-Year (%)_district',\n",
      "       'Public Four-Year (%)_district', 'Public Two-Year (%)_district',\n",
      "       'Univ.of Mass. (%)_district', 'location', 'district_id_district',\n",
      "       'district_district', 'charter_flag_district',\n",
      "       'Regional Affiliation/s_district', 'Geographic Location/s_district',\n",
      "       'sending_lea_code', 'enrolled_n'],\n",
      "      dtype='object')\n"
     ]
    }
   ],
   "source": [
    "# join enrollment remainders to district data\n",
    "df_district.columns = df_district.columns.map(lambda x: str(x) + '_district')\n",
    "df_district = df_district.rename(columns={'year_district': 'year', 'group_state_district': 'group_state', 'location_district': 'location'})\n",
    "df_district = df_district.merge(df_enrollment, left_on=['district_id_district'], right_on=['sending_lea_code'], how='inner')\n",
    "print(df_district.columns)"
   ]
  },
  {
   "cell_type": "code",
   "execution_count": 23,
   "metadata": {},
   "outputs": [
    {
     "name": "stdout",
     "output_type": "stream",
     "text": [
      "(51544, 60)\n",
      "(21232, 31)\n",
      "(72776, 60)\n"
     ]
    }
   ],
   "source": [
    "# append back to other joined data\n",
    "print(df_mult.shape)\n",
    "print(df_district.shape)\n",
    "df_mult = df_mult.append(df_district, ignore_index=True, sort=True)\n",
    "print(df_mult.shape)"
   ]
  },
  {
   "cell_type": "code",
   "execution_count": 24,
   "metadata": {},
   "outputs": [],
   "source": [
    "# review grade/group/year breakdown of data\n",
    "# df.groupby(['year', 'grade', 'group_state'])['num'].sum().to_csv('temp.csv')"
   ]
  },
  {
   "cell_type": "code",
   "execution_count": 25,
   "metadata": {},
   "outputs": [],
   "source": [
    "# export dataset for QA\n",
    "df.to_csv('./data/finalized/postsecondary.csv')"
   ]
  },
  {
   "cell_type": "code",
   "execution_count": 26,
   "metadata": {},
   "outputs": [
    {
     "name": "stdout",
     "output_type": "stream",
     "text": [
      "(72776, 60)\n",
      "(72431, 60)\n"
     ]
    }
   ],
   "source": [
    "# export final dataset\n",
    "print(df_mult.shape)\n",
    "df_mult = df_mult.dropna(subset=['year'])\n",
    "print(df_mult.shape)\n",
    "df_mult.to_csv('./data/finalized/postsecondary_with_multipliers.csv', index=False)"
   ]
  },
  {
   "cell_type": "code",
   "execution_count": null,
   "metadata": {},
   "outputs": [],
   "source": []
  }
 ],
 "metadata": {
  "kernelspec": {
   "display_name": "Python 3",
   "language": "python",
   "name": "python3"
  },
  "language_info": {
   "codemirror_mode": {
    "name": "ipython",
    "version": 3
   },
   "file_extension": ".py",
   "mimetype": "text/x-python",
   "name": "python",
   "nbconvert_exporter": "python",
   "pygments_lexer": "ipython3",
   "version": "3.7.3"
  }
 },
 "nbformat": 4,
 "nbformat_minor": 4
}
