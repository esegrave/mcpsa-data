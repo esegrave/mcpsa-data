{
 "cells": [
  {
   "cell_type": "code",
   "execution_count": 1,
   "metadata": {},
   "outputs": [
    {
     "name": "stdout",
     "output_type": "stream",
     "text": [
      "(56, 303)\n"
     ]
    }
   ],
   "source": [
    "# import files\n",
    "import pandas as pd\n",
    "import numpy as np\n",
    "\n",
    "df = pd.read_csv('./data/finalized/survey.csv', header=[0,1])\n",
    "df.columns = df.columns.map('_'.join)\n",
    "\n",
    "print(df.shape)"
   ]
  },
  {
   "cell_type": "code",
   "execution_count": 2,
   "metadata": {},
   "outputs": [
    {
     "name": "stdout",
     "output_type": "stream",
     "text": [
      "0    0\n",
      "1    1\n",
      "2    2\n",
      "3    3\n",
      "4    4\n",
      "Name: response_id, dtype: int64\n"
     ]
    }
   ],
   "source": [
    "# add response id to avoid double counting post-pivot in tableau\n",
    "df['response_id'] = np.arange(df.shape[0])\n",
    "print(df['response_id'].head(5))"
   ]
  },
  {
   "cell_type": "code",
   "execution_count": 3,
   "metadata": {},
   "outputs": [
    {
     "name": "stdout",
     "output_type": "stream",
     "text": [
      "(56, 304)\n",
      "(8064, 21)\n",
      "  How many total students are currently enrolled in your school(s)?_Response  \\\n",
      "0                                        501 or more                           \n",
      "1                                        501 or more                           \n",
      "2                                        501 or more                           \n",
      "3                                        501 or more                           \n",
      "4                                         251 to 500                           \n",
      "\n",
      "  Location of your school(s) (please check all that apply):_Boston  \\\n",
      "0                                                NaN                 \n",
      "1                                             Boston                 \n",
      "2                                             Boston                 \n",
      "3                                                NaN                 \n",
      "4                                             Boston                 \n",
      "\n",
      "  Unnamed: 2_level_0_Non-Boston Urban/Gateway City  \\\n",
      "0                                              NaN   \n",
      "1                    Non-Boston Urban/Gateway City   \n",
      "2                                              NaN   \n",
      "3                    Non-Boston Urban/Gateway City   \n",
      "4                                              NaN   \n",
      "\n",
      "  Unnamed: 3_level_0_Suburban Unnamed: 4_level_0_Rural  \\\n",
      "0                    Suburban                      NaN   \n",
      "1                         NaN                      NaN   \n",
      "2                         NaN                      NaN   \n",
      "3                         NaN                      NaN   \n",
      "4                         NaN                      NaN   \n",
      "\n",
      "  Geographic location of your school(s):_Boston Unnamed: 6_level_0_Central MA  \\\n",
      "0                                           NaN                           NaN   \n",
      "1                                        Boston                           NaN   \n",
      "2                                        Boston                           NaN   \n",
      "3                                           NaN                           NaN   \n",
      "4                                        Boston                           NaN   \n",
      "\n",
      "  Unnamed: 7_level_0_Eastern MA Unnamed: 8_level_0_Southeastern MA  \\\n",
      "0                           NaN                                NaN   \n",
      "1                           NaN                                NaN   \n",
      "2                           NaN                                NaN   \n",
      "3                           NaN                    Southeastern MA   \n",
      "4                           NaN                                NaN   \n",
      "\n",
      "  Unnamed: 9_level_0_Western MA  ...  \\\n",
      "0                    Western MA  ...   \n",
      "1                           NaN  ...   \n",
      "2                           NaN  ...   \n",
      "3                           NaN  ...   \n",
      "4                           NaN  ...   \n",
      "\n",
      "  Grades currently served by your school(s) (please check all that apply):_K-12 School  \\\n",
      "0                                                NaN                                     \n",
      "1                                                NaN                                     \n",
      "2                                                NaN                                     \n",
      "3                                                NaN                                     \n",
      "4                                        K-12 School                                     \n",
      "\n",
      "  Unnamed: 12_level_0_Elementary School Unnamed: 13_level_0_Middle School  \\\n",
      "0                     Elementary School                     Middle School   \n",
      "1                                   NaN                     Middle School   \n",
      "2                                   NaN                               NaN   \n",
      "3                                   NaN                               NaN   \n",
      "4                                   NaN                               NaN   \n",
      "\n",
      "  Unnamed: 14_level_0_Elementary/Middle School  \\\n",
      "0                                          NaN   \n",
      "1                                          NaN   \n",
      "2                                          NaN   \n",
      "3                                          NaN   \n",
      "4                                          NaN   \n",
      "\n",
      "  Unnamed: 15_level_0_Middle/High School Unnamed: 16_level_0_High School  \\\n",
      "0                                    NaN                             NaN   \n",
      "1                                    NaN                     High School   \n",
      "2                     Middle/High School                             NaN   \n",
      "3                     Middle/High School                             NaN   \n",
      "4                                    NaN                             NaN   \n",
      "\n",
      "  Is your school a stand-alone school or part of a managed/shared services network?_Response  \\\n",
      "0          part of a managed/shared services network                                           \n",
      "1          part of a managed/shared services network                                           \n",
      "2                                 stand-alone school                                           \n",
      "3                                 stand-alone school                                           \n",
      "4                                 stand-alone school                                           \n",
      "\n",
      "  response_id                                           question    response  \n",
      "0           0  What is the average annual salary of a teacher...  $40-44,999  \n",
      "1           1  What is the average annual salary of a teacher...  $45-49,999  \n",
      "2           2  What is the average annual salary of a teacher...  $50-54,999  \n",
      "3           3  What is the average annual salary of a teacher...  $40-44,999  \n",
      "4           4  What is the average annual salary of a teacher...  $50-54,999  \n",
      "\n",
      "[5 rows x 21 columns]\n"
     ]
    }
   ],
   "source": [
    "# pivot data to have one row per response per question\n",
    "id_vars = list(df.columns)[:18]\n",
    "id_vars.append('response_id')\n",
    "\n",
    "value_vars = [x for x in [x for x in df.columns if x not in id_vars] if '_Response' in x]\n",
    "\n",
    "print(df.shape)\n",
    "df = pd.melt(df, id_vars = id_vars, value_vars = value_vars, var_name = 'question', value_name = 'response')\n",
    "print(df.shape)\n",
    "print(df.head(5))"
   ]
  },
  {
   "cell_type": "code",
   "execution_count": 6,
   "metadata": {},
   "outputs": [
    {
     "name": "stdout",
     "output_type": "stream",
     "text": [
      "                                              question  question_sort\n",
      "0    What is the average annual salary of a teacher...              0\n",
      "56   What is the average annual salary of a teacher...              1\n",
      "112  What is the average annual salary of a teacher...              2\n",
      "168  What is the average annual salary of a teacher...              3\n",
      "224  What is the average annual salary of a teacher...              4\n",
      "(8064, 21)\n",
      "(8064, 22)\n"
     ]
    }
   ],
   "source": [
    "# create question id to use for sorting later\n",
    "df_questions = df[['question']].drop_duplicates()\n",
    "df_questions['question_sort'] = np.arange(df_questions.shape[0])\n",
    "print(df_questions.head(5))\n",
    "print(df.shape)\n",
    "df = df.merge(df_questions, on='question')\n",
    "print(df.shape)"
   ]
  },
  {
   "cell_type": "code",
   "execution_count": 7,
   "metadata": {},
   "outputs": [
    {
     "name": "stdout",
     "output_type": "stream",
     "text": [
      "(8064, 22)\n",
      "(9072, 19)\n"
     ]
    }
   ],
   "source": [
    "# pivot location type fields\n",
    "value_vars = ['Location of your school(s) (please check all that apply):_Boston', 'Unnamed: 2_level_0_Non-Boston Urban/Gateway City', 'Unnamed: 3_level_0_Suburban', 'Unnamed: 4_level_0_Rural']\n",
    "id_vars = [x for x in df.columns if x not in value_vars]\n",
    "\n",
    "print(df.shape)\n",
    "df = pd.melt(df, id_vars = id_vars, value_vars = value_vars, value_name = 'location_type')\n",
    "del df['variable']\n",
    "df = df.dropna(subset=['location_type'])\n",
    "print(df.shape)"
   ]
  },
  {
   "cell_type": "code",
   "execution_count": 8,
   "metadata": {},
   "outputs": [
    {
     "name": "stdout",
     "output_type": "stream",
     "text": [
      "(9072, 19)\n",
      "(9936, 15)\n"
     ]
    }
   ],
   "source": [
    "# pivot geographic location fields\n",
    "value_vars = ['Geographic location of your school(s):_Boston', 'Unnamed: 6_level_0_Central MA', 'Unnamed: 7_level_0_Eastern MA', 'Unnamed: 8_level_0_Southeastern MA', 'Unnamed: 9_level_0_Western MA']\n",
    "id_vars = [x for x in df.columns if x not in value_vars]\n",
    "\n",
    "print(df.shape)\n",
    "df = pd.melt(df, id_vars = id_vars, value_vars = value_vars, value_name = 'geo_location')\n",
    "del df['variable']\n",
    "df = df.dropna(subset=['geo_location'])\n",
    "print(df.shape)"
   ]
  },
  {
   "cell_type": "code",
   "execution_count": 9,
   "metadata": {},
   "outputs": [
    {
     "name": "stdout",
     "output_type": "stream",
     "text": [
      "(9936, 15)\n",
      "(15840, 10)\n"
     ]
    }
   ],
   "source": [
    "# pivot grades served fields\n",
    "value_vars = ['Grades currently served by your school(s) (please check all that apply):_K-12 School', 'Unnamed: 12_level_0_Elementary School', 'Unnamed: 13_level_0_Middle School', 'Unnamed: 14_level_0_Elementary/Middle School', 'Unnamed: 15_level_0_Middle/High School', 'Unnamed: 16_level_0_High School']\n",
    "id_vars = [x for x in df.columns if x not in value_vars]\n",
    "\n",
    "print(df.shape)\n",
    "df = pd.melt(df, id_vars = id_vars, value_vars = value_vars, value_name = 'grades_served')\n",
    "del df['variable']\n",
    "df = df.dropna(subset=['grades_served'])\n",
    "print(df.shape)"
   ]
  },
  {
   "cell_type": "code",
   "execution_count": 10,
   "metadata": {},
   "outputs": [],
   "source": [
    "# clean question strings\n",
    "df['question'] = df['question'].str.replace('_Response', '')"
   ]
  },
  {
   "cell_type": "code",
   "execution_count": 12,
   "metadata": {},
   "outputs": [],
   "source": [
    "# sort by question sort\n",
    "df.sort_values('question_sort', inplace=True)"
   ]
  },
  {
   "cell_type": "code",
   "execution_count": 13,
   "metadata": {},
   "outputs": [],
   "source": [
    "# export final dataset\n",
    "df.to_csv('./data/finalized/survey_finalized.csv', index=False)"
   ]
  },
  {
   "cell_type": "code",
   "execution_count": null,
   "metadata": {},
   "outputs": [],
   "source": []
  }
 ],
 "metadata": {
  "kernelspec": {
   "display_name": "Python 3.7.3 64-bit",
   "language": "python",
   "name": "python37364bit0de4a828bf4c44129f007a9401a7971b"
  },
  "language_info": {
   "codemirror_mode": {
    "name": "ipython",
    "version": 3
   },
   "file_extension": ".py",
   "mimetype": "text/x-python",
   "name": "python",
   "nbconvert_exporter": "python",
   "pygments_lexer": "ipython3",
   "version": "3.7.3"
  }
 },
 "nbformat": 4,
 "nbformat_minor": 4
}
