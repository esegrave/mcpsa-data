{
 "cells": [
  {
   "cell_type": "code",
   "execution_count": 1,
   "metadata": {},
   "outputs": [],
   "source": [
    "import pandas as pd\n",
    "import numpy as np"
   ]
  },
  {
   "cell_type": "code",
   "execution_count": 2,
   "metadata": {},
   "outputs": [
    {
     "name": "stdout",
     "output_type": "stream",
     "text": [
      "(56234, 17)\n",
      "     1   10   11    2    3    4     5     6    7     8     9   ALL  \\\n",
      "0  1.8  6.3  2.3  6.7  1.7  3.5   3.4   4.2  6.2  13.6   4.6   4.9   \n",
      "1  3.5  2.0  5.0  5.0  5.5  3.1   1.2   3.1  3.7  17.9   1.9   4.9   \n",
      "2  NaN  4.5  4.4  NaN  NaN  NaN  10.0  17.7  8.0  15.1  11.0  10.6   \n",
      "3  3.5  3.5  0.9  3.9  3.6  3.7   4.9   5.9  1.8   8.0   2.4   3.8   \n",
      "4  3.7  NaN  NaN  1.3  3.7  4.7   4.0   0.0  5.7   NaN   NaN   3.6   \n",
      "\n",
      "  District Code                                           district    K  \\\n",
      "0      04450000       Abby Kelley Foster Charter Public (District)  3.4   \n",
      "1      00010000                                           Abington  6.5   \n",
      "2      04120000  Academy Of the Pacific Rim Charter Public (Dis...  NaN   \n",
      "3      06000000                                   Acton-Boxborough  3.3   \n",
      "4      00030000                                           Acushnet  4.9   \n",
      "\n",
      "    group_state     year  \n",
      "0  All Students  2019-20  \n",
      "1  All Students  2019-20  \n",
      "2  All Students  2019-20  \n",
      "3  All Students  2019-20  \n",
      "4  All Students  2019-20  \n"
     ]
    }
   ],
   "source": [
    "# import attrition files\n",
    "path = './data/attrition/raw/'\n",
    "\n",
    "years = ['2019-20', '2018-19', '2017-18', '2016-17', '2015-16', '2014-15', '2013-14', '2012-13', '2011-12', '2010-11', '2009-10']\n",
    "groups = ['All Students', 'Female', 'Male', 'Economically Disadvantaged', 'High Needs', 'English Learner', 'Low Income', 'Students with disabilities', 'African AmericanBlack', 'American Indian or Alaskan Native', 'Asian', 'Hispanic or Latino', 'Multi-race, non-Hispanic or Latino', 'Native Hawaiian or Pacific Islander', 'White']\n",
    "\n",
    "df_a = pd.DataFrame()\n",
    "\n",
    "for year in years:\n",
    "    for group in groups:\n",
    "        temp = pd.read_excel(path + 'ma_attrition_' + group + '_' + year + '.xlsx', dtype={'District Name':str,'District Code':str,'K':np.float64,'1':np.float64,'2':np.float64,'3':np.float64,'4':np.float64,'5':np.float64,'6':np.float64,'7':np.float64,'8':np.float64,'9':np.float64,'10':np.float64,'11':np.float64,'ALL':np.float64},skiprows=[0], thousands=',')\n",
    "        temp['year'] = year\n",
    "        temp['group_state'] = group\n",
    "        df_a = df_a.append(temp, ignore_index=True, sort=True)\n",
    "\n",
    "df_a = df_a.rename(columns={'District Name': 'district'})\n",
    "        \n",
    "print(df_a.shape)\n",
    "print(df_a.head(5))"
   ]
  },
  {
   "cell_type": "code",
   "execution_count": 3,
   "metadata": {},
   "outputs": [
    {
     "name": "stdout",
     "output_type": "stream",
     "text": [
      "0        2019-20\n",
      "5203     2018-19\n",
      "10381    2017-18\n",
      "15565    2016-17\n",
      "20746    2015-16\n",
      "25938    2014-15\n",
      "31072    2013-14\n",
      "36196    2012-13\n",
      "41262    2011-12\n",
      "46265    2010-11\n",
      "51269    2009-10\n",
      "Name: year, dtype: object\n",
      "0        2020\n",
      "5203     2019\n",
      "10381    2018\n",
      "15565    2017\n",
      "20746    2016\n",
      "25938    2015\n",
      "31072    2014\n",
      "36196    2013\n",
      "41262    2012\n",
      "46265    2011\n",
      "51269    2010\n",
      "Name: year, dtype: object\n"
     ]
    }
   ],
   "source": [
    "# edit year field\n",
    "print(df_a['year'].drop_duplicates())\n",
    "df_a['year'] = ['20' + x[-2:] for x in df_a['year']]\n",
    "print(df_a['year'].drop_duplicates())"
   ]
  },
  {
   "cell_type": "code",
   "execution_count": 4,
   "metadata": {},
   "outputs": [
    {
     "name": "stdout",
     "output_type": "stream",
     "text": [
      "(41238, 9)\n",
      "   % Churn  % Intake  % Stability  Churn/Intake Enroll District Code  \\\n",
      "0      5.1       3.3         95.8               1451.0      04450000   \n",
      "1      7.1       4.4         95.7               2229.0      00010000   \n",
      "2      6.9       5.4         96.4                551.0      04120000   \n",
      "3      4.0       2.6         98.1               5531.0      06000000   \n",
      "4      4.8       2.6         96.9               1033.0      00030000   \n",
      "\n",
      "                                            district  Stability Enroll  \\\n",
      "0       Abby Kelley Foster Charter Public (District)            1438.0   \n",
      "1                                           Abington            2163.0   \n",
      "2  Academy Of the Pacific Rim Charter Public (Dis...             532.0   \n",
      "3                                   Acton-Boxborough            5413.0   \n",
      "4                                           Acushnet            1016.0   \n",
      "\n",
      "    group_state  year  \n",
      "0  All Students  2020  \n",
      "1  All Students  2020  \n",
      "2  All Students  2020  \n",
      "3  All Students  2020  \n",
      "4  All Students  2020  \n"
     ]
    }
   ],
   "source": [
    "# import mobility files\n",
    "path = './data/mobility/raw/'\n",
    "\n",
    "years = ['2020', '2019', '2018', '2017', '2016', '2015', '2014', '2013', '2012', '2011', '2010']\n",
    "groups = ['All Students', 'Economically Disadvantaged', 'High Needs', 'English Learner', 'Low Income', 'Students with disabilities', 'African AmericanBlack', 'American Indian or Alaskan Native', 'Asian', 'Hispanic or Latino', 'Multi-race, non-Hispanic or Latino', 'Native Hawaiian or Pacific Islander', 'White']\n",
    "\n",
    "df_m = pd.DataFrame()\n",
    "\n",
    "for year in years:\n",
    "    for group in groups:\n",
    "        temp = pd.read_excel(path + 'ma_mobility_' + group + '_' + year + '.xlsx', dtype={'District Name':str,'District Code':str,'Churn/Intake Enroll':np.float64,'% Churn':np.float64,'% Intake':np.float64,'Stability Enroll':np.float64,'% Stability':np.float64},skiprows=[0], thousands=',')\n",
    "        temp['year'] = year\n",
    "        temp['group_state'] = group\n",
    "        df_m = df_m.append(temp, ignore_index=True, sort=True)\n",
    "\n",
    "df_m = df_m.rename(columns={'District Name': 'district'})\n",
    "        \n",
    "print(df_m.shape)\n",
    "print(df_m.head(5))"
   ]
  },
  {
   "cell_type": "code",
   "execution_count": 5,
   "metadata": {},
   "outputs": [
    {
     "name": "stdout",
     "output_type": "stream",
     "text": [
      "(56234, 17)\n",
      "(41238, 9)\n",
      "(57003, 23)\n",
      "(57003, 24)\n",
      "     1   10   11    2    3    4     5     6    7     8  ...    K  \\\n",
      "0  1.8  6.3  2.3  6.7  1.7  3.5   3.4   4.2  6.2  13.6  ...  3.4   \n",
      "1  3.5  2.0  5.0  5.0  5.5  3.1   1.2   3.1  3.7  17.9  ...  6.5   \n",
      "2  NaN  4.5  4.4  NaN  NaN  NaN  10.0  17.7  8.0  15.1  ...  NaN   \n",
      "3  3.5  3.5  0.9  3.9  3.6  3.7   4.9   5.9  1.8   8.0  ...  3.3   \n",
      "4  3.7  NaN  NaN  1.3  3.7  4.7   4.0   0.0  5.7   NaN  ...  4.9   \n",
      "\n",
      "    group_state  year % Churn  % Intake % Stability Churn/Intake Enroll  \\\n",
      "0  All Students  2020     5.1       3.3        95.8              1451.0   \n",
      "1  All Students  2020     7.1       4.4        95.7              2229.0   \n",
      "2  All Students  2020     6.9       5.4        96.4               551.0   \n",
      "3  All Students  2020     4.0       2.6        98.1              5531.0   \n",
      "4  All Students  2020     4.8       2.6        96.9              1033.0   \n",
      "\n",
      "                                          district_y  Stability Enroll  \\\n",
      "0       Abby Kelley Foster Charter Public (District)            1438.0   \n",
      "1                                           Abington            2163.0   \n",
      "2  Academy Of the Pacific Rim Charter Public (Dis...             532.0   \n",
      "3                                   Acton-Boxborough            5413.0   \n",
      "4                                           Acushnet            1016.0   \n",
      "\n",
      "                                            district  \n",
      "0       Abby Kelley Foster Charter Public (District)  \n",
      "1                                           Abington  \n",
      "2  Academy Of the Pacific Rim Charter Public (Dis...  \n",
      "3                                   Acton-Boxborough  \n",
      "4                                           Acushnet  \n",
      "\n",
      "[5 rows x 24 columns]\n"
     ]
    }
   ],
   "source": [
    "# join attrition & mobility datasets\n",
    "print(df_a.shape)\n",
    "print(df_m.shape)\n",
    "df = df_a.merge(df_m, on=['year', 'District Code', 'group_state'], how='outer')\n",
    "print(df.shape)\n",
    "df['district'] = df.district_x.combine_first(df.district_y)\n",
    "print(df.shape)\n",
    "print(df.head(5))"
   ]
  },
  {
   "cell_type": "code",
   "execution_count": 6,
   "metadata": {},
   "outputs": [],
   "source": [
    "del df_a\n",
    "del df_m\n",
    "del df['district_x']\n",
    "del df['district_y']"
   ]
  },
  {
   "cell_type": "code",
   "execution_count": 7,
   "metadata": {},
   "outputs": [
    {
     "name": "stdout",
     "output_type": "stream",
     "text": [
      "(57003, 22)\n",
      "(56916, 22)\n",
      "(56805, 22)\n",
      "(56767, 22)\n",
      "(56629, 22)\n",
      "(56487, 22)\n",
      "(56440, 22)\n",
      "(56325, 22)\n",
      "(56207, 22)\n",
      "(56113, 22)\n",
      "(56055, 22)\n",
      "(56055, 22)\n",
      "(56055, 22)\n",
      "(56055, 22)\n",
      "196                 Match Charter Public School (District)\n",
      "31275    Match Community Day Charter Public School (Dis...\n",
      "Name: district, dtype: object\n"
     ]
    }
   ],
   "source": [
    "# add manual data changes\n",
    "print(df.shape)\n",
    "df = df[df['District Code'] != '04070000']\n",
    "print(df.shape)\n",
    "df = df[df['District Code'] != '04110000']\n",
    "print(df.shape)\n",
    "df = df[df['District Code'] != '04230000']\n",
    "print(df.shape)\n",
    "df = df[df['District Code'] != '04270000']\n",
    "print(df.shape)\n",
    "df = df[df['District Code'] != '04520000']\n",
    "print(df.shape)\n",
    "df = df[df['District Code'] != '04710000']\n",
    "print(df.shape)\n",
    "df = df[df['District Code'] != '04770000']\n",
    "print(df.shape)\n",
    "df = df[df['District Code'] != '04800000']\n",
    "print(df.shape)\n",
    "df = df[df['District Code'] != '35050000']\n",
    "print(df.shape)\n",
    "df = df[df['District Code'] != '35110000']\n",
    "print(df.shape)\n",
    "\n",
    "# remove district totals & Horace Mann\n",
    "print(df.shape)\n",
    "df = df[df['District Code'] != '00000000']\n",
    "print(df.shape)\n",
    "df = df[~df['district'].str.contains('Horace Mann')]\n",
    "print(df.shape)\n",
    "\n",
    "df.district = df.district.str.replace('MATCH', 'Match', regex=False)\n",
    "print(df[df.district.str.contains('Match')].district.drop_duplicates())"
   ]
  },
  {
   "cell_type": "code",
   "execution_count": 8,
   "metadata": {},
   "outputs": [
    {
     "name": "stdout",
     "output_type": "stream",
     "text": [
      "(56055, 22)\n",
      "(50457, 22)\n"
     ]
    }
   ],
   "source": [
    "# drop rows with null values\n",
    "print(df.shape)\n",
    "df = df.dropna(subset=['K','1','2','3','4','5','6','7','8','9','10','11','ALL','Churn/Intake Enroll','% Churn','% Intake','Stability Enroll','% Stability'], how='all')\n",
    "print(df.shape)"
   ]
  },
  {
   "cell_type": "code",
   "execution_count": 9,
   "metadata": {},
   "outputs": [
    {
     "name": "stdout",
     "output_type": "stream",
     "text": [
      "Index(['1', '10', '11', '2', '3', '4', '5', '6', '7', '8', '9', 'ALL',\n",
      "       'District Code', 'K', 'group_state', 'year', '% Churn', '% Intake',\n",
      "       '% Stability', 'Churn/Intake Enroll', 'Stability Enroll', 'district'],\n",
      "      dtype='object')\n"
     ]
    }
   ],
   "source": [
    "print(df.columns)"
   ]
  },
  {
   "cell_type": "code",
   "execution_count": 10,
   "metadata": {},
   "outputs": [
    {
     "name": "stdout",
     "output_type": "stream",
     "text": [
      "0    0445\n",
      "1    0001\n",
      "2    0412\n",
      "3    0600\n",
      "4    0003\n",
      "Name: district_id, dtype: object\n"
     ]
    }
   ],
   "source": [
    "# remove last four digits of school code\n",
    "df['district_id'] = df.apply(lambda x: x['District Code'][:4], axis = 1)\n",
    "del df['District Code']\n",
    "print(df['district_id'].drop_duplicates().head(5))"
   ]
  },
  {
   "cell_type": "code",
   "execution_count": 11,
   "metadata": {},
   "outputs": [
    {
     "name": "stdout",
     "output_type": "stream",
     "text": [
      "1                      float64\n",
      "10                     float64\n",
      "11                     float64\n",
      "2                      float64\n",
      "3                      float64\n",
      "4                      float64\n",
      "5                      float64\n",
      "6                      float64\n",
      "7                      float64\n",
      "8                      float64\n",
      "9                      float64\n",
      "ALL                    float64\n",
      "K                      float64\n",
      "group_state             object\n",
      "year                    object\n",
      "% Churn                float64\n",
      "% Intake               float64\n",
      "% Stability            float64\n",
      "Churn/Intake Enroll    float64\n",
      "Stability Enroll       float64\n",
      "district                object\n",
      "district_id             object\n",
      "dtype: object\n",
      "1                      float64\n",
      "10                     float64\n",
      "11                     float64\n",
      "2                      float64\n",
      "3                      float64\n",
      "4                      float64\n",
      "5                      float64\n",
      "6                      float64\n",
      "7                      float64\n",
      "8                      float64\n",
      "9                      float64\n",
      "ALL                    float64\n",
      "K                      float64\n",
      "group_state             object\n",
      "year                    object\n",
      "% Churn                float64\n",
      "% Intake               float64\n",
      "% Stability            float64\n",
      "Churn/Intake Enroll    float64\n",
      "Stability Enroll       float64\n",
      "district                object\n",
      "district_id              int64\n",
      "dtype: object\n"
     ]
    }
   ],
   "source": [
    "print(df.dtypes)\n",
    "df['district_id'] = df['district_id'].astype('int64')\n",
    "print(df.dtypes)"
   ]
  },
  {
   "cell_type": "code",
   "execution_count": 12,
   "metadata": {},
   "outputs": [
    {
     "name": "stdout",
     "output_type": "stream",
     "text": [
      "(50457, 21)\n",
      "(50457, 22)\n"
     ]
    }
   ],
   "source": [
    "# use most recent district name per district_id\n",
    "df_leas = df[['year', 'district_id', 'district']]\n",
    "df_leas = df_leas.sort_values(['year', 'district_id', 'district'], ascending = False)\n",
    "df_leas = df_leas.drop_duplicates(subset=['district_id'])\n",
    "del df_leas['year']\n",
    "\n",
    "# join back to df\n",
    "del df['district']\n",
    "print(df.shape)\n",
    "df = df.merge(df_leas, on = ['district_id'])\n",
    "print(df.shape)"
   ]
  },
  {
   "cell_type": "code",
   "execution_count": 13,
   "metadata": {},
   "outputs": [
    {
     "name": "stdout",
     "output_type": "stream",
     "text": [
      "(50457, 22)\n",
      "(50457, 23)\n",
      "     1    10   11     2    3    4    5    6    7     8  ...  \\\n",
      "0  1.8   6.3  2.3   6.7  1.7  3.5  3.4  4.2  6.2  13.6  ...   \n",
      "1  1.4   3.6  0.0   3.0  3.4  1.9  4.7  6.3  3.5  10.9  ...   \n",
      "2  2.6  10.3  5.0  11.3  0.0  4.8  1.9  1.8  8.9  15.9  ...   \n",
      "3  4.1   3.7  0.0   3.6  4.0  2.3  4.1  2.2  5.1  11.1  ...   \n",
      "4  2.5   2.9  0.0   6.7  2.4  3.1  2.9  3.3  5.5  14.6  ...   \n",
      "\n",
      "                  group_state  year  % Churn % Intake % Stability  \\\n",
      "0                All Students  2020      5.1      3.3        95.8   \n",
      "1                      Female  2020      NaN      NaN         NaN   \n",
      "2                        Male  2020      NaN      NaN         NaN   \n",
      "3  Economically Disadvantaged  2020      5.4      4.0        95.7   \n",
      "4                  High Needs  2020      5.7      4.2        95.4   \n",
      "\n",
      "   Churn/Intake Enroll  Stability Enroll  district_id  \\\n",
      "0               1451.0            1438.0          445   \n",
      "1                  NaN               NaN          445   \n",
      "2                  NaN               NaN          445   \n",
      "3                680.0             672.0          445   \n",
      "4                898.0             888.0          445   \n",
      "\n",
      "                                       district  charter_flag  \n",
      "0  Abby Kelley Foster Charter Public (District)           1.0  \n",
      "1  Abby Kelley Foster Charter Public (District)           1.0  \n",
      "2  Abby Kelley Foster Charter Public (District)           1.0  \n",
      "3  Abby Kelley Foster Charter Public (District)           1.0  \n",
      "4  Abby Kelley Foster Charter Public (District)           1.0  \n",
      "\n",
      "[5 rows x 23 columns]\n"
     ]
    }
   ],
   "source": [
    "# import file for charter flag\n",
    "df_flags = pd.read_csv('./data/finalized/charter_to_district.csv')\n",
    "df_flags = df_flags[df_flags.fy.eq('fy21')]\n",
    "df_flags = df_flags[['charter_lea_code']].drop_duplicates()\n",
    "df_flags = df_flags.rename(columns={'charter_lea_code': 'district_id'})\n",
    "df_flags['charter_flag'] = 1\n",
    "\n",
    "print(df.shape)\n",
    "df = df.merge(df_flags, on = ['district_id'], how = 'left')\n",
    "del df_flags\n",
    "print(df.shape)\n",
    "print(df.head(5))"
   ]
  },
  {
   "cell_type": "code",
   "execution_count": 14,
   "metadata": {},
   "outputs": [
    {
     "name": "stdout",
     "output_type": "stream",
     "text": [
      "Index(['1', '10', '11', '2', '3', '4', '5', '6', '7', '8', '9', 'ALL', 'K',\n",
      "       'group_state', 'year', '% Churn', '% Intake', '% Stability',\n",
      "       'Churn/Intake Enroll', 'Stability Enroll', 'district_id', 'district',\n",
      "       'charter_flag'],\n",
      "      dtype='object')\n"
     ]
    }
   ],
   "source": [
    "print(df.columns)"
   ]
  },
  {
   "cell_type": "code",
   "execution_count": 15,
   "metadata": {},
   "outputs": [
    {
     "name": "stdout",
     "output_type": "stream",
     "text": [
      "   Charter LEA ID                                   Charter LEA Name  \\\n",
      "0         4070405  Dudley Street Neighborhood Charter School (Dis...   \n",
      "1         4090205  Alma del Mar Charter School (District) - Alma ...   \n",
      "2         4100205  Excel Academy Charter (District) - Excel Acade...   \n",
      "3         4110305  Boston Green Academy Horace Mann Charter Schoo...   \n",
      "4         4120530  Academy Of the Pacific Rim Charter Public (Dis...   \n",
      "\n",
      "  Regional Affiliation/s Geographic Location/s  \n",
      "0                 Boston                Boston  \n",
      "1                Gateway          Southeastern  \n",
      "2                 Boston                Boston  \n",
      "3                 Boston                Boston  \n",
      "4                 Boston                Boston  \n",
      "(50457, 23)\n",
      "(52247, 25)\n"
     ]
    }
   ],
   "source": [
    "# join charter reg and geo file\n",
    "df_reg = pd.read_csv('./data/finalized/MCPSA Charter Reg and Geo Affiliations.csv')\n",
    "df_reg = df_reg[['Charter LEA ID', 'Charter LEA Name', 'Regional Affiliation/s', 'Geographic Location/s']]\n",
    "print(df_reg.head(5))\n",
    "df_reg['district_id'] = df_reg.apply(lambda x: int(x['Charter LEA ID'] / 10000), axis = 1)\n",
    "del df_reg['Charter LEA ID']\n",
    "del df_reg['Charter LEA Name']\n",
    "\n",
    "print(df.shape)\n",
    "df = df.merge(df_reg, on=['district_id'], how='left')\n",
    "print(df.shape)"
   ]
  },
  {
   "cell_type": "code",
   "execution_count": 16,
   "metadata": {},
   "outputs": [
    {
     "name": "stdout",
     "output_type": "stream",
     "text": [
      "Index(['1', '10', '11', '2', '3', '4', '5', '6', '7', '8', '9', 'ALL', 'K',\n",
      "       'group_state', 'year', '% Churn', '% Intake', '% Stability',\n",
      "       'Churn/Intake Enroll', 'Stability Enroll', 'district_id', 'district',\n",
      "       'charter_flag', 'Regional Affiliation/s', 'Geographic Location/s'],\n",
      "      dtype='object')\n"
     ]
    }
   ],
   "source": [
    "print(df.columns)"
   ]
  },
  {
   "cell_type": "code",
   "execution_count": 17,
   "metadata": {},
   "outputs": [
    {
     "name": "stdout",
     "output_type": "stream",
     "text": [
      "charter_lea_code               int64\n",
      "sending_lea_code               int64\n",
      "enrolled_n                     int64\n",
      "physical_charter_location     object\n",
      "chartered_to_serve           float64\n",
      "dtype: object\n",
      "(1029, 5)\n"
     ]
    }
   ],
   "source": [
    "# import charter_to_district data for calculating multipliers\n",
    "df_mult = pd.read_csv('./data/finalized/charter_to_district_edited.csv')\n",
    "print(df_mult.dtypes)\n",
    "print(df_mult.shape)"
   ]
  },
  {
   "cell_type": "code",
   "execution_count": 18,
   "metadata": {},
   "outputs": [
    {
     "name": "stdout",
     "output_type": "stream",
     "text": [
      "sending_lea_code    int64\n",
      "enrolled_n          int64\n",
      "dtype: object\n",
      "(253, 2)\n"
     ]
    }
   ],
   "source": [
    "# import district_remainders data for calculating multipliers\n",
    "df_enrollment = pd.read_csv('./data/finalized/district_remainders.csv')\n",
    "print(df_enrollment.dtypes)\n",
    "print(df_enrollment.shape)"
   ]
  },
  {
   "cell_type": "code",
   "execution_count": 19,
   "metadata": {},
   "outputs": [
    {
     "name": "stdout",
     "output_type": "stream",
     "text": [
      "(144166, 30)\n",
      "(144166, 53)\n",
      "Index(['charter_lea_code', 'sending_lea_code', 'enrolled_n',\n",
      "       'physical_charter_location', 'chartered_to_serve', '1_charter',\n",
      "       '10_charter', '11_charter', '2_charter', '3_charter', '4_charter',\n",
      "       '5_charter', '6_charter', '7_charter', '8_charter', '9_charter',\n",
      "       'ALL_charter', 'K_charter', 'group_state', 'year', '% Churn_charter',\n",
      "       '% Intake_charter', '% Stability_charter',\n",
      "       'Churn/Intake Enroll_charter', 'Stability Enroll_charter',\n",
      "       'district_id_charter', 'district_charter', 'charter_flag_charter',\n",
      "       'Regional Affiliation/s_charter', 'Geographic Location/s_charter',\n",
      "       '1_district', '10_district', '11_district', '2_district', '3_district',\n",
      "       '4_district', '5_district', '6_district', '7_district', '8_district',\n",
      "       '9_district', 'ALL_district', 'K_district', '% Churn_district',\n",
      "       '% Intake_district', '% Stability_district',\n",
      "       'Churn/Intake Enroll_district', 'Stability Enroll_district',\n",
      "       'district_id_district', 'district_district', 'charter_flag_district',\n",
      "       'Regional Affiliation/s_district', 'Geographic Location/s_district'],\n",
      "      dtype='object')\n"
     ]
    }
   ],
   "source": [
    "# join charter_to_district to data\n",
    "df_charter = df[df['charter_flag'] == 1]\n",
    "df_district = df[df['charter_flag'] != 1]\n",
    "\n",
    "df_mult = df_mult.merge(df_charter, left_on=['charter_lea_code'], right_on = ['district_id'], how='left')\n",
    "print(df_mult.shape)\n",
    "df_mult = df_mult.merge(df_district, left_on=['sending_lea_code', 'year', 'group_state'], right_on = ['district_id', 'year','group_state'], how='left', suffixes=['_charter', '_district'])\n",
    "print(df_mult.shape)\n",
    "print(df_mult.columns)"
   ]
  },
  {
   "cell_type": "code",
   "execution_count": 20,
   "metadata": {},
   "outputs": [
    {
     "name": "stdout",
     "output_type": "stream",
     "text": [
      "Index(['1_district', '10_district', '11_district', '2_district', '3_district',\n",
      "       '4_district', '5_district', '6_district', '7_district', '8_district',\n",
      "       '9_district', 'ALL_district', 'K_district', 'group_state', 'year',\n",
      "       '% Churn_district', '% Intake_district', '% Stability_district',\n",
      "       'Churn/Intake Enroll_district', 'Stability Enroll_district',\n",
      "       'district_id_district', 'district_district', 'charter_flag_district',\n",
      "       'Regional Affiliation/s_district', 'Geographic Location/s_district',\n",
      "       'sending_lea_code', 'enrolled_n'],\n",
      "      dtype='object')\n"
     ]
    }
   ],
   "source": [
    "# join enrollment remainders to district data\n",
    "df_district.columns = df_district.columns.map(lambda x: str(x) + '_district')\n",
    "df_district = df_district.rename(columns={'year_district': 'year', 'group_state_district': 'group_state'})\n",
    "df_district = df_district.merge(df_enrollment, left_on=['district_id_district'], right_on=['sending_lea_code'], how='inner')\n",
    "print(df_district.columns)"
   ]
  },
  {
   "cell_type": "code",
   "execution_count": 21,
   "metadata": {},
   "outputs": [
    {
     "name": "stdout",
     "output_type": "stream",
     "text": [
      "(144166, 53)\n",
      "(33773, 27)\n",
      "(177939, 53)\n"
     ]
    }
   ],
   "source": [
    "# append back to other joined data\n",
    "print(df_mult.shape)\n",
    "print(df_district.shape)\n",
    "df_mult = df_mult.append(df_district, ignore_index=True, sort=True)\n",
    "print(df_mult.shape)"
   ]
  },
  {
   "cell_type": "code",
   "execution_count": 22,
   "metadata": {},
   "outputs": [],
   "source": [
    "# review grade/group/year breakdown of data\n",
    "# df.groupby(['year', 'grade', 'group_state'])['num'].sum().to_csv('temp.csv')"
   ]
  },
  {
   "cell_type": "code",
   "execution_count": 23,
   "metadata": {},
   "outputs": [],
   "source": [
    "# export grad dataset for QA\n",
    "df.to_csv('./data/finalized/attrition_mobility.csv')"
   ]
  },
  {
   "cell_type": "code",
   "execution_count": 24,
   "metadata": {},
   "outputs": [
    {
     "name": "stdout",
     "output_type": "stream",
     "text": [
      "(177939, 53)\n",
      "(177939, 53)\n"
     ]
    }
   ],
   "source": [
    "# export final dataset\n",
    "print(df_mult.shape)\n",
    "df_mult = df_mult.dropna(subset=['year'])\n",
    "print(df_mult.shape)\n",
    "df_mult.to_csv('./data/finalized/attrition_mobility_with_multipliers.csv', index=False)"
   ]
  },
  {
   "cell_type": "code",
   "execution_count": null,
   "metadata": {},
   "outputs": [],
   "source": []
  }
 ],
 "metadata": {
  "kernelspec": {
   "display_name": "Python 3",
   "language": "python",
   "name": "python3"
  },
  "language_info": {
   "codemirror_mode": {
    "name": "ipython",
    "version": 3
   },
   "file_extension": ".py",
   "mimetype": "text/x-python",
   "name": "python",
   "nbconvert_exporter": "python",
   "pygments_lexer": "ipython3",
   "version": "3.7.3"
  }
 },
 "nbformat": 4,
 "nbformat_minor": 4
}
