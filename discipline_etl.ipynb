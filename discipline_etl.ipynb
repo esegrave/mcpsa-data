{
 "cells": [
  {
   "cell_type": "code",
   "execution_count": 2,
   "metadata": {},
   "outputs": [
    {
     "name": "stdout",
     "output_type": "stream",
     "text": [
      "(180738, 13)\n",
      "   % Emergency Removal  % Expulsion  % In-School Suspension  \\\n",
      "0                  0.0          0.0                     0.3   \n",
      "1                  0.0          0.0                     1.9   \n",
      "2                  0.0          0.0                     0.2   \n",
      "3                  0.0          0.0                     0.1   \n",
      "4                  0.0          0.0                     0.8   \n",
      "\n",
      "   % Out-of-School Suspension  % Removed to Alternate Setting  \\\n",
      "0                         1.7                             0.0   \n",
      "1                         1.2                             0.0   \n",
      "2                         5.8                             0.0   \n",
      "3                         0.5                             0.0   \n",
      "4                         0.1                             0.0   \n",
      "\n",
      "   % Students with a School-Based Arrest District Code  \\\n",
      "0                                    0.0      04450000   \n",
      "1                                    0.0      00010000   \n",
      "2                                    0.0      04120000   \n",
      "3                                    0.0      06000000   \n",
      "4                                    0.0      00030000   \n",
      "\n",
      "                                            district  Students  \\\n",
      "0       Abby Kelley Foster Charter Public (District)    1446.0   \n",
      "1                                           Abington    2225.0   \n",
      "2  Academy Of the Pacific Rim Charter Public (Dis...     551.0   \n",
      "3                                   Acton-Boxborough    5530.0   \n",
      "4                                           Acushnet    1033.0   \n",
      "\n",
      "   Students Disciplined   group_state          type  year  \n",
      "0                  27.0  All Students  All Offenses  2020  \n",
      "1                  63.0  All Students  All Offenses  2020  \n",
      "2                  33.0  All Students  All Offenses  2020  \n",
      "3                  30.0  All Students  All Offenses  2020  \n",
      "4                   8.0  All Students  All Offenses  2020  \n"
     ]
    }
   ],
   "source": [
    "# import files\n",
    "import pandas as pd\n",
    "import numpy as np\n",
    "\n",
    "path = './data/studentdiscipline/raw/'\n",
    "\n",
    "year_type = {\n",
    "    '2020': ['All Offenses', 'Bullying', 'Destruction of school property due to arson', 'Felony conviction or complaint', 'Homicide (murder or manslaughter)', 'Illegal substances', 'Kidnapping (abduction)', 'Non-drug, non-violent or non-criminal-related offense', 'Other violence or substance-related offense', 'Physical attack (battery)', 'Physical fight ', 'Robbery using force', 'Sexual assault', 'Sexual harassment', 'Theft (school, staff or student property)', 'Threat of physical attack', 'Threat of robbery', 'Vandalismdestruction of property', 'Weapon on school premises'],\n",
    "    '2019': ['All Offenses', 'Bullying', 'Destruction of school property due to arson', 'Felony conviction or complaint', 'Homicide (murder or manslaughter)', 'Illegal substances', 'Kidnapping (abduction)', 'Non-drug, non-violent or non-criminal-related offense', 'Other violence or substance-related offense', 'Physical attack (battery)', 'Physical fight ', 'Robbery using force', 'Sexual assault', 'Sexual harassment', 'Theft (school, staff or student property)', 'Threat of physical attack', 'Threat of robbery', 'Vandalismdestruction of property', 'Weapon on school premises'],\n",
    "    '2018': ['All Offenses', 'Bullying', 'Destruction of school property due to arson', 'Felony conviction or complaint', 'Homicide (murder or manslaughter)', 'Illegal substances', 'Kidnapping (abduction)', 'Non-drug, non-violent or non-criminal-related offense', 'Other violence or substance-related offense', 'Physical attack (battery)', 'Physical fight ', 'Robbery using force', 'Sexual assault', 'Sexual harassment', 'Theft (school, staff or student property)', 'Threat of physical attack', 'Threat of robbery', 'Vandalismdestruction of property', 'Weapon on school premises'],\n",
    "    '2017': ['All Offenses', '1 Illegal substances', '1a Tobacco use (cigarettes, cigars, pipes or smokeless tobacco)', '1b Alcohol possession', '1c Alcohol use', '1d Marijuana possession', '1e Marijuana use', '1f Possession of other illegal substances', '1g Illegal use of other substances', '1h Sale of illegal drugs', '1i Possession of illegal drugs with intent to sell ', '2 Physical fight', '3 Threat of physical attack', '4 Physical attack, assault (non- sexual)', '5 Sexual Harassment', '6 Sexual assault (including rape)', '7 Theft (school, staff or student property)', '8 Threat of robbery', '9 Robbery using force', '10 Vandalismdestruction of property', '11 Destruction of school property due to arson', '12 Kidnapping', '13 Homicide', '14 Weapon on school premises', '14a Knife (cutting weapon)', '14b1 Handgun', '14b2 Rifle', '14b3 Shotgun', '14b4 Other firearm', '14c Explosive or incendiary device', '14d Other weapon', '15 Other violence, drug or criminal incident', '16 Felony Conviction Outside of School', '17 Bullying', '18 Non-drug, non-violent or non-criminal-related offense'],\n",
    "    '2016': ['All Offenses', '1 Illegal substances', '1a Tobacco use (cigarettes, cigars, pipes or smokeless tobacco)', '1b Alcohol possession', '1c Alcohol use', '1d Marijuana possession', '1e Marijuana use', '1f Possession of other illegal substances', '1g Illegal use of other substances', '1h Sale of illegal drugs', '1i Possession of illegal drugs with intent to sell ', '2 Physical fight', '3 Threat of physical attack', '4 Physical attack, assault (non- sexual)', '5 Sexual Harassment', '6 Sexual assault (including rape)', '7 Theft (school, staff or student property)', '8 Threat of robbery', '9 Robbery using force', '10 Vandalismdestruction of property', '11 Destruction of school property due to arson', '12 Kidnapping', '13 Homicide', '14 Weapon on school premises', '14a Knife (cutting weapon)', '14b1 Handgun', '14b2 Rifle', '14b3 Shotgun', '14b4 Other firearm', '14c Explosive or incendiary device', '14d Other weapon', '15 Other violence, drug or criminal incident', '16 Felony Conviction Outside of School', '17 Bullying', '18 Non-drug, non-violent or non-criminal-related offense'],\n",
    "    '2015': ['All Offenses', '1 Illegal substances', '1a Tobacco use (cigarettes, cigars, pipes or smokeless tobacco)', '1b Alcohol possession', '1c Alcohol use', '1d Marijuana possession', '1e Marijuana use', '1f Possession of other illegal substances', '1g Illegal use of other substances', '1h Sale of illegal drugs', '1i Possession of illegal drugs with intent to sell ', '2 Physical fight', '3 Threat of physical attack', '4 Physical attack, assault (non- sexual)', '5 Sexual Harassment', '6 Sexual assault (including rape)', '7 Theft (school, staff or student property)', '8 Threat of robbery', '9 Robbery using force', '10 Vandalismdestruction of property', '11 Destruction of school property due to arson', '12 Kidnapping', '13 Homicide', '14a Knife (cutting weapon)', '14b1 Handgun', '14b2 Rifle', '14b3 Shotgun', '14b4 Other firearm', '14c Explosive or incendiary device', '14d Other weapon', '15 Other violence, drug or criminal incident', '16 Felony Conviction Outside of School', '17 Bullying', '18 Non-drug, non-violent or non-criminal-related offense'],\n",
    "    '2014': ['All Offenses', '1 Illegal substances', '1a Tobacco use (cigarettes, cigars, pipes or smokeless tobacco)', '1b Alcohol possession', '1c Alcohol use', '1d Marijuana possession', '1e Marijuana use', '1f Possession of other illegal substances', '1g Illegal use of other substances', '1h Sale of illegal drugs', '1i Possession of illegal drugs with intent to sell ', '2 Physical fight', '3 Threat of physical attack', '4 Physical attack, assault (non- sexual)', '5 Sexual Harassment', '6 Sexual assault (including rape)', '7 Theft (school, staff or student property)', '8 Threat of robbery', '9 Robbery using force', '10 Vandalismdestruction of property', '11 Destruction of school property due to arson', '12 Kidnapping', '13 Homicide', '14 Weapon on school premises', '14a Knife (cutting weapon)', '14b1 Handgun', '14b2 Rifle', '14b3 Shotgun', '14b4 Other firearm', '14c Explosive or incendiary device', '14d Other weapon', '15 Other violence, drug or criminal incident', '16 Felony Conviction Outside of School', '17 Bullying', '18 Non-drug, non-violent or non-criminal-related offense'],\n",
    "    '2013': ['All Offenses', '1 Illegal substances', '1a Tobacco use (cigarettes, cigars, pipes or smokeless tobacco)', '1b Alcohol possession', '1c Alcohol use', '1d Marijuana possession', '1e Marijuana use', '1f Possession of other illegal substances', '1g Illegal use of other substances', '1h Sale of illegal drugs', '1i Possession of illegal drugs with intent to sell ', '2 Physical fight', '3 Threat of physical attack', '4 Physical attack, assault (non- sexual)', '5 Sexual Harassment', '6 Sexual assault (including rape)', '7 Theft (school, staff or student property)', '8 Threat of robbery', '9 Robbery using force', '10 Vandalismdestruction of property', '11 Destruction of school property due to arson', '12 Kidnapping', '13 Homicide', '14 Weapon on school premises', '14a Knife (cutting weapon)', '14b1 Handgun', '14b2 Rifle', '14b3 Shotgun', '14b4 Other firearm', '14c Explosive or incendiary device', '14d Other weapon', '15 Other violence, drug or criminal incident', '16 Felony Conviction Outside of School', '17 Bullying', '18 Non-drug, non-violent or non-criminal-related offense']\n",
    "}\n",
    "\n",
    "\n",
    "years = ['2020', '2019', '2018', '2017', '2016', '2015']\n",
    "groups = ['All Students', 'English Learner', 'Economically disadvantaged', 'Students wdisabilities', 'High needs', 'Female', 'Male', 'Amer Ind or Alaska Nat', 'Asian', 'Afr AmerBlack', 'HispanicLatino', 'Multi-race, Non-HispLat', 'Nat Haw or Pacif Isl', 'White']\n",
    "\n",
    "df = pd.DataFrame()\n",
    "\n",
    "for year in years:\n",
    "    for type in year_type[year]:\n",
    "        for group in groups:\n",
    "            temp = pd.read_excel(path + 'ma_studentdiscipline_' + type + '_' + group + '_' + year + '.xlsx', dtype={'District Name':str,'District Code':str,'Students':np.float64,'Students Disciplined':np.float64,'% In-School Suspension':np.float64,'% Out-of-School Suspension':np.float64,'% Expulsion':np.float64,'% Removed to Alternate Setting':np.float64,'% Emergency Removal':np.float64,'% Students with a School-Based Arrest':np.float64},skiprows=[0], thousands=',')\n",
    "            temp['year'] = year\n",
    "            temp['type'] = type\n",
    "            temp['group_state'] = group\n",
    "            df = df.append(temp, ignore_index=True, sort=True)\n",
    "\n",
    "df = df.rename(columns={'District Name': 'district'})\n",
    "\n",
    "print(df.shape)\n",
    "print(df.head(5))"
   ]
  },
  {
   "cell_type": "code",
   "execution_count": 3,
   "metadata": {},
   "outputs": [
    {
     "name": "stdout",
     "output_type": "stream",
     "text": [
      "(180738, 13)\n",
      "(180738, 13)\n",
      "(178900, 13)\n",
      "(177900, 13)\n",
      "197    Match Charter Public School (District)\n",
      "Name: district, dtype: object\n"
     ]
    }
   ],
   "source": [
    "# add manual data changes\n",
    "print(df.shape)\n",
    "# remove district totals & Horace Mann\n",
    "print(df.shape)\n",
    "df = df[df['District Code'] != '00000000']\n",
    "print(df.shape)\n",
    "df = df[~df['district'].str.contains('Horace Mann')]\n",
    "print(df.shape)\n",
    "\n",
    "df.district = df.district.str.replace('MATCH', 'Match', regex=False)\n",
    "print(df[df.district.str.contains('Match')].district.drop_duplicates())"
   ]
  },
  {
   "cell_type": "code",
   "execution_count": 4,
   "metadata": {},
   "outputs": [
    {
     "name": "stdout",
     "output_type": "stream",
     "text": [
      "(177900, 13)\n",
      "(56142, 13)\n"
     ]
    }
   ],
   "source": [
    "# drop rows with null values\n",
    "print(df.shape)\n",
    "df = df.dropna(subset=['% Emergency Removal', '% Expulsion', '% In-School Suspension', '% Out-of-School Suspension', '% Removed to Alternate Setting', '% Students with a School-Based Arrest'], how='all')\n",
    "print(df.shape)"
   ]
  },
  {
   "cell_type": "code",
   "execution_count": 5,
   "metadata": {},
   "outputs": [
    {
     "name": "stdout",
     "output_type": "stream",
     "text": [
      "Index(['% Emergency Removal', '% Expulsion', '% In-School Suspension',\n",
      "       '% Out-of-School Suspension', '% Removed to Alternate Setting',\n",
      "       '% Students with a School-Based Arrest', 'District Code', 'district',\n",
      "       'Students', 'Students Disciplined', 'group_state', 'type', 'year'],\n",
      "      dtype='object')\n"
     ]
    }
   ],
   "source": [
    "print(df.columns)"
   ]
  },
  {
   "cell_type": "code",
   "execution_count": 6,
   "metadata": {},
   "outputs": [
    {
     "name": "stdout",
     "output_type": "stream",
     "text": [
      "0    0445\n",
      "1    0001\n",
      "2    0412\n",
      "3    0600\n",
      "4    0003\n",
      "Name: district_id, dtype: object\n"
     ]
    }
   ],
   "source": [
    "# remove last four digits of school code\n",
    "df['district_id'] = df.apply(lambda x: x['District Code'][:4], axis = 1)\n",
    "del df['District Code']\n",
    "print(df['district_id'].drop_duplicates().head(5))"
   ]
  },
  {
   "cell_type": "code",
   "execution_count": 7,
   "metadata": {},
   "outputs": [
    {
     "name": "stdout",
     "output_type": "stream",
     "text": [
      "% Emergency Removal                      float64\n",
      "% Expulsion                              float64\n",
      "% In-School Suspension                   float64\n",
      "% Out-of-School Suspension               float64\n",
      "% Removed to Alternate Setting           float64\n",
      "% Students with a School-Based Arrest    float64\n",
      "district                                  object\n",
      "Students                                 float64\n",
      "Students Disciplined                     float64\n",
      "group_state                               object\n",
      "type                                      object\n",
      "year                                      object\n",
      "district_id                               object\n",
      "dtype: object\n",
      "% Emergency Removal                      float64\n",
      "% Expulsion                              float64\n",
      "% In-School Suspension                   float64\n",
      "% Out-of-School Suspension               float64\n",
      "% Removed to Alternate Setting           float64\n",
      "% Students with a School-Based Arrest    float64\n",
      "district                                  object\n",
      "Students                                 float64\n",
      "Students Disciplined                     float64\n",
      "group_state                               object\n",
      "type                                      object\n",
      "year                                      object\n",
      "district_id                                int64\n",
      "dtype: object\n"
     ]
    }
   ],
   "source": [
    "print(df.dtypes)\n",
    "df['district_id'] = df['district_id'].astype('int64')\n",
    "print(df.dtypes)"
   ]
  },
  {
   "cell_type": "code",
   "execution_count": 8,
   "metadata": {},
   "outputs": [
    {
     "name": "stdout",
     "output_type": "stream",
     "text": [
      "(56142, 12)\n",
      "(56142, 13)\n"
     ]
    }
   ],
   "source": [
    "# use most recent district name per district_id\n",
    "df_leas = df[['year', 'district_id', 'district']]\n",
    "df_leas = df_leas.sort_values(['year', 'district_id', 'district'], ascending = False)\n",
    "df_leas = df_leas.drop_duplicates(subset=['district_id'])\n",
    "del df_leas['year']\n",
    "\n",
    "# join back to df\n",
    "del df['district']\n",
    "print(df.shape)\n",
    "df = df.merge(df_leas, on = ['district_id'])\n",
    "print(df.shape)"
   ]
  },
  {
   "cell_type": "code",
   "execution_count": 9,
   "metadata": {},
   "outputs": [
    {
     "name": "stdout",
     "output_type": "stream",
     "text": [
      "(56142, 13)\n",
      "(56142, 14)\n",
      "   % Emergency Removal  % Expulsion  % In-School Suspension  \\\n",
      "0                  0.0          0.0                     0.3   \n",
      "1                  0.0          0.0                     0.4   \n",
      "2                  0.0          0.0                     0.5   \n",
      "3                  0.0          0.0                     0.4   \n",
      "4                  0.0          0.0                     0.1   \n",
      "\n",
      "   % Out-of-School Suspension  % Removed to Alternate Setting  \\\n",
      "0                         1.7                             0.0   \n",
      "1                         1.9                             0.0   \n",
      "2                         3.8                             0.0   \n",
      "3                         1.9                             0.0   \n",
      "4                         1.3                             0.0   \n",
      "\n",
      "   % Students with a School-Based Arrest  Students  Students Disciplined  \\\n",
      "0                                    0.0    1446.0                  27.0   \n",
      "1                                    0.0     679.0                  16.0   \n",
      "2                                    0.0     186.0                   7.0   \n",
      "3                                    0.0     897.0                  20.0   \n",
      "4                                    0.0     777.0                  11.0   \n",
      "\n",
      "                  group_state          type  year  district_id  \\\n",
      "0                All Students  All Offenses  2020          445   \n",
      "1  Economically disadvantaged  All Offenses  2020          445   \n",
      "2      Students wdisabilities  All Offenses  2020          445   \n",
      "3                  High needs  All Offenses  2020          445   \n",
      "4                      Female  All Offenses  2020          445   \n",
      "\n",
      "                                       district  charter_flag  \n",
      "0  Abby Kelley Foster Charter Public (District)           1.0  \n",
      "1  Abby Kelley Foster Charter Public (District)           1.0  \n",
      "2  Abby Kelley Foster Charter Public (District)           1.0  \n",
      "3  Abby Kelley Foster Charter Public (District)           1.0  \n",
      "4  Abby Kelley Foster Charter Public (District)           1.0  \n"
     ]
    }
   ],
   "source": [
    "# import file for charter flag\n",
    "df_flags = pd.read_csv('./data/finalized/charter_to_district.csv')\n",
    "df_flags = df_flags[df_flags.fy.eq('fy21')]\n",
    "df_flags = df_flags[['charter_lea_code']].drop_duplicates()\n",
    "df_flags = df_flags.rename(columns={'charter_lea_code': 'district_id'})\n",
    "df_flags['charter_flag'] = 1\n",
    "\n",
    "print(df.shape)\n",
    "df = df.merge(df_flags, on = ['district_id'], how = 'left')\n",
    "del df_flags\n",
    "print(df.shape)\n",
    "print(df.head(5))"
   ]
  },
  {
   "cell_type": "code",
   "execution_count": 10,
   "metadata": {},
   "outputs": [
    {
     "name": "stdout",
     "output_type": "stream",
     "text": [
      "0     2020\n",
      "17    2019\n",
      "31    2018\n",
      "50    2017\n",
      "63    2016\n",
      "83    2015\n",
      "Name: year, dtype: object\n",
      "0     2020\n",
      "17    2019\n",
      "31    2018\n",
      "50    2017\n",
      "63    2016\n",
      "83    2015\n",
      "Name: year, dtype: object\n"
     ]
    }
   ],
   "source": [
    "# edit year field\n",
    "print(df['year'].drop_duplicates())\n",
    "df['year'] = ['20' + x[-2:] for x in df['year']]\n",
    "print(df['year'].drop_duplicates())"
   ]
  },
  {
   "cell_type": "code",
   "execution_count": 11,
   "metadata": {},
   "outputs": [
    {
     "name": "stdout",
     "output_type": "stream",
     "text": [
      "Index(['% Emergency Removal', '% Expulsion', '% In-School Suspension',\n",
      "       '% Out-of-School Suspension', '% Removed to Alternate Setting',\n",
      "       '% Students with a School-Based Arrest', 'Students',\n",
      "       'Students Disciplined', 'group_state', 'type', 'year', 'district_id',\n",
      "       'district', 'charter_flag'],\n",
      "      dtype='object')\n"
     ]
    }
   ],
   "source": [
    "print(df.columns)"
   ]
  },
  {
   "cell_type": "code",
   "execution_count": 12,
   "metadata": {},
   "outputs": [
    {
     "name": "stdout",
     "output_type": "stream",
     "text": [
      "   Charter LEA ID                                   Charter LEA Name  \\\n",
      "0         4070405  Dudley Street Neighborhood Charter School (Dis...   \n",
      "1         4090205  Alma del Mar Charter School (District) - Alma ...   \n",
      "2         4100205  Excel Academy Charter (District) - Excel Acade...   \n",
      "3         4110305  Boston Green Academy Horace Mann Charter Schoo...   \n",
      "4         4120530  Academy Of the Pacific Rim Charter Public (Dis...   \n",
      "\n",
      "  Regional Affiliation/s Geographic Location/s  \n",
      "0                 Boston                Boston  \n",
      "1                Gateway          Southeastern  \n",
      "2                 Boston                Boston  \n",
      "3                 Boston                Boston  \n",
      "4                 Boston                Boston  \n",
      "(56142, 14)\n",
      "(57404, 16)\n"
     ]
    }
   ],
   "source": [
    "# join charter reg and geo file\n",
    "df_reg = pd.read_csv('./data/finalized/MCPSA Charter Reg and Geo Affiliations.csv')\n",
    "df_reg = df_reg[['Charter LEA ID', 'Charter LEA Name', 'Regional Affiliation/s', 'Geographic Location/s']]\n",
    "print(df_reg.head(5))\n",
    "df_reg['district_id'] = df_reg.apply(lambda x: int(x['Charter LEA ID'] / 10000), axis = 1)\n",
    "del df_reg['Charter LEA ID']\n",
    "del df_reg['Charter LEA Name']\n",
    "\n",
    "print(df.shape)\n",
    "df = df.merge(df_reg, on=['district_id'], how='left')\n",
    "print(df.shape)"
   ]
  },
  {
   "cell_type": "code",
   "execution_count": 13,
   "metadata": {},
   "outputs": [
    {
     "name": "stdout",
     "output_type": "stream",
     "text": [
      "Index(['% Emergency Removal', '% Expulsion', '% In-School Suspension',\n",
      "       '% Out-of-School Suspension', '% Removed to Alternate Setting',\n",
      "       '% Students with a School-Based Arrest', 'Students',\n",
      "       'Students Disciplined', 'group_state', 'type', 'year', 'district_id',\n",
      "       'district', 'charter_flag', 'Regional Affiliation/s',\n",
      "       'Geographic Location/s'],\n",
      "      dtype='object')\n"
     ]
    }
   ],
   "source": [
    "print(df.columns)"
   ]
  },
  {
   "cell_type": "code",
   "execution_count": 14,
   "metadata": {},
   "outputs": [
    {
     "name": "stdout",
     "output_type": "stream",
     "text": [
      "charter_lea_code               int64\n",
      "sending_lea_code             float64\n",
      "enrolled_n                   float64\n",
      "physical_charter_location     object\n",
      "chartered_to_serve           float64\n",
      "dtype: object\n",
      "(1053, 5)\n"
     ]
    }
   ],
   "source": [
    "# import charter_to_district data for calculating multipliers\n",
    "df_mult = pd.read_csv('./data/finalized/charter_to_district_edited.csv')\n",
    "print(df_mult.dtypes)\n",
    "print(df_mult.shape)"
   ]
  },
  {
   "cell_type": "code",
   "execution_count": 15,
   "metadata": {},
   "outputs": [
    {
     "name": "stdout",
     "output_type": "stream",
     "text": [
      "sending_lea_code      int64\n",
      "enrolled_n          float64\n",
      "dtype: object\n",
      "(253, 2)\n"
     ]
    }
   ],
   "source": [
    "# import district_remainders data for calculating multipliers\n",
    "df_enrollment = pd.read_csv('./data/finalized/district_remainders.csv')\n",
    "print(df_enrollment.dtypes)\n",
    "print(df_enrollment.shape)"
   ]
  },
  {
   "cell_type": "code",
   "execution_count": 16,
   "metadata": {},
   "outputs": [
    {
     "name": "stdout",
     "output_type": "stream",
     "text": [
      "(123530, 21)\n",
      "(123530, 34)\n",
      "Index(['charter_lea_code', 'sending_lea_code', 'enrolled_n',\n",
      "       'physical_charter_location', 'chartered_to_serve',\n",
      "       '% Emergency Removal_charter', '% Expulsion_charter',\n",
      "       '% In-School Suspension_charter', '% Out-of-School Suspension_charter',\n",
      "       '% Removed to Alternate Setting_charter',\n",
      "       '% Students with a School-Based Arrest_charter', 'Students_charter',\n",
      "       'Students Disciplined_charter', 'group_state', 'type', 'year',\n",
      "       'district_id_charter', 'district_charter', 'charter_flag_charter',\n",
      "       'Regional Affiliation/s_charter', 'Geographic Location/s_charter',\n",
      "       '% Emergency Removal_district', '% Expulsion_district',\n",
      "       '% In-School Suspension_district',\n",
      "       '% Out-of-School Suspension_district',\n",
      "       '% Removed to Alternate Setting_district',\n",
      "       '% Students with a School-Based Arrest_district', 'Students_district',\n",
      "       'Students Disciplined_district', 'district_id_district',\n",
      "       'district_district', 'charter_flag_district',\n",
      "       'Regional Affiliation/s_district', 'Geographic Location/s_district'],\n",
      "      dtype='object')\n"
     ]
    }
   ],
   "source": [
    "# join charter_to_district to data\n",
    "df_charter = df[df['charter_flag'] == 1]\n",
    "df_district = df[df['charter_flag'] != 1]\n",
    "\n",
    "df_mult = df_mult.merge(df_charter, left_on=['charter_lea_code'], right_on = ['district_id'], how='left')\n",
    "print(df_mult.shape)\n",
    "df_mult = df_mult.merge(df_district, left_on=['sending_lea_code', 'year', 'group_state', 'type'], right_on = ['district_id', 'year','group_state', 'type'], how='left', suffixes=['_charter', '_district'])\n",
    "print(df_mult.shape)\n",
    "print(df_mult.columns)"
   ]
  },
  {
   "cell_type": "code",
   "execution_count": 17,
   "metadata": {},
   "outputs": [
    {
     "name": "stdout",
     "output_type": "stream",
     "text": [
      "Index(['% Emergency Removal_district', '% Expulsion_district',\n",
      "       '% In-School Suspension_district',\n",
      "       '% Out-of-School Suspension_district',\n",
      "       '% Removed to Alternate Setting_district',\n",
      "       '% Students with a School-Based Arrest_district', 'Students_district',\n",
      "       'Students Disciplined_district', 'group_state', 'type', 'year',\n",
      "       'district_id_district', 'district_district', 'charter_flag_district',\n",
      "       'Regional Affiliation/s_district', 'Geographic Location/s_district',\n",
      "       'sending_lea_code', 'enrolled_n'],\n",
      "      dtype='object')\n"
     ]
    }
   ],
   "source": [
    "# join enrollment remainders to district data\n",
    "df_district.columns = df_district.columns.map(lambda x: str(x) + '_district')\n",
    "df_district = df_district.rename(columns={'year_district': 'year', 'group_state_district': 'group_state', 'type_district': 'type'})\n",
    "df_district = df_district.merge(df_enrollment, left_on=['district_id_district'], right_on=['sending_lea_code'], how='inner')\n",
    "print(df_district.columns)"
   ]
  },
  {
   "cell_type": "code",
   "execution_count": 18,
   "metadata": {},
   "outputs": [
    {
     "name": "stdout",
     "output_type": "stream",
     "text": [
      "(123530, 34)\n",
      "(42932, 18)\n",
      "(166462, 34)\n"
     ]
    }
   ],
   "source": [
    "# append back to other joined data\n",
    "print(df_mult.shape)\n",
    "print(df_district.shape)\n",
    "df_mult = df_mult.append(df_district, ignore_index=True, sort=True)\n",
    "print(df_mult.shape)"
   ]
  },
  {
   "cell_type": "code",
   "execution_count": 19,
   "metadata": {},
   "outputs": [],
   "source": [
    "# review grade/group/year breakdown of data\n",
    "# df.groupby(['year', 'grade', 'group_state'])['num'].sum().to_csv('temp.csv')"
   ]
  },
  {
   "cell_type": "code",
   "execution_count": 20,
   "metadata": {},
   "outputs": [],
   "source": [
    "# export dataset for QA\n",
    "df.to_csv('./data/finalized/discipline.csv')"
   ]
  },
  {
   "cell_type": "code",
   "execution_count": 21,
   "metadata": {},
   "outputs": [
    {
     "name": "stdout",
     "output_type": "stream",
     "text": [
      "(166462, 34)\n",
      "(166370, 34)\n"
     ]
    }
   ],
   "source": [
    "# export final dataset\n",
    "print(df_mult.shape)\n",
    "df_mult = df_mult.dropna(subset=['year'])\n",
    "print(df_mult.shape)\n",
    "df_mult.to_csv('./data/finalized/discipline_with_multipliers.csv', index=False)"
   ]
  },
  {
   "cell_type": "code",
   "execution_count": null,
   "metadata": {},
   "outputs": [],
   "source": []
  }
 ],
 "metadata": {
  "kernelspec": {
   "display_name": "Python 3",
   "language": "python",
   "name": "python3"
  },
  "language_info": {
   "codemirror_mode": {
    "name": "ipython",
    "version": 3
   },
   "file_extension": ".py",
   "mimetype": "text/x-python",
   "name": "python",
   "nbconvert_exporter": "python",
   "pygments_lexer": "ipython3",
   "version": "3.7.3"
  }
 },
 "nbformat": 4,
 "nbformat_minor": 4
}
