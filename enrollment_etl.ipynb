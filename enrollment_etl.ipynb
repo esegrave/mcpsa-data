{
 "cells": [
  {
   "cell_type": "code",
   "execution_count": 11,
   "metadata": {},
   "outputs": [
    {
     "name": "stdout",
     "output_type": "stream",
     "text": [
      "(4839, 19)\n",
      "          1        10        11        12         2         3         4  \\\n",
      "0       116        99        98        86       120       118       117   \n",
      "1       168       160       153       152       161       144       162   \n",
      "2         0        63        63        58         0         0         0   \n",
      "3       321       465       450       426       365       372       404   \n",
      "4        83         0         0         0       117        95        80   \n",
      "\n",
      "          5         6         7         8         9 District Code  \\\n",
      "0       115       117       114       111        97      04450000   \n",
      "1       140       169       161       169       146      00010000   \n",
      "2        53        72        73        76        82      04120000   \n",
      "3       390       414       410       421       406      06000000   \n",
      "4       108       104       100       109         0      00030000   \n",
      "\n",
      "                                       District Name         K        PK  \\\n",
      "0       Abby Kelley Foster Charter Public (District)       117         0   \n",
      "1                                           Abington       173        51   \n",
      "2  Academy Of the Pacific Rim Charter Public (Dis...         0         0   \n",
      "3                                   Acton-Boxborough       286        73   \n",
      "4                                           Acushnet        86        28   \n",
      "\n",
      "         SP     Total     year  \n",
      "0         0     1,425  2020-21  \n",
      "1         8     2,117  2020-21  \n",
      "2         0       540  2020-21  \n",
      "3         4     5,207  2020-21  \n",
      "4         0       910  2020-21  \n"
     ]
    }
   ],
   "source": [
    "# import files\n",
    "import pandas as pd\n",
    "import numpy as np\n",
    "\n",
    "enrollment_path = './data/enrollmentbygrade/raw/'\n",
    "\n",
    "years = ['2020-21', '2019-20', '2018-19', '2017-18', '2016-17', '2015-16', '2014-15', '2013-14', '2012-13', '2011-12', '2010-11', '2009-10']\n",
    "\n",
    "df_bygrade = pd.DataFrame()\n",
    "\n",
    "for year in years:\n",
    "    temp = pd.read_excel(enrollment_path + 'ma_enrollmentbygrade_' + year + '.xlsx', dtype={'District Name':str,'District Code':str,'PK':str,'K':str,'1':str,'2':str,'3':str,'4':str,'5':str,'6':str,'7':str,'8':str,'9':str,'10':str,'11':str,'12':str,'SP':str,'Total':str},skiprows=[0])\n",
    "    temp['year'] = year\n",
    "    df_bygrade = df_bygrade.append(temp, ignore_index=True, sort=True)\n",
    "\n",
    "print(df_bygrade.shape)\n",
    "print(df_bygrade.head(5))"
   ]
  },
  {
   "cell_type": "code",
   "execution_count": 12,
   "metadata": {},
   "outputs": [
    {
     "name": "stdout",
     "output_type": "stream",
     "text": [
      "(4839, 13)\n",
      "  African American   Asian District Code  \\\n",
      "0             54.1     3.4      04450000   \n",
      "1              4.8     2.5      00010000   \n",
      "2             62.8     0.7      04120000   \n",
      "3              3.1    33.7      06000000   \n",
      "4              0.9     0.9      00030000   \n",
      "\n",
      "                                       District Name Females Hispanic   Males  \\\n",
      "0       Abby Kelley Foster Charter Public (District)    54.3     19.4    45.7   \n",
      "1                                           Abington    49.6     10.9    50.4   \n",
      "2  Academy Of the Pacific Rim Charter Public (Dis...    48.5     28.3    51.5   \n",
      "3                                   Acton-Boxborough    48.0      6.2    51.9   \n",
      "4                                           Acushnet    46.8      4.4    53.2   \n",
      "\n",
      "  Multi-Race, Non-Hispanic Native American Native Hawaiian, Pacific Islander  \\\n",
      "0                      5.1             0.6                               0.0   \n",
      "1                      1.9             0.6                               0.1   \n",
      "2                      1.3             0.0                               0.2   \n",
      "3                      5.1             0.1                               0.1   \n",
      "4                      4.1             0.2                               0.0   \n",
      "\n",
      "   Non-Binary   White     year  \n",
      "0         0.0    17.3  2020-21  \n",
      "1         0.0    79.2  2020-21  \n",
      "2         0.0     6.7  2020-21  \n",
      "3         0.1    51.7  2020-21  \n",
      "4         0.0    89.6  2020-21  \n"
     ]
    }
   ],
   "source": [
    "df_byracegender = pd.DataFrame()\n",
    "\n",
    "for year in years:\n",
    "    temp = pd.read_excel('./data/enrollmentbyracegender/raw/ma_enrollmentbyracegender_' + year + '.xlsx', dtype={'District Name':str,'District Code':str,'African American':str,'Asian':str,'Hispanic':str,'White':str,'Native American':str,'Native Hawaiian, Pacific Islander':str,'Multi-Race, Non-Hispanic':str,'Males':str,'Females':str},skiprows=[0])\n",
    "    temp['year'] = year\n",
    "    df_byracegender = df_byracegender.append(temp, ignore_index=True, sort=True)\n",
    "\n",
    "print(df_byracegender.shape)\n",
    "print(df_byracegender.head(5))"
   ]
  },
  {
   "cell_type": "code",
   "execution_count": 13,
   "metadata": {},
   "outputs": [
    {
     "name": "stdout",
     "output_type": "stream",
     "text": [
      "(4839, 13)\n",
      "(4839, 14)\n",
      "  African American   Asian District Code  \\\n",
      "0             54.1     3.4      04450000   \n",
      "1              4.8     2.5      00010000   \n",
      "2             62.8     0.7      04120000   \n",
      "3              3.1    33.7      06000000   \n",
      "4              0.9     0.9      00030000   \n",
      "\n",
      "                                       District Name Females Hispanic   Males  \\\n",
      "0       Abby Kelley Foster Charter Public (District)    54.3     19.4    45.7   \n",
      "1                                           Abington    49.6     10.9    50.4   \n",
      "2  Academy Of the Pacific Rim Charter Public (Dis...    48.5     28.3    51.5   \n",
      "3                                   Acton-Boxborough    48.0      6.2    51.9   \n",
      "4                                           Acushnet    46.8      4.4    53.2   \n",
      "\n",
      "  Multi-Race, Non-Hispanic Native American Native Hawaiian, Pacific Islander  \\\n",
      "0                      5.1             0.6                               0.0   \n",
      "1                      1.9             0.6                               0.1   \n",
      "2                      1.3             0.0                               0.2   \n",
      "3                      5.1             0.1                               0.1   \n",
      "4                      4.1             0.2                               0.0   \n",
      "\n",
      "   Non-Binary   White     year     Total  \n",
      "0         0.0    17.3  2020-21     1,425  \n",
      "1         0.0    79.2  2020-21     2,117  \n",
      "2         0.0     6.7  2020-21       540  \n",
      "3         0.1    51.7  2020-21     5,207  \n",
      "4         0.0    89.6  2020-21       910  \n"
     ]
    }
   ],
   "source": [
    "# join totals to racegender\n",
    "print(df_byracegender.shape)\n",
    "df_byracegender = df_byracegender.merge(df_bygrade[['year', 'District Code', 'Total']], on=['year', 'District Code'], how='inner')\n",
    "print(df_byracegender.shape)\n",
    "print(df_byracegender.head(5))"
   ]
  },
  {
   "cell_type": "code",
   "execution_count": 14,
   "metadata": {},
   "outputs": [
    {
     "name": "stdout",
     "output_type": "stream",
     "text": [
      "(4839, 19)\n",
      "  District Code                                      District Name  \\\n",
      "0      04450000       Abby Kelley Foster Charter Public (District)   \n",
      "1      00010000                                           Abington   \n",
      "2      04120000  Academy Of the Pacific Rim Charter Public (Dis...   \n",
      "3      06000000                                   Acton-Boxborough   \n",
      "4      00030000                                           Acushnet   \n",
      "\n",
      "  Economically Disadvantaged Economically Disadvantaged %  \\\n",
      "0                        684                           48   \n",
      "1                        628                         29.7   \n",
      "2                        260                         48.1   \n",
      "3                        422                          8.1   \n",
      "4                        258                         28.4   \n",
      "\n",
      "  English Language Learner English Language Learner %  \\\n",
      "0                      195                       13.7   \n",
      "1                      162                        7.7   \n",
      "2                       34                        6.3   \n",
      "3                      273                        5.2   \n",
      "4                        6                        0.7   \n",
      "\n",
      "  First Language Not English First Language Not English % Free Lunch  \\\n",
      "0                        952                         66.8        NaN   \n",
      "1                        298                         14.1        NaN   \n",
      "2                        173                           32        NaN   \n",
      "3                       1117                         21.5        NaN   \n",
      "4                         10                          1.1        NaN   \n",
      "\n",
      "  Free Lunch % High Needs  High Needs #.1 Low Income Low Income %  \\\n",
      "0          NaN        887            62.2        NaN          NaN   \n",
      "1          NaN        889            41.4        NaN          NaN   \n",
      "2          NaN        370            68.5        NaN          NaN   \n",
      "3          NaN       1469            27.8        NaN          NaN   \n",
      "4          NaN        351            38.0        NaN          NaN   \n",
      "\n",
      "  Reduced Lunch Reduced Lunch % Students With Disabilities  \\\n",
      "0           NaN             NaN                        173   \n",
      "1           NaN             NaN                        340   \n",
      "2           NaN             NaN                        138   \n",
      "3           NaN             NaN                        794   \n",
      "4           NaN             NaN                        126   \n",
      "\n",
      "  Students With Disabilities %     year  \n",
      "0                         12.1  2020-21  \n",
      "1                         15.8  2020-21  \n",
      "2                         25.6  2020-21  \n",
      "3                           15  2020-21  \n",
      "4                         13.7  2020-21  \n"
     ]
    }
   ],
   "source": [
    "df_byspecial = pd.DataFrame()\n",
    "\n",
    "for year in years:\n",
    "    temp = pd.read_excel('./data/enrollmentbyselectedpopulation/raw/ma_enrollmentbyselectedpopulation_' + year + '.xlsx', dtype={'District Name':str,'District Code':str,'First Language Not English #':str,'First Language Not English %':str,'English Language Learner #':str,'English Language Learner %':str,'Students With Disabilities #':str,'Students With Disabilities %':str,'Low Income #':str,'Low Income %':str,'Free Lunch #':str,'Free Lunch %':str,'Reduced Lunch #':str,'Reduced Lunch %':str,'High Needs #':str,'High Needs #':str,'Economically Disadvantaged #':str,'Economically Disadvantaged %':str,},skiprows=[0])\n",
    "    temp['year'] = year\n",
    "    df_byspecial = df_byspecial.append(temp, ignore_index=True, sort=True)\n",
    "\n",
    "df_byspecial = df_byspecial.rename(columns={\n",
    "    'First Language Not English #': 'First Language Not English',\n",
    "    'English Language Learner #': 'English Language Learner',\n",
    "    'Students With Disabilities #': 'Students With Disabilities',\n",
    "    'Low Income #': 'Low Income',\n",
    "    'Free Lunch #': 'Free Lunch',\n",
    "    'Reduced Lunch #': 'Reduced Lunch',\n",
    "    'High Needs #': 'High Needs',\n",
    "    'Economically Disadvantaged #': 'Economically Disadvantaged'\n",
    "})\n",
    "print(df_byspecial.shape)\n",
    "print(df_byspecial.head(5))"
   ]
  },
  {
   "cell_type": "code",
   "execution_count": 15,
   "metadata": {},
   "outputs": [
    {
     "name": "stdout",
     "output_type": "stream",
     "text": [
      "      year District Code                                      District Name  \\\n",
      "0  2020-21      04450000       Abby Kelley Foster Charter Public (District)   \n",
      "1  2020-21      00010000                                           Abington   \n",
      "2  2020-21      04120000  Academy Of the Pacific Rim Charter Public (Dis...   \n",
      "3  2020-21      06000000                                   Acton-Boxborough   \n",
      "4  2020-21      00030000                                           Acushnet   \n",
      "\n",
      "  grade       num   group_state  \n",
      "0     1       116  All Students  \n",
      "1     1       168  All Students  \n",
      "2     1         0  All Students  \n",
      "3     1       321  All Students  \n",
      "4     1        83  All Students  \n"
     ]
    }
   ],
   "source": [
    "# pivot bygrade\n",
    "id_vars = ['year', 'District Code', 'District Name']\n",
    "value_vars = ['1', '10', '11', '12', '2', '3', '4', '5', '6', '7', '8', '9', 'K', 'PK', 'SP', 'Total']\n",
    "df_bygrade = pd.melt(df_bygrade, id_vars = id_vars, value_vars = value_vars, var_name = 'grade', value_name = 'num')\n",
    "df_bygrade['group_state'] = 'All Students'\n",
    "print(df_bygrade.head(5))"
   ]
  },
  {
   "cell_type": "code",
   "execution_count": 16,
   "metadata": {},
   "outputs": [
    {
     "name": "stdout",
     "output_type": "stream",
     "text": [
      "(77424, 6)\n",
      "(57600, 6)\n",
      "(57600, 6)\n"
     ]
    }
   ],
   "source": [
    "# convert num to float, then drop nulls and zeros\n",
    "def toFloat(row, column):\n",
    "    try:\n",
    "        return float(row[column].replace(',',''))\n",
    "    except:\n",
    "        return np.nan\n",
    "df_bygrade['num'] = df_bygrade.apply(lambda x: toFloat(x, 'num'), axis = 1)\n",
    "print(df_bygrade.shape)\n",
    "df_bygrade = df_bygrade[~df_bygrade.num.eq(0)]\n",
    "print(df_bygrade.shape)\n",
    "df_bygrade = df_bygrade.dropna(subset=['num'])\n",
    "print(df_bygrade.shape)"
   ]
  },
  {
   "cell_type": "code",
   "execution_count": 17,
   "metadata": {},
   "outputs": [
    {
     "name": "stdout",
     "output_type": "stream",
     "text": [
      "      year District Code                                      District Name  \\\n",
      "0  2020-21      04450000       Abby Kelley Foster Charter Public (District)   \n",
      "1  2020-21      00010000                                           Abington   \n",
      "2  2020-21      04120000  Academy Of the Pacific Rim Charter Public (Dis...   \n",
      "3  2020-21      06000000                                   Acton-Boxborough   \n",
      "4  2020-21      00030000                                           Acushnet   \n",
      "\n",
      "      Total       group_state percent grade  \n",
      "0     1,425  African American    54.1   All  \n",
      "1     2,117  African American     4.8   All  \n",
      "2       540  African American    62.8   All  \n",
      "3     5,207  African American     3.1   All  \n",
      "4       910  African American     0.9   All  \n"
     ]
    }
   ],
   "source": [
    "# pivot byracegender\n",
    "id_vars = ['year', 'District Code', 'District Name', 'Total']\n",
    "value_vars = ['African American', 'Asian', 'Females', 'Hispanic', 'Males', 'Multi-Race, Non-Hispanic', 'Native American', 'Native Hawaiian, Pacific Islander', 'White']\n",
    "df_byracegender = pd.melt(df_byracegender, id_vars = id_vars, value_vars = value_vars, var_name = 'group_state', value_name = 'percent')\n",
    "df_byracegender['grade'] = 'All'\n",
    "print(df_byracegender.head(5))"
   ]
  },
  {
   "cell_type": "code",
   "execution_count": 18,
   "metadata": {},
   "outputs": [
    {
     "name": "stdout",
     "output_type": "stream",
     "text": [
      "(43551, 6)\n",
      "(38469, 6)\n",
      "(38469, 6)\n"
     ]
    }
   ],
   "source": [
    "# convert num to float, calculate num, then drop nulls and zeros\n",
    "def toFloat(row, column):\n",
    "    try:\n",
    "        return float(row[column].replace(',',''))\n",
    "    except:\n",
    "        return np.nan\n",
    "df_byracegender['percent'] = df_byracegender.apply(lambda x: toFloat(x, 'percent'), axis = 1)\n",
    "df_byracegender['Total'] = df_byracegender.apply(lambda x: toFloat(x, 'Total'), axis = 1)\n",
    "df_byracegender['num'] = df_byracegender['percent'] * df_byracegender['Total'] / 100\n",
    "del df_byracegender['percent']\n",
    "del df_byracegender['Total']\n",
    "print(df_byracegender.shape)\n",
    "df_byracegender = df_byracegender[~df_byracegender.num.eq(0)]\n",
    "print(df_byracegender.shape)\n",
    "df_byracegender = df_byracegender.dropna(subset=['num'])\n",
    "print(df_byracegender.shape)"
   ]
  },
  {
   "cell_type": "code",
   "execution_count": 19,
   "metadata": {},
   "outputs": [
    {
     "name": "stdout",
     "output_type": "stream",
     "text": [
      "      year District Code                                      District Name  \\\n",
      "0  2020-21      04450000       Abby Kelley Foster Charter Public (District)   \n",
      "1  2020-21      00010000                                           Abington   \n",
      "2  2020-21      04120000  Academy Of the Pacific Rim Charter Public (Dis...   \n",
      "3  2020-21      06000000                                   Acton-Boxborough   \n",
      "4  2020-21      00030000                                           Acushnet   \n",
      "\n",
      "                  group_state  num grade  \n",
      "0  Economically Disadvantaged  684   All  \n",
      "1  Economically Disadvantaged  628   All  \n",
      "2  Economically Disadvantaged  260   All  \n",
      "3  Economically Disadvantaged  422   All  \n",
      "4  Economically Disadvantaged  258   All  \n"
     ]
    }
   ],
   "source": [
    "# pivot byspecial\n",
    "id_vars = ['year', 'District Code', 'District Name']\n",
    "value_vars = ['Economically Disadvantaged', 'English Language Learner', 'First Language Not English', 'Free Lunch', 'High Needs', 'Low Income','Reduced Lunch', 'Students With Disabilities']\n",
    "df_byspecial = pd.melt(df_byspecial, id_vars = id_vars, value_vars = value_vars, var_name = 'group_state', value_name = 'num')\n",
    "df_byspecial['grade'] = 'All'\n",
    "print(df_byspecial.head(5))"
   ]
  },
  {
   "cell_type": "code",
   "execution_count": 20,
   "metadata": {},
   "outputs": [
    {
     "name": "stdout",
     "output_type": "stream",
     "text": [
      "(38712, 6)\n",
      "(37645, 6)\n",
      "(25932, 6)\n"
     ]
    }
   ],
   "source": [
    "# convert num to float, then drop nulls and zeros\n",
    "def toFloat(row, column):\n",
    "    try:\n",
    "        return float(row[column].replace(',',''))\n",
    "    except:\n",
    "        return np.nan\n",
    "df_byspecial['num'] = df_byspecial.apply(lambda x: toFloat(x, 'num'), axis = 1)\n",
    "print(df_byspecial.shape)\n",
    "df_byspecial = df_byspecial[~df_byspecial.num.eq(0)]\n",
    "print(df_byspecial.shape)\n",
    "df_byspecial = df_byspecial.dropna(subset=['num'])\n",
    "print(df_byspecial.shape)"
   ]
  },
  {
   "cell_type": "code",
   "execution_count": 21,
   "metadata": {},
   "outputs": [
    {
     "name": "stdout",
     "output_type": "stream",
     "text": [
      "Index(['District Code', 'district', 'grade', 'group_state', 'num', 'year'], dtype='object')\n",
      "(122001, 6)\n",
      "(121939, 6)\n",
      "(121634, 6)\n",
      "(120785, 6)\n"
     ]
    }
   ],
   "source": [
    "# append all data\n",
    "df = df_bygrade.append(df_byracegender, ignore_index=True, sort=True)\n",
    "df = df.append(df_byspecial, ignore_index=True, sort=True)\n",
    "df = df.rename(columns={'District Name': 'district'})\n",
    "print(df.columns)\n",
    "print(df.shape)\n",
    "df = df[~df.district.eq('State Total')]\n",
    "print(df.shape)\n",
    "df = df[~df.district.eq('State Totals')]\n",
    "print(df.shape)\n",
    "df = df[~df['district'].str.contains('Horace Mann')]\n",
    "print(df.shape)"
   ]
  },
  {
   "cell_type": "code",
   "execution_count": 22,
   "metadata": {},
   "outputs": [
    {
     "name": "stdout",
     "output_type": "stream",
     "text": [
      "(120785, 6)\n",
      "(120609, 6)\n",
      "(120609, 6)\n",
      "(120609, 6)\n",
      "(120609, 6)\n",
      "(120591, 6)\n",
      "(120505, 6)\n",
      "(120505, 6)\n",
      "(120324, 6)\n",
      "(120130, 6)\n",
      "(120035, 6)\n"
     ]
    }
   ],
   "source": [
    "# add manual data changes\n",
    "print(df.shape)\n",
    "df = df[df['District Code'] != '04070000']\n",
    "print(df.shape)\n",
    "df = df[df['District Code'] != '04110000']\n",
    "print(df.shape)\n",
    "df = df[df['District Code'] != '04230000']\n",
    "print(df.shape)\n",
    "df = df[df['District Code'] != '04270000']\n",
    "print(df.shape)\n",
    "df = df[df['District Code'] != '04520000']\n",
    "print(df.shape)\n",
    "df = df[df['District Code'] != '04710000']\n",
    "print(df.shape)\n",
    "df = df[df['District Code'] != '04770000']\n",
    "print(df.shape)\n",
    "df = df[df['District Code'] != '04800000']\n",
    "print(df.shape)\n",
    "df = df[df['District Code'] != '35050000']\n",
    "print(df.shape)\n",
    "df = df[df['District Code'] != '35110000']\n",
    "print(df.shape)"
   ]
  },
  {
   "cell_type": "code",
   "execution_count": 45,
   "metadata": {},
   "outputs": [
    {
     "name": "stdout",
     "output_type": "stream",
     "text": [
      "0    0445\n",
      "1    0001\n",
      "2    0600\n",
      "3    0003\n",
      "4    0005\n",
      "Name: district_id, dtype: object\n"
     ]
    }
   ],
   "source": [
    "# remove last four digits of school code\n",
    "df['district_id'] = df.apply(lambda x: x['District Code'][:4], axis = 1)\n",
    "del df['District Code']\n",
    "print(df['district_id'].drop_duplicates().head(5))"
   ]
  },
  {
   "cell_type": "code",
   "execution_count": 46,
   "metadata": {},
   "outputs": [],
   "source": [
    "# change grade of Total to All\n",
    "df['grade'] = [x if x != 'Total' else 'All' for x in df['grade']]"
   ]
  },
  {
   "cell_type": "code",
   "execution_count": 47,
   "metadata": {},
   "outputs": [
    {
     "name": "stdout",
     "output_type": "stream",
     "text": [
      "district        object\n",
      "grade           object\n",
      "group_state     object\n",
      "num            float64\n",
      "year            object\n",
      "district_id     object\n",
      "dtype: object\n",
      "district       object\n",
      "grade          object\n",
      "group_state    object\n",
      "num             int64\n",
      "year           object\n",
      "district_id     int64\n",
      "dtype: object\n"
     ]
    }
   ],
   "source": [
    "print(df.dtypes)\n",
    "df['num'] = df['num'].astype('int64')\n",
    "df['district_id'] = df['district_id'].astype('int64')\n",
    "print(df.dtypes)"
   ]
  },
  {
   "cell_type": "code",
   "execution_count": null,
   "metadata": {},
   "outputs": [],
   "source": [
    "# use most recent district name per district_id\n",
    "df_leas = df[['year', 'district_id', 'district']]\n",
    "df_leas = df_leas.sort_values(['year', 'district_id', 'district'], ascending = False)\n",
    "df_leas = df_leas.drop_duplicates(subset=['district_id'])\n",
    "del df_leas['year']\n",
    "\n",
    "# join back to df\n",
    "del df['district']\n",
    "print(df.shape)\n",
    "df = df.merge(df_leas, on = ['district_id'])\n",
    "print(df.shape)"
   ]
  },
  {
   "cell_type": "code",
   "execution_count": 48,
   "metadata": {},
   "outputs": [
    {
     "name": "stdout",
     "output_type": "stream",
     "text": [
      "(121634, 6)\n",
      "(121634, 7)\n",
      "                                       district grade   group_state  num  \\\n",
      "0  Abby Kelley Foster Charter Public (District)     1  All Students  116   \n",
      "1                                      Abington     1  All Students  168   \n",
      "2                              Acton-Boxborough     1  All Students  321   \n",
      "3                                      Acushnet     1  All Students   83   \n",
      "4                                        Agawam     1  All Students  255   \n",
      "\n",
      "      year  district_id  charter_flag  \n",
      "0  2020-21          445           1.0  \n",
      "1  2020-21            1           NaN  \n",
      "2  2020-21          600           NaN  \n",
      "3  2020-21            3           NaN  \n",
      "4  2020-21            5           NaN  \n"
     ]
    }
   ],
   "source": [
    "# import file for charter flag\n",
    "df_flags = pd.read_csv('./data/finalized/charter_to_district.csv')\n",
    "df_flags = df_flags[df_flags.fy.eq('fy21')]\n",
    "\n",
    "df_flags = df_flags[['charter_lea_code']].drop_duplicates()\n",
    "df_flags = df_flags.rename(columns={'charter_lea_code': 'district_id'})\n",
    "df_flags['charter_flag'] = 1\n",
    "\n",
    "print(df.shape)\n",
    "df = df.merge(df_flags, on = ['district_id'], how = 'left')\n",
    "print(df.shape)\n",
    "print(df.head(5))"
   ]
  },
  {
   "cell_type": "code",
   "execution_count": 49,
   "metadata": {},
   "outputs": [
    {
     "name": "stdout",
     "output_type": "stream",
     "text": [
      "0       2020-21\n",
      "313     2019-20\n",
      "627     2018-19\n",
      "943     2017-18\n",
      "1261    2016-17\n",
      "1578    2015-16\n",
      "1895    2014-15\n",
      "2208    2013-14\n",
      "2520    2012-13\n",
      "2829    2011-12\n",
      "3135    2010-11\n",
      "3441    2009-10\n",
      "Name: year, dtype: object\n",
      "0       2021\n",
      "313     2020\n",
      "627     2019\n",
      "943     2018\n",
      "1261    2017\n",
      "1578    2016\n",
      "1895    2015\n",
      "2208    2014\n",
      "2520    2013\n",
      "2829    2012\n",
      "3135    2011\n",
      "3441    2010\n",
      "Name: year, dtype: object\n"
     ]
    }
   ],
   "source": [
    "# edit year field\n",
    "print(df['year'].drop_duplicates())\n",
    "df['year'] = ['20' + x[-2:] for x in df['year']]\n",
    "print(df['year'].drop_duplicates())"
   ]
  },
  {
   "cell_type": "code",
   "execution_count": null,
   "metadata": {},
   "outputs": [],
   "source": [
    "# join charter reg and geo file\n",
    "df_reg = pd.read_csv('./data/finalized/MCPSA Charter Reg and Geo Affiliations.csv')\n",
    "df_reg = df_reg[['Charter LEA ID', 'Charter LEA Name', 'Regional Affiliation/s', 'Geographic Location/s']]\n",
    "print(df_reg.head(5))\n",
    "df_reg['district_id'] = df_reg.apply(lambda x: int(x['Charter LEA ID'] / 10000), axis = 1)\n",
    "del df_reg['Charter LEA ID']\n",
    "del df_reg['Charter LEA Name']\n",
    "\n",
    "print(df.shape)\n",
    "df = df.merge(df_reg, on=['district_id'], how='left')\n",
    "print(df.shape)"
   ]
  },
  {
   "cell_type": "code",
   "execution_count": 50,
   "metadata": {},
   "outputs": [
    {
     "name": "stdout",
     "output_type": "stream",
     "text": [
      "(3513, 7)\n",
      "(4006, 13)\n",
      "(7066, 19)\n"
     ]
    }
   ],
   "source": [
    "# join chapter to district data for view 2\n",
    "df_2 = df[df.group_state.eq('All Students') & df.grade.eq('All')]\n",
    "df_charter = df_2[df_2['charter_flag'] == 1]\n",
    "df_district = df_2[df_2['charter_flag'] != 1]\n",
    "\n",
    "df_2 = pd.read_csv('./data/finalized/charter_to_district.csv', dtype={'year':str})\n",
    "print(df_2.shape)\n",
    "df_2 = df_2.merge(df_charter, left_on=['year', 'charter_lea_code'], right_on=['year', 'district_id'], how='outer')\n",
    "print(df_2.shape)\n",
    "df_2 = df_2.merge(df_district, left_on=['year', 'sending_lea_code'], right_on=['year', 'district_id'], how='outer', suffixes=['_charter', '_district'])\n",
    "print(df_2.shape)"
   ]
  },
  {
   "cell_type": "code",
   "execution_count": 51,
   "metadata": {},
   "outputs": [
    {
     "name": "stdout",
     "output_type": "stream",
     "text": [
      "fy                            object\n",
      "year                           int64\n",
      "charter_lea_code               int64\n",
      "sending_lea_code               int64\n",
      "enrolled_n                     int64\n",
      "physical_charter_location     object\n",
      "chartered_to_serve           float64\n",
      "dtype: object\n",
      "(3513, 7)\n",
      "(966, 7)\n",
      "(239645, 13)\n",
      "(271979, 17)\n",
      "     fy  charter_lea_code  sending_lea_code  enrolled_n  \\\n",
      "0  fy21             409.0               3.0         2.0   \n",
      "1  fy21             409.0               3.0         2.0   \n",
      "2  fy21             409.0               3.0         2.0   \n",
      "3  fy21             409.0               3.0         2.0   \n",
      "4  fy21             409.0               3.0         2.0   \n",
      "\n",
      "  physical_charter_location  chartered_to_serve  \\\n",
      "0                       NaN                 NaN   \n",
      "1                       NaN                 NaN   \n",
      "2                       NaN                 NaN   \n",
      "3                       NaN                 NaN   \n",
      "4                       NaN                 NaN   \n",
      "\n",
      "                         district_charter grade   group_state  num_charter  \\\n",
      "0  Alma del Mar Charter School (District)     1  All Students        103.0   \n",
      "1  Alma del Mar Charter School (District)     1  All Students        102.0   \n",
      "2  Alma del Mar Charter School (District)     1  All Students         52.0   \n",
      "3  Alma del Mar Charter School (District)     1  All Students         49.0   \n",
      "4  Alma del Mar Charter School (District)     1  All Students         40.0   \n",
      "\n",
      "   year  district_id_charter  charter_flag_charter district_district  \\\n",
      "0  2021                409.0                   1.0          Acushnet   \n",
      "1  2020                409.0                   1.0          Acushnet   \n",
      "2  2019                409.0                   1.0          Acushnet   \n",
      "3  2018                409.0                   1.0          Acushnet   \n",
      "4  2017                409.0                   1.0          Acushnet   \n",
      "\n",
      "   num_district  district_id_district  charter_flag_district  \n",
      "0          83.0                   3.0                    NaN  \n",
      "1         127.0                   3.0                    NaN  \n",
      "2         105.0                   3.0                    NaN  \n",
      "3          81.0                   3.0                    NaN  \n",
      "4          99.0                   3.0                    NaN  \n"
     ]
    }
   ],
   "source": [
    "# create enrollment file with multipliers for views 3 & 4\n",
    "df_mult = pd.read_csv('./data/finalized/charter_to_district.csv')\n",
    "print(df_mult.dtypes)\n",
    "# df_totals = df_mult.groupby(['year', 'charter_lea_code'], as_index = False)['enrolled_n'].sum()\n",
    "# df_totals = df_totals.rename(columns={'enrolled_n':'total_enrolled'})\n",
    "# df_mult = df_mult.merge(df_totals, on=['year', 'sending_lea_code'])\n",
    "print(df_mult.shape)\n",
    "# df_mult['multiplier'] = df_mult['enrolled_n'] / df_mult['total_enrolled']\n",
    "\n",
    "# filter to just fy21, since we're missing many years in the data\n",
    "df_mult = df_mult[df_mult.fy.eq('fy21')]\n",
    "print(df_mult.shape)\n",
    "del df_mult['year']\n",
    "\n",
    "df_charter = df[df['charter_flag'] == 1]\n",
    "df_district = df[df['charter_flag'] != 1]\n",
    "\n",
    "df_mult = df_mult.merge(df_charter, left_on=['charter_lea_code'], right_on = ['district_id'], how='left')\n",
    "print(df_mult.shape)\n",
    "df_mult = df_mult.merge(df_district, left_on=['sending_lea_code', 'year', 'grade', 'group_state'], right_on = ['district_id', 'year', 'grade', 'group_state'], how='outer', suffixes=['_charter', '_district'])\n",
    "print(df_mult.shape)\n",
    "print(df_mult.head(5))"
   ]
  },
  {
   "cell_type": "code",
   "execution_count": 52,
   "metadata": {},
   "outputs": [],
   "source": [
    "# review grade/group/year breakdown of data\n",
    "# df.groupby(['year', 'grade', 'group_state'])['num'].sum().to_csv('temp.csv')"
   ]
  },
  {
   "cell_type": "code",
   "execution_count": 53,
   "metadata": {},
   "outputs": [],
   "source": [
    "# export final dataset\n",
    "df.to_csv('./data/finalized/enrollment.csv', index=False)"
   ]
  },
  {
   "cell_type": "code",
   "execution_count": 54,
   "metadata": {},
   "outputs": [],
   "source": [
    "df_2.to_csv('./data/finalized/enrollment2.csv', index=False)"
   ]
  },
  {
   "cell_type": "code",
   "execution_count": 55,
   "metadata": {},
   "outputs": [],
   "source": [
    "# export final mult dataset\n",
    "df_mult.to_csv('./data/finalized/enrollment_with_multipliers.csv', index=False)"
   ]
  },
  {
   "cell_type": "code",
   "execution_count": null,
   "metadata": {},
   "outputs": [],
   "source": []
  }
 ],
 "metadata": {
  "kernelspec": {
   "display_name": "Python 3",
   "language": "python",
   "name": "python3"
  },
  "language_info": {
   "codemirror_mode": {
    "name": "ipython",
    "version": 3
   },
   "file_extension": ".py",
   "mimetype": "text/x-python",
   "name": "python",
   "nbconvert_exporter": "python",
   "pygments_lexer": "ipython3",
   "version": "3.7.3"
  }
 },
 "nbformat": 4,
 "nbformat_minor": 4
}
