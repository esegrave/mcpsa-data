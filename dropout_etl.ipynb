{
 "cells": [
  {
   "cell_type": "code",
   "execution_count": 1,
   "metadata": {},
   "outputs": [
    {
     "name": "stdout",
     "output_type": "stream",
     "text": [
      "(38218, 11)\n",
      "   # Dropout All Grades  # Enrolled Grades 09 through 12  \\\n",
      "0                   1.0                            375.0   \n",
      "1                   3.0                            540.0   \n",
      "2                   1.0                            226.0   \n",
      "3                   8.0                           1834.0   \n",
      "4                   5.0                            292.0   \n",
      "\n",
      "   % Dropout All Grades  % Dropout Grade 09  % Dropout Grade 10  \\\n",
      "0                   0.3                 0.0                 0.0   \n",
      "1                   0.6                 0.6                 0.0   \n",
      "2                   0.4                 0.0                 1.4   \n",
      "3                   0.4                 0.0                 0.5   \n",
      "4                   1.7                 1.2                 0.0   \n",
      "\n",
      "   % Dropout Grade 11  % Dropout Grade 12 District Code  \\\n",
      "0                 0.0                 1.2      04450000   \n",
      "1                 0.8                 0.9      00010000   \n",
      "2                 0.0                 0.0      04120000   \n",
      "3                 0.0                 1.2      06000000   \n",
      "4                 2.7                 2.3      06030000   \n",
      "\n",
      "                                            district   group_state     year  \n",
      "0       Abby Kelley Foster Charter Public (District)  All Students  2018-19  \n",
      "1                                           Abington  All Students  2018-19  \n",
      "2  Academy Of the Pacific Rim Charter Public (Dis...  All Students  2018-19  \n",
      "3                                   Acton-Boxborough  All Students  2018-19  \n",
      "4                                     Adams-Cheshire  All Students  2018-19  \n"
     ]
    }
   ],
   "source": [
    "# import files\n",
    "import pandas as pd\n",
    "import numpy as np\n",
    "\n",
    "path = './data/dropout/raw/'\n",
    "\n",
    "years = ['2018-19', '2017-18', '2016-17', '2015-16', '2014-15', '2013-14', '2012-13', '2011-12', '2010-11', '2009-10']\n",
    "groups = ['All Students', 'Female', 'Male', 'Economically Disadvantaged', 'High Needs', 'English Learner', 'Low Income', 'Students with disabilities', 'African AmericanBlack', 'American Indian or Alaskan Native', 'Asian', 'Hispanic or Latino', 'Multi-race, non-Hispanic or Latino', 'Native Hawaiian or Pacific Islander', 'White']\n",
    "\n",
    "df = pd.DataFrame()\n",
    "\n",
    "for year in years:\n",
    "    for group in groups:\n",
    "        temp = pd.read_excel(path + 'ma_dropout_' + group + '_' + year + '.xlsx', dtype={'District Name':str,'District Code':str,'# Enrolled Grades 09 through 12':np.float64,'# Dropout All Grades':np.float64,'% Dropout All Grades':np.float64,'% Dropout Grade 09':np.float64,'% Dropout Grade 10':np.float64,'% Dropout Grade 11':np.float64,'% Dropout Grade 12':np.float64},skiprows=[0], thousands=',')\n",
    "        temp['year'] = year\n",
    "        temp['group_state'] = group\n",
    "        df = df.append(temp, ignore_index=True, sort=True)\n",
    "\n",
    "df = df.rename(columns={'District Name': 'district'})\n",
    "        \n",
    "print(df.shape)\n",
    "print(df.head(5))"
   ]
  },
  {
   "cell_type": "code",
   "execution_count": 2,
   "metadata": {},
   "outputs": [
    {
     "name": "stdout",
     "output_type": "stream",
     "text": [
      "(38218, 11)\n",
      "(38218, 11)\n",
      "(38078, 11)\n",
      "(37858, 11)\n",
      "148    Match Charter Public School (District)\n",
      "Name: district, dtype: object\n"
     ]
    }
   ],
   "source": [
    "# add manual data changes\n",
    "print(df.shape)\n",
    "\n",
    "# remove district totals & Horace Mann\n",
    "print(df.shape)\n",
    "df = df[df['District Code'] != '00000000']\n",
    "print(df.shape)\n",
    "df = df[~df['district'].str.contains('Horace Mann')]\n",
    "print(df.shape)\n",
    "\n",
    "df.district = df.district.str.replace('MATCH', 'Match', regex=False)\n",
    "print(df[df.district.str.contains('Match')].district.drop_duplicates())"
   ]
  },
  {
   "cell_type": "code",
   "execution_count": 3,
   "metadata": {},
   "outputs": [
    {
     "name": "stdout",
     "output_type": "stream",
     "text": [
      "(37858, 11)\n",
      "(37858, 11)\n"
     ]
    }
   ],
   "source": [
    "# drop rows with null values\n",
    "print(df.shape)\n",
    "df = df.dropna(subset=['# Dropout All Grades','# Enrolled Grades 09 through 12','% Dropout All Grades','% Dropout Grade 09','% Dropout Grade 10','% Dropout Grade 11','% Dropout Grade 12',], how='all')\n",
    "print(df.shape)"
   ]
  },
  {
   "cell_type": "code",
   "execution_count": 4,
   "metadata": {},
   "outputs": [
    {
     "name": "stdout",
     "output_type": "stream",
     "text": [
      "Index(['# Dropout All Grades', '# Enrolled Grades 09 through 12',\n",
      "       '% Dropout All Grades', '% Dropout Grade 09', '% Dropout Grade 10',\n",
      "       '% Dropout Grade 11', '% Dropout Grade 12', 'District Code', 'district',\n",
      "       'group_state', 'year'],\n",
      "      dtype='object')\n"
     ]
    }
   ],
   "source": [
    "print(df.columns)"
   ]
  },
  {
   "cell_type": "code",
   "execution_count": 5,
   "metadata": {},
   "outputs": [
    {
     "name": "stdout",
     "output_type": "stream",
     "text": [
      "0    0445\n",
      "1    0001\n",
      "2    0412\n",
      "3    0600\n",
      "4    0603\n",
      "Name: district_id, dtype: object\n"
     ]
    }
   ],
   "source": [
    "# remove last four digits of school code\n",
    "df['district_id'] = df.apply(lambda x: x['District Code'][:4], axis = 1)\n",
    "del df['District Code']\n",
    "print(df['district_id'].drop_duplicates().head(5))"
   ]
  },
  {
   "cell_type": "code",
   "execution_count": 6,
   "metadata": {},
   "outputs": [
    {
     "name": "stdout",
     "output_type": "stream",
     "text": [
      "# Dropout All Grades               float64\n",
      "# Enrolled Grades 09 through 12    float64\n",
      "% Dropout All Grades               float64\n",
      "% Dropout Grade 09                 float64\n",
      "% Dropout Grade 10                 float64\n",
      "% Dropout Grade 11                 float64\n",
      "% Dropout Grade 12                 float64\n",
      "district                            object\n",
      "group_state                         object\n",
      "year                                object\n",
      "district_id                         object\n",
      "dtype: object\n",
      "# Dropout All Grades               float64\n",
      "# Enrolled Grades 09 through 12    float64\n",
      "% Dropout All Grades               float64\n",
      "% Dropout Grade 09                 float64\n",
      "% Dropout Grade 10                 float64\n",
      "% Dropout Grade 11                 float64\n",
      "% Dropout Grade 12                 float64\n",
      "district                            object\n",
      "group_state                         object\n",
      "year                                object\n",
      "district_id                          int64\n",
      "dtype: object\n"
     ]
    }
   ],
   "source": [
    "print(df.dtypes)\n",
    "df['district_id'] = df['district_id'].astype('int64')\n",
    "print(df.dtypes)"
   ]
  },
  {
   "cell_type": "code",
   "execution_count": 7,
   "metadata": {},
   "outputs": [
    {
     "name": "stdout",
     "output_type": "stream",
     "text": [
      "(37858, 10)\n",
      "(37858, 11)\n"
     ]
    }
   ],
   "source": [
    "# use most recent district name per district_id\n",
    "df_leas = df[['year', 'district_id', 'district']]\n",
    "df_leas = df_leas.sort_values(['year', 'district_id', 'district'], ascending = False)\n",
    "df_leas = df_leas.drop_duplicates(subset=['district_id'])\n",
    "del df_leas['year']\n",
    "\n",
    "# join back to df\n",
    "del df['district']\n",
    "print(df.shape)\n",
    "df = df.merge(df_leas, on = ['district_id'])\n",
    "print(df.shape)"
   ]
  },
  {
   "cell_type": "code",
   "execution_count": 8,
   "metadata": {},
   "outputs": [
    {
     "name": "stdout",
     "output_type": "stream",
     "text": [
      "(37858, 11)\n",
      "(37858, 12)\n",
      "   # Dropout All Grades  # Enrolled Grades 09 through 12  \\\n",
      "0                   1.0                            375.0   \n",
      "1                   0.0                            196.0   \n",
      "2                   1.0                            179.0   \n",
      "3                   0.0                            110.0   \n",
      "4                   0.0                            148.0   \n",
      "\n",
      "   % Dropout All Grades  % Dropout Grade 09  % Dropout Grade 10  \\\n",
      "0                   0.3                 0.0                 0.0   \n",
      "1                   0.0                 0.0                 0.0   \n",
      "2                   0.6                 0.0                 0.0   \n",
      "3                   0.0                 0.0                 0.0   \n",
      "4                   0.0                 0.0                 0.0   \n",
      "\n",
      "   % Dropout Grade 11  % Dropout Grade 12                 group_state  \\\n",
      "0                 0.0                 1.2                All Students   \n",
      "1                 0.0                 0.0                      Female   \n",
      "2                 0.0                 2.1                        Male   \n",
      "3                 0.0                 0.0  Economically Disadvantaged   \n",
      "4                 0.0                 0.0                  High Needs   \n",
      "\n",
      "      year  district_id                                      district  \\\n",
      "0  2018-19          445  Abby Kelley Foster Charter Public (District)   \n",
      "1  2018-19          445  Abby Kelley Foster Charter Public (District)   \n",
      "2  2018-19          445  Abby Kelley Foster Charter Public (District)   \n",
      "3  2018-19          445  Abby Kelley Foster Charter Public (District)   \n",
      "4  2018-19          445  Abby Kelley Foster Charter Public (District)   \n",
      "\n",
      "   charter_flag  \n",
      "0           1.0  \n",
      "1           1.0  \n",
      "2           1.0  \n",
      "3           1.0  \n",
      "4           1.0  \n"
     ]
    }
   ],
   "source": [
    "# import file for charter flag\n",
    "df_flags = pd.read_csv('./data/finalized/charter_to_district.csv')\n",
    "df_flags = df_flags[df_flags.fy.eq('fy21')]\n",
    "df_flags = df_flags[['charter_lea_code']].drop_duplicates()\n",
    "df_flags = df_flags.rename(columns={'charter_lea_code': 'district_id'})\n",
    "df_flags['charter_flag'] = 1\n",
    "\n",
    "print(df.shape)\n",
    "df = df.merge(df_flags, on = ['district_id'], how = 'left')\n",
    "del df_flags\n",
    "print(df.shape)\n",
    "print(df.head(5))"
   ]
  },
  {
   "cell_type": "code",
   "execution_count": 9,
   "metadata": {},
   "outputs": [
    {
     "name": "stdout",
     "output_type": "stream",
     "text": [
      "0      2018-19\n",
      "13     2017-18\n",
      "27     2016-17\n",
      "40     2015-16\n",
      "52     2014-15\n",
      "63     2013-14\n",
      "74     2012-13\n",
      "86     2011-12\n",
      "97     2010-11\n",
      "108    2009-10\n",
      "Name: year, dtype: object\n",
      "0      2019\n",
      "13     2018\n",
      "27     2017\n",
      "40     2016\n",
      "52     2015\n",
      "63     2014\n",
      "74     2013\n",
      "86     2012\n",
      "97     2011\n",
      "108    2010\n",
      "Name: year, dtype: object\n"
     ]
    }
   ],
   "source": [
    "# edit year field\n",
    "print(df['year'].drop_duplicates())\n",
    "df['year'] = ['20' + x[-2:] for x in df['year']]\n",
    "print(df['year'].drop_duplicates())"
   ]
  },
  {
   "cell_type": "code",
   "execution_count": 10,
   "metadata": {},
   "outputs": [
    {
     "name": "stdout",
     "output_type": "stream",
     "text": [
      "Index(['# Dropout All Grades', '# Enrolled Grades 09 through 12',\n",
      "       '% Dropout All Grades', '% Dropout Grade 09', '% Dropout Grade 10',\n",
      "       '% Dropout Grade 11', '% Dropout Grade 12', 'group_state', 'year',\n",
      "       'district_id', 'district', 'charter_flag'],\n",
      "      dtype='object')\n"
     ]
    }
   ],
   "source": [
    "print(df.columns)"
   ]
  },
  {
   "cell_type": "code",
   "execution_count": 11,
   "metadata": {},
   "outputs": [
    {
     "name": "stdout",
     "output_type": "stream",
     "text": [
      "   Charter LEA ID                                   Charter LEA Name  \\\n",
      "0         4070405  Dudley Street Neighborhood Charter School (Dis...   \n",
      "1         4090205  Alma del Mar Charter School (District) - Alma ...   \n",
      "2         4100205  Excel Academy Charter (District) - Excel Acade...   \n",
      "3         4110305  Boston Green Academy Horace Mann Charter Schoo...   \n",
      "4         4120530  Academy Of the Pacific Rim Charter Public (Dis...   \n",
      "\n",
      "  Regional Affiliation/s Geographic Location/s  \n",
      "0                 Boston                Boston  \n",
      "1                Gateway          Southeastern  \n",
      "2                 Boston                Boston  \n",
      "3                 Boston                Boston  \n",
      "4                 Boston                Boston  \n",
      "(37858, 12)\n",
      "(39042, 14)\n"
     ]
    }
   ],
   "source": [
    "# join charter reg and geo file\n",
    "df_reg = pd.read_csv('./data/finalized/MCPSA Charter Reg and Geo Affiliations.csv')\n",
    "df_reg = df_reg[['Charter LEA ID', 'Charter LEA Name', 'Regional Affiliation/s', 'Geographic Location/s']]\n",
    "print(df_reg.head(5))\n",
    "df_reg['district_id'] = df_reg.apply(lambda x: int(x['Charter LEA ID'] / 10000), axis = 1)\n",
    "del df_reg['Charter LEA ID']\n",
    "del df_reg['Charter LEA Name']\n",
    "\n",
    "print(df.shape)\n",
    "df = df.merge(df_reg, on=['district_id'], how='left')\n",
    "print(df.shape)"
   ]
  },
  {
   "cell_type": "code",
   "execution_count": 12,
   "metadata": {},
   "outputs": [
    {
     "name": "stdout",
     "output_type": "stream",
     "text": [
      "Index(['# Dropout All Grades', '# Enrolled Grades 09 through 12',\n",
      "       '% Dropout All Grades', '% Dropout Grade 09', '% Dropout Grade 10',\n",
      "       '% Dropout Grade 11', '% Dropout Grade 12', 'group_state', 'year',\n",
      "       'district_id', 'district', 'charter_flag', 'Regional Affiliation/s',\n",
      "       'Geographic Location/s'],\n",
      "      dtype='object')\n"
     ]
    }
   ],
   "source": [
    "print(df.columns)"
   ]
  },
  {
   "cell_type": "code",
   "execution_count": 13,
   "metadata": {},
   "outputs": [
    {
     "name": "stdout",
     "output_type": "stream",
     "text": [
      "charter_lea_code               int64\n",
      "sending_lea_code             float64\n",
      "enrolled_n                   float64\n",
      "physical_charter_location     object\n",
      "chartered_to_serve           float64\n",
      "dtype: object\n",
      "(1053, 5)\n"
     ]
    }
   ],
   "source": [
    "# import charter_to_district data for calculating multipliers\n",
    "df_mult = pd.read_csv('./data/finalized/charter_to_district_edited.csv')\n",
    "print(df_mult.dtypes)\n",
    "print(df_mult.shape)"
   ]
  },
  {
   "cell_type": "code",
   "execution_count": 14,
   "metadata": {},
   "outputs": [
    {
     "name": "stdout",
     "output_type": "stream",
     "text": [
      "sending_lea_code      int64\n",
      "enrolled_n          float64\n",
      "dtype: object\n",
      "(253, 2)\n"
     ]
    }
   ],
   "source": [
    "# import district_remainders data for calculating multipliers\n",
    "df_enrollment = pd.read_csv('./data/finalized/district_remainders.csv')\n",
    "print(df_enrollment.dtypes)\n",
    "print(df_enrollment.shape)"
   ]
  },
  {
   "cell_type": "code",
   "execution_count": 15,
   "metadata": {},
   "outputs": [
    {
     "name": "stdout",
     "output_type": "stream",
     "text": [
      "(96661, 19)\n",
      "(96661, 31)\n",
      "Index(['charter_lea_code', 'sending_lea_code', 'enrolled_n',\n",
      "       'physical_charter_location', 'chartered_to_serve',\n",
      "       '# Dropout All Grades_charter',\n",
      "       '# Enrolled Grades 09 through 12_charter',\n",
      "       '% Dropout All Grades_charter', '% Dropout Grade 09_charter',\n",
      "       '% Dropout Grade 10_charter', '% Dropout Grade 11_charter',\n",
      "       '% Dropout Grade 12_charter', 'group_state', 'year',\n",
      "       'district_id_charter', 'district_charter', 'charter_flag_charter',\n",
      "       'Regional Affiliation/s_charter', 'Geographic Location/s_charter',\n",
      "       '# Dropout All Grades_district',\n",
      "       '# Enrolled Grades 09 through 12_district',\n",
      "       '% Dropout All Grades_district', '% Dropout Grade 09_district',\n",
      "       '% Dropout Grade 10_district', '% Dropout Grade 11_district',\n",
      "       '% Dropout Grade 12_district', 'district_id_district',\n",
      "       'district_district', 'charter_flag_district',\n",
      "       'Regional Affiliation/s_district', 'Geographic Location/s_district'],\n",
      "      dtype='object')\n"
     ]
    }
   ],
   "source": [
    "# join charter_to_district to data\n",
    "df_charter = df[df['charter_flag'] == 1]\n",
    "df_district = df[df['charter_flag'] != 1]\n",
    "\n",
    "df_mult = df_mult.merge(df_charter, left_on=['charter_lea_code'], right_on = ['district_id'], how='left')\n",
    "print(df_mult.shape)\n",
    "df_mult = df_mult.merge(df_district, left_on=['sending_lea_code', 'year', 'group_state'], right_on = ['district_id', 'year','group_state'], how='left', suffixes=['_charter', '_district'])\n",
    "print(df_mult.shape)\n",
    "print(df_mult.columns)"
   ]
  },
  {
   "cell_type": "code",
   "execution_count": 16,
   "metadata": {},
   "outputs": [
    {
     "name": "stdout",
     "output_type": "stream",
     "text": [
      "Index(['# Dropout All Grades_district',\n",
      "       '# Enrolled Grades 09 through 12_district',\n",
      "       '% Dropout All Grades_district', '% Dropout Grade 09_district',\n",
      "       '% Dropout Grade 10_district', '% Dropout Grade 11_district',\n",
      "       '% Dropout Grade 12_district', 'group_state', 'year',\n",
      "       'district_id_district', 'district_district', 'charter_flag_district',\n",
      "       'Regional Affiliation/s_district', 'Geographic Location/s_district',\n",
      "       'sending_lea_code', 'enrolled_n'],\n",
      "      dtype='object')\n"
     ]
    }
   ],
   "source": [
    "# join enrollment remainders to district data\n",
    "df_district.columns = df_district.columns.map(lambda x: str(x) + '_district')\n",
    "df_district = df_district.rename(columns={'year_district': 'year', 'group_state_district': 'group_state'})\n",
    "df_district = df_district.merge(df_enrollment, left_on=['district_id_district'], right_on=['sending_lea_code'], how='inner')\n",
    "print(df_district.columns)"
   ]
  },
  {
   "cell_type": "code",
   "execution_count": 17,
   "metadata": {},
   "outputs": [
    {
     "name": "stdout",
     "output_type": "stream",
     "text": [
      "(96661, 31)\n",
      "(27595, 16)\n",
      "(124256, 31)\n"
     ]
    }
   ],
   "source": [
    "# append back to other joined data\n",
    "print(df_mult.shape)\n",
    "print(df_district.shape)\n",
    "df_mult = df_mult.append(df_district, ignore_index=True, sort=True)\n",
    "print(df_mult.shape)"
   ]
  },
  {
   "cell_type": "code",
   "execution_count": 18,
   "metadata": {},
   "outputs": [],
   "source": [
    "# review grade/group/year breakdown of data\n",
    "# df.groupby(['year', 'grade', 'group_state'])['num'].sum().to_csv('temp.csv')"
   ]
  },
  {
   "cell_type": "code",
   "execution_count": 19,
   "metadata": {},
   "outputs": [],
   "source": [
    "# export grad dataset for QA\n",
    "df.to_csv('./data/finalized/dropout.csv')"
   ]
  },
  {
   "cell_type": "code",
   "execution_count": 20,
   "metadata": {},
   "outputs": [
    {
     "name": "stdout",
     "output_type": "stream",
     "text": [
      "(124256, 31)\n",
      "(123964, 31)\n"
     ]
    }
   ],
   "source": [
    "# export final dataset\n",
    "print(df_mult.shape)\n",
    "df_mult = df_mult.dropna(subset=['year'])\n",
    "print(df_mult.shape)\n",
    "df_mult.to_csv('./data/finalized/dropout_with_multipliers.csv', index=False)"
   ]
  },
  {
   "cell_type": "code",
   "execution_count": null,
   "metadata": {},
   "outputs": [],
   "source": []
  }
 ],
 "metadata": {
  "kernelspec": {
   "display_name": "Python 3",
   "language": "python",
   "name": "python3"
  },
  "language_info": {
   "codemirror_mode": {
    "name": "ipython",
    "version": 3
   },
   "file_extension": ".py",
   "mimetype": "text/x-python",
   "name": "python",
   "nbconvert_exporter": "python",
   "pygments_lexer": "ipython3",
   "version": "3.7.3"
  }
 },
 "nbformat": 4,
 "nbformat_minor": 4
}
