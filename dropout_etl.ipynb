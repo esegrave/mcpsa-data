{
 "cells": [
  {
   "cell_type": "code",
   "execution_count": 28,
   "metadata": {},
   "outputs": [
    {
     "name": "stdout",
     "output_type": "stream",
     "text": [
      "(38218, 11)\n",
      "   # Dropout All Grades  # Enrolled Grades 09 through 12  \\\n",
      "0                   1.0                            375.0   \n",
      "1                   3.0                            540.0   \n",
      "2                   1.0                            226.0   \n",
      "3                   8.0                           1834.0   \n",
      "4                   5.0                            292.0   \n",
      "\n",
      "   % Dropout All Grades  % Dropout Grade 09  % Dropout Grade 10  \\\n",
      "0                   0.3                 0.0                 0.0   \n",
      "1                   0.6                 0.6                 0.0   \n",
      "2                   0.4                 0.0                 1.4   \n",
      "3                   0.4                 0.0                 0.5   \n",
      "4                   1.7                 1.2                 0.0   \n",
      "\n",
      "   % Dropout Grade 11  % Dropout Grade 12 District Code  \\\n",
      "0                 0.0                 1.2      04450000   \n",
      "1                 0.8                 0.9      00010000   \n",
      "2                 0.0                 0.0      04120000   \n",
      "3                 0.0                 1.2      06000000   \n",
      "4                 2.7                 2.3      06030000   \n",
      "\n",
      "                                            district   group_state     year  \n",
      "0       Abby Kelley Foster Charter Public (District)  All Students  2018-19  \n",
      "1                                           Abington  All Students  2018-19  \n",
      "2  Academy Of the Pacific Rim Charter Public (Dis...  All Students  2018-19  \n",
      "3                                   Acton-Boxborough  All Students  2018-19  \n",
      "4                                     Adams-Cheshire  All Students  2018-19  \n"
     ]
    }
   ],
   "source": [
    "# import files\n",
    "import pandas as pd\n",
    "import numpy as np\n",
    "\n",
    "path = './data/dropout/raw/'\n",
    "\n",
    "years = ['2018-19', '2017-18', '2016-17', '2015-16', '2014-15', '2013-14', '2012-13', '2011-12', '2010-11', '2009-10']\n",
    "groups = ['All Students', 'Female', 'Male', 'Economically Disadvantaged', 'High Needs', 'English Learner', 'Low Income', 'Students with disabilities', 'African AmericanBlack', 'American Indian or Alaskan Native', 'Asian', 'Hispanic or Latino', 'Multi-race, non-Hispanic or Latino', 'Native Hawaiian or Pacific Islander', 'White']\n",
    "\n",
    "df = pd.DataFrame()\n",
    "\n",
    "for year in years:\n",
    "    for group in groups:\n",
    "        temp = pd.read_excel(path + 'ma_dropout_' + group + '_' + year + '.xlsx', dtype={'District Name':str,'District Code':str,'# Enrolled Grades 09 through 12':np.float64,'# Dropout All Grades':np.float64,'% Dropout All Grades':np.float64,'% Dropout Grade 09':np.float64,'% Dropout Grade 10':np.float64,'% Dropout Grade 11':np.float64,'% Dropout Grade 12':np.float64},skiprows=[0], thousands=',')\n",
    "        temp['year'] = year\n",
    "        temp['group_state'] = group\n",
    "        df = df.append(temp, ignore_index=True, sort=True)\n",
    "\n",
    "df = df.rename(columns={'District Name': 'district'})\n",
    "        \n",
    "print(df.shape)\n",
    "print(df.head(5))"
   ]
  },
  {
   "cell_type": "code",
   "execution_count": 29,
   "metadata": {},
   "outputs": [
    {
     "name": "stdout",
     "output_type": "stream",
     "text": [
      "(38218, 11)\n",
      "(38218, 11)\n",
      "(38116, 11)\n",
      "(38116, 11)\n",
      "(38116, 11)\n",
      "(37985, 11)\n",
      "(37942, 11)\n",
      "(37942, 11)\n",
      "(37942, 11)\n",
      "(37942, 11)\n",
      "(37942, 11)\n",
      "(37942, 11)\n",
      "(37802, 11)\n",
      "(37802, 11)\n"
     ]
    }
   ],
   "source": [
    "# add manual data changes\n",
    "print(df.shape)\n",
    "df = df[df['District Code'] != '04070000']\n",
    "print(df.shape)\n",
    "df = df[df['District Code'] != '04110000']\n",
    "print(df.shape)\n",
    "df = df[df['District Code'] != '04230000']\n",
    "print(df.shape)\n",
    "df = df[df['District Code'] != '04270000']\n",
    "print(df.shape)\n",
    "df = df[df['District Code'] != '04520000']\n",
    "print(df.shape)\n",
    "df = df[df['District Code'] != '04710000']\n",
    "print(df.shape)\n",
    "df = df[df['District Code'] != '04770000']\n",
    "print(df.shape)\n",
    "df = df[df['District Code'] != '04800000']\n",
    "print(df.shape)\n",
    "df = df[df['District Code'] != '35050000']\n",
    "print(df.shape)\n",
    "df = df[df['District Code'] != '35110000']\n",
    "print(df.shape)\n",
    "\n",
    "# remove district totals & Horace Mann\n",
    "print(df.shape)\n",
    "df = df[df['District Code'] != '00000000']\n",
    "print(df.shape)\n",
    "df = df[~df['district'].str.contains('Horace Mann')]\n",
    "print(df.shape)"
   ]
  },
  {
   "cell_type": "code",
   "execution_count": 30,
   "metadata": {},
   "outputs": [
    {
     "name": "stdout",
     "output_type": "stream",
     "text": [
      "(37802, 11)\n",
      "(37802, 11)\n"
     ]
    }
   ],
   "source": [
    "# drop rows with null values\n",
    "print(df.shape)\n",
    "df = df.dropna(subset=['# Dropout All Grades','# Enrolled Grades 09 through 12','% Dropout All Grades','% Dropout Grade 09','% Dropout Grade 10','% Dropout Grade 11','% Dropout Grade 12',], how='all')\n",
    "print(df.shape)"
   ]
  },
  {
   "cell_type": "code",
   "execution_count": 31,
   "metadata": {},
   "outputs": [
    {
     "name": "stdout",
     "output_type": "stream",
     "text": [
      "Index(['# Dropout All Grades', '# Enrolled Grades 09 through 12',\n",
      "       '% Dropout All Grades', '% Dropout Grade 09', '% Dropout Grade 10',\n",
      "       '% Dropout Grade 11', '% Dropout Grade 12', 'District Code', 'district',\n",
      "       'group_state', 'year'],\n",
      "      dtype='object')\n"
     ]
    }
   ],
   "source": [
    "print(df.columns)"
   ]
  },
  {
   "cell_type": "code",
   "execution_count": 32,
   "metadata": {},
   "outputs": [
    {
     "name": "stdout",
     "output_type": "stream",
     "text": [
      "0    0445\n",
      "1    0001\n",
      "2    0412\n",
      "3    0600\n",
      "4    0603\n",
      "Name: district_id, dtype: object\n"
     ]
    }
   ],
   "source": [
    "# remove last four digits of school code\n",
    "df['district_id'] = df.apply(lambda x: x['District Code'][:4], axis = 1)\n",
    "del df['District Code']\n",
    "print(df['district_id'].drop_duplicates().head(5))"
   ]
  },
  {
   "cell_type": "code",
   "execution_count": 33,
   "metadata": {},
   "outputs": [
    {
     "name": "stdout",
     "output_type": "stream",
     "text": [
      "# Dropout All Grades               float64\n",
      "# Enrolled Grades 09 through 12    float64\n",
      "% Dropout All Grades               float64\n",
      "% Dropout Grade 09                 float64\n",
      "% Dropout Grade 10                 float64\n",
      "% Dropout Grade 11                 float64\n",
      "% Dropout Grade 12                 float64\n",
      "district                            object\n",
      "group_state                         object\n",
      "year                                object\n",
      "district_id                         object\n",
      "dtype: object\n",
      "# Dropout All Grades               float64\n",
      "# Enrolled Grades 09 through 12    float64\n",
      "% Dropout All Grades               float64\n",
      "% Dropout Grade 09                 float64\n",
      "% Dropout Grade 10                 float64\n",
      "% Dropout Grade 11                 float64\n",
      "% Dropout Grade 12                 float64\n",
      "district                            object\n",
      "group_state                         object\n",
      "year                                object\n",
      "district_id                          int64\n",
      "dtype: object\n"
     ]
    }
   ],
   "source": [
    "print(df.dtypes)\n",
    "df['district_id'] = df['district_id'].astype('int64')\n",
    "print(df.dtypes)"
   ]
  },
  {
   "cell_type": "code",
   "execution_count": 34,
   "metadata": {},
   "outputs": [
    {
     "name": "stdout",
     "output_type": "stream",
     "text": [
      "(37802, 10)\n",
      "(37802, 11)\n"
     ]
    }
   ],
   "source": [
    "# use most recent district name per district_id\n",
    "df_leas = df[['year', 'district_id', 'district']]\n",
    "df_leas = df_leas.sort_values(['year', 'district_id', 'district'], ascending = False)\n",
    "df_leas = df_leas.drop_duplicates(subset=['district_id'])\n",
    "del df_leas['year']\n",
    "\n",
    "# join back to df\n",
    "del df['district']\n",
    "print(df.shape)\n",
    "df = df.merge(df_leas, on = ['district_id'])\n",
    "print(df.shape)"
   ]
  },
  {
   "cell_type": "code",
   "execution_count": 35,
   "metadata": {},
   "outputs": [
    {
     "name": "stdout",
     "output_type": "stream",
     "text": [
      "(37802, 11)\n",
      "(37802, 12)\n",
      "   # Dropout All Grades  # Enrolled Grades 09 through 12  \\\n",
      "0                   1.0                            375.0   \n",
      "1                   0.0                            196.0   \n",
      "2                   1.0                            179.0   \n",
      "3                   0.0                            110.0   \n",
      "4                   0.0                            148.0   \n",
      "\n",
      "   % Dropout All Grades  % Dropout Grade 09  % Dropout Grade 10  \\\n",
      "0                   0.3                 0.0                 0.0   \n",
      "1                   0.0                 0.0                 0.0   \n",
      "2                   0.6                 0.0                 0.0   \n",
      "3                   0.0                 0.0                 0.0   \n",
      "4                   0.0                 0.0                 0.0   \n",
      "\n",
      "   % Dropout Grade 11  % Dropout Grade 12                 group_state  \\\n",
      "0                 0.0                 1.2                All Students   \n",
      "1                 0.0                 0.0                      Female   \n",
      "2                 0.0                 2.1                        Male   \n",
      "3                 0.0                 0.0  Economically Disadvantaged   \n",
      "4                 0.0                 0.0                  High Needs   \n",
      "\n",
      "      year  district_id                                      district  \\\n",
      "0  2018-19          445  Abby Kelley Foster Charter Public (District)   \n",
      "1  2018-19          445  Abby Kelley Foster Charter Public (District)   \n",
      "2  2018-19          445  Abby Kelley Foster Charter Public (District)   \n",
      "3  2018-19          445  Abby Kelley Foster Charter Public (District)   \n",
      "4  2018-19          445  Abby Kelley Foster Charter Public (District)   \n",
      "\n",
      "   charter_flag  \n",
      "0           1.0  \n",
      "1           1.0  \n",
      "2           1.0  \n",
      "3           1.0  \n",
      "4           1.0  \n"
     ]
    }
   ],
   "source": [
    "# import file for charter flag\n",
    "df_flags = pd.read_csv('./data/finalized/charter_to_district.csv')\n",
    "df_flags = df_flags[df_flags.fy.eq('fy21')]\n",
    "df_flags = df_flags[['charter_lea_code']].drop_duplicates()\n",
    "df_flags = df_flags.rename(columns={'charter_lea_code': 'district_id'})\n",
    "df_flags['charter_flag'] = 1\n",
    "\n",
    "print(df.shape)\n",
    "df = df.merge(df_flags, on = ['district_id'], how = 'left')\n",
    "del df_flags\n",
    "print(df.shape)\n",
    "print(df.head(5))"
   ]
  },
  {
   "cell_type": "code",
   "execution_count": 36,
   "metadata": {},
   "outputs": [
    {
     "name": "stdout",
     "output_type": "stream",
     "text": [
      "0      2018-19\n",
      "13     2017-18\n",
      "27     2016-17\n",
      "40     2015-16\n",
      "52     2014-15\n",
      "63     2013-14\n",
      "74     2012-13\n",
      "86     2011-12\n",
      "97     2010-11\n",
      "108    2009-10\n",
      "Name: year, dtype: object\n",
      "0      2019\n",
      "13     2018\n",
      "27     2017\n",
      "40     2016\n",
      "52     2015\n",
      "63     2014\n",
      "74     2013\n",
      "86     2012\n",
      "97     2011\n",
      "108    2010\n",
      "Name: year, dtype: object\n"
     ]
    }
   ],
   "source": [
    "# edit year field\n",
    "print(df['year'].drop_duplicates())\n",
    "df['year'] = ['20' + x[-2:] for x in df['year']]\n",
    "print(df['year'].drop_duplicates())"
   ]
  },
  {
   "cell_type": "code",
   "execution_count": 37,
   "metadata": {},
   "outputs": [
    {
     "name": "stdout",
     "output_type": "stream",
     "text": [
      "Index(['# Dropout All Grades', '# Enrolled Grades 09 through 12',\n",
      "       '% Dropout All Grades', '% Dropout Grade 09', '% Dropout Grade 10',\n",
      "       '% Dropout Grade 11', '% Dropout Grade 12', 'group_state', 'year',\n",
      "       'district_id', 'district', 'charter_flag'],\n",
      "      dtype='object')\n"
     ]
    }
   ],
   "source": [
    "print(df.columns)"
   ]
  },
  {
   "cell_type": "code",
   "execution_count": 38,
   "metadata": {},
   "outputs": [
    {
     "name": "stdout",
     "output_type": "stream",
     "text": [
      "   Charter LEA ID                                   Charter LEA Name  \\\n",
      "0         4070405  Dudley Street Neighborhood Charter School (Dis...   \n",
      "1         4090205  Alma del Mar Charter School (District) - Alma ...   \n",
      "2         4100205  Excel Academy Charter (District) - Excel Acade...   \n",
      "3         4110305  Boston Green Academy Horace Mann Charter Schoo...   \n",
      "4         4120530  Academy Of the Pacific Rim Charter Public (Dis...   \n",
      "\n",
      "  Regional Affiliation/s Geographic Location/s  \n",
      "0                 Boston                Boston  \n",
      "1                Gateway          Southeastern  \n",
      "2                 Boston                Boston  \n",
      "3                 Boston                Boston  \n",
      "4                 Boston                Boston  \n",
      "(37802, 12)\n",
      "(38986, 14)\n"
     ]
    }
   ],
   "source": [
    "# join charter reg and geo file\n",
    "df_reg = pd.read_csv('./data/finalized/MCPSA Charter Reg and Geo Affiliations.csv')\n",
    "df_reg = df_reg[['Charter LEA ID', 'Charter LEA Name', 'Regional Affiliation/s', 'Geographic Location/s']]\n",
    "print(df_reg.head(5))\n",
    "df_reg['district_id'] = df_reg.apply(lambda x: int(x['Charter LEA ID'] / 10000), axis = 1)\n",
    "del df_reg['Charter LEA ID']\n",
    "del df_reg['Charter LEA Name']\n",
    "\n",
    "print(df.shape)\n",
    "df = df.merge(df_reg, on=['district_id'], how='left')\n",
    "print(df.shape)"
   ]
  },
  {
   "cell_type": "code",
   "execution_count": 39,
   "metadata": {},
   "outputs": [
    {
     "name": "stdout",
     "output_type": "stream",
     "text": [
      "Index(['# Dropout All Grades', '# Enrolled Grades 09 through 12',\n",
      "       '% Dropout All Grades', '% Dropout Grade 09', '% Dropout Grade 10',\n",
      "       '% Dropout Grade 11', '% Dropout Grade 12', 'group_state', 'year',\n",
      "       'district_id', 'district', 'charter_flag', 'Regional Affiliation/s',\n",
      "       'Geographic Location/s'],\n",
      "      dtype='object')\n"
     ]
    }
   ],
   "source": [
    "print(df.columns)"
   ]
  },
  {
   "cell_type": "code",
   "execution_count": 40,
   "metadata": {},
   "outputs": [
    {
     "name": "stdout",
     "output_type": "stream",
     "text": [
      "fy                            object\n",
      "year                           int64\n",
      "charter_lea_code               int64\n",
      "sending_lea_code               int64\n",
      "enrolled_n                     int64\n",
      "physical_charter_location     object\n",
      "chartered_to_serve           float64\n",
      "dtype: object\n",
      "(3513, 7)\n",
      "(966, 7)\n",
      "(90528, 20)\n",
      "(99982, 32)\n",
      "     fy  charter_lea_code  sending_lea_code  enrolled_n  \\\n",
      "0  fy21             409.0               3.0         2.0   \n",
      "1  fy21             409.0              72.0         1.0   \n",
      "2  fy21             409.0              94.0         3.0   \n",
      "3  fy21             409.0             201.0       643.0   \n",
      "4  fy21             409.0             293.0         1.0   \n",
      "\n",
      "  physical_charter_location  chartered_to_serve  # Dropout All Grades_charter  \\\n",
      "0                       NaN                 NaN                           NaN   \n",
      "1                       NaN                 NaN                           NaN   \n",
      "2                       NaN                 NaN                           NaN   \n",
      "3                         Y                 1.0                           NaN   \n",
      "4                       NaN                 NaN                           NaN   \n",
      "\n",
      "   # Enrolled Grades 09 through 12_charter  % Dropout All Grades_charter  \\\n",
      "0                                      NaN                           NaN   \n",
      "1                                      NaN                           NaN   \n",
      "2                                      NaN                           NaN   \n",
      "3                                      NaN                           NaN   \n",
      "4                                      NaN                           NaN   \n",
      "\n",
      "   % Dropout Grade 09_charter  ...  % Dropout All Grades_district  \\\n",
      "0                         NaN  ...                            NaN   \n",
      "1                         NaN  ...                            NaN   \n",
      "2                         NaN  ...                            NaN   \n",
      "3                         NaN  ...                            NaN   \n",
      "4                         NaN  ...                            NaN   \n",
      "\n",
      "   % Dropout Grade 09_district  % Dropout Grade 10_district  \\\n",
      "0                          NaN                          NaN   \n",
      "1                          NaN                          NaN   \n",
      "2                          NaN                          NaN   \n",
      "3                          NaN                          NaN   \n",
      "4                          NaN                          NaN   \n",
      "\n",
      "  % Dropout Grade 11_district % Dropout Grade 12_district  \\\n",
      "0                         NaN                         NaN   \n",
      "1                         NaN                         NaN   \n",
      "2                         NaN                         NaN   \n",
      "3                         NaN                         NaN   \n",
      "4                         NaN                         NaN   \n",
      "\n",
      "   district_id_district district_district  charter_flag_district  \\\n",
      "0                   NaN               NaN                    NaN   \n",
      "1                   NaN               NaN                    NaN   \n",
      "2                   NaN               NaN                    NaN   \n",
      "3                   NaN               NaN                    NaN   \n",
      "4                   NaN               NaN                    NaN   \n",
      "\n",
      "  Regional Affiliation/s_district Geographic Location/s_district  \n",
      "0                             NaN                            NaN  \n",
      "1                             NaN                            NaN  \n",
      "2                             NaN                            NaN  \n",
      "3                             NaN                            NaN  \n",
      "4                             NaN                            NaN  \n",
      "\n",
      "[5 rows x 32 columns]\n"
     ]
    }
   ],
   "source": [
    "# join charter_to_district data for calculating multipliers\n",
    "df_mult = pd.read_csv('./data/finalized/charter_to_district.csv')\n",
    "print(df_mult.dtypes)\n",
    "print(df_mult.shape)\n",
    "\n",
    "# filter to just fy21, since we're missing many years in the data\n",
    "df_mult = df_mult[df_mult.fy.eq('fy21')]\n",
    "print(df_mult.shape)\n",
    "del df_mult['year']\n",
    "\n",
    "df_charter = df[df['charter_flag'] == 1]\n",
    "df_district = df[df['charter_flag'] != 1]\n",
    "\n",
    "df_mult = df_mult.merge(df_charter, left_on=['charter_lea_code'], right_on = ['district_id'], how='left')\n",
    "print(df_mult.shape)\n",
    "df_mult = df_mult.merge(df_district, left_on=['sending_lea_code', 'year', 'group_state'], right_on = ['district_id', 'year','group_state'], how='outer', suffixes=['_charter', '_district'])\n",
    "print(df_mult.shape)\n",
    "print(df_mult.head(5))"
   ]
  },
  {
   "cell_type": "code",
   "execution_count": 41,
   "metadata": {},
   "outputs": [],
   "source": [
    "# review grade/group/year breakdown of data\n",
    "# df.groupby(['year', 'grade', 'group_state'])['num'].sum().to_csv('temp.csv')"
   ]
  },
  {
   "cell_type": "code",
   "execution_count": 42,
   "metadata": {},
   "outputs": [],
   "source": [
    "# export grad dataset for QA\n",
    "df.to_csv('./data/finalized/dropout.csv')"
   ]
  },
  {
   "cell_type": "code",
   "execution_count": 43,
   "metadata": {},
   "outputs": [],
   "source": [
    "# export final dataset\n",
    "df_mult.to_csv('./data/finalized/dropout_with_multipliers.csv', index=False)"
   ]
  },
  {
   "cell_type": "code",
   "execution_count": null,
   "metadata": {},
   "outputs": [],
   "source": []
  }
 ],
 "metadata": {
  "kernelspec": {
   "display_name": "Python 3",
   "language": "python",
   "name": "python3"
  },
  "language_info": {
   "codemirror_mode": {
    "name": "ipython",
    "version": 3
   },
   "file_extension": ".py",
   "mimetype": "text/x-python",
   "name": "python",
   "nbconvert_exporter": "python",
   "pygments_lexer": "ipython3",
   "version": "3.7.3"
  }
 },
 "nbformat": 4,
 "nbformat_minor": 4
}
