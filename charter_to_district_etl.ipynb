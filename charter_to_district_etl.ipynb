{
 "cells": [
  {
   "cell_type": "code",
   "execution_count": 13,
   "metadata": {},
   "outputs": [],
   "source": [
    "import pandas as pd\n",
    "import numpy as np"
   ]
  },
  {
   "cell_type": "code",
   "execution_count": 14,
   "metadata": {},
   "outputs": [
    {
     "name": "stdout",
     "output_type": "stream",
     "text": [
      "fy                            object\n",
      "year                           int64\n",
      "charter_lea_code               int64\n",
      "sending_lea_code               int64\n",
      "enrolled_n                     int64\n",
      "physical_charter_location     object\n",
      "chartered_to_serve           float64\n",
      "dtype: object\n",
      "(5588, 7)\n",
      "(1029, 7)\n"
     ]
    }
   ],
   "source": [
    "# edit charter_to_district data for calculating multipliers\n",
    "df_mult = pd.read_csv('./data/finalized/charter_to_district.csv')\n",
    "print(df_mult.dtypes)\n",
    "print(df_mult.shape)\n",
    "\n",
    "# filter to just fy21, since we're missing many years in the data\n",
    "df_mult = df_mult[df_mult.fy.eq('fy21')]\n",
    "print(df_mult.shape)\n",
    "del df_mult['year']\n",
    "del df_mult['fy']"
   ]
  },
  {
   "cell_type": "code",
   "execution_count": 15,
   "metadata": {},
   "outputs": [
    {
     "name": "stdout",
     "output_type": "stream",
     "text": [
      "   sending_lea_code  enrolled_n\n",
      "0               780        3532\n",
      "1               778        1158\n",
      "2               775        6535\n",
      "3               774         355\n",
      "4               773        2129\n"
     ]
    }
   ],
   "source": [
    "# create enrollment remainders for all district schools\n",
    "df_enrollment = pd.read_csv('./data/finalized/district_enrollment.csv', dtype={'num': np.int64, 'district_id': np.int64})\n",
    "df_enrollment = df_enrollment.rename(columns={'district_id': 'sending_lea_code'})\n",
    "df_sending = df_mult[['sending_lea_code', 'enrolled_n']].groupby('sending_lea_code',as_index=False)['enrolled_n'].sum()\n",
    "\n",
    "df_enrollment = df_enrollment.merge(df_sending, on='sending_lea_code')\n",
    "del df_sending\n",
    "df_enrollment['diff'] = df_enrollment['num'] - df_enrollment['enrolled_n']\n",
    "del df_enrollment['num']\n",
    "del df_enrollment['enrolled_n']\n",
    "df_enrollment = df_enrollment.rename(columns={'diff': 'enrolled_n'})\n",
    "print(df_enrollment.head(5))"
   ]
  },
  {
   "cell_type": "code",
   "execution_count": 16,
   "metadata": {},
   "outputs": [],
   "source": [
    "# export\n",
    "df_mult.to_csv('./data/finalized/charter_to_district_edited.csv', index=False)\n",
    "df_enrollment.to_csv('./data/finalized/district_remainders.csv', index=False)"
   ]
  },
  {
   "cell_type": "code",
   "execution_count": null,
   "metadata": {},
   "outputs": [],
   "source": []
  }
 ],
 "metadata": {
  "kernelspec": {
   "display_name": "Python 3",
   "language": "python",
   "name": "python3"
  },
  "language_info": {
   "codemirror_mode": {
    "name": "ipython",
    "version": 3
   },
   "file_extension": ".py",
   "mimetype": "text/x-python",
   "name": "python",
   "nbconvert_exporter": "python",
   "pygments_lexer": "ipython3",
   "version": "3.7.3"
  }
 },
 "nbformat": 4,
 "nbformat_minor": 4
}
